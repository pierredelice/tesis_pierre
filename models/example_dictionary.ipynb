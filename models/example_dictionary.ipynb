{
 "cells": [
  {
   "cell_type": "code",
   "execution_count": 28,
   "metadata": {},
   "outputs": [],
   "source": [
    "import pandas as pd \n",
    "import numpy as np\n",
    "import os\n",
    "from unidecode import unidecode"
   ]
  },
  {
   "cell_type": "code",
   "execution_count": 2,
   "metadata": {},
   "outputs": [],
   "source": [
    "file_path = 'data/dictionario_es/ElhPolar_Senticon.lex'"
   ]
  },
  {
   "cell_type": "code",
   "execution_count": 31,
   "metadata": {},
   "outputs": [
    {
     "data": {
      "text/plain": [
       "(14311,\n",
       " [('a ciegas', 2),\n",
       "  ('a flote', 1),\n",
       "  ('a la deriva', 2),\n",
       "  ('a la moda', 1),\n",
       "  ('a la sombra', 2)])"
      ]
     },
     "execution_count": 31,
     "metadata": {},
     "output_type": "execute_result"
    }
   ],
   "source": [
    "file_path = 'data/dictionario_es/ElhPolar_Senticon.lex'\n",
    "\n",
    "# Re-loading the lexicon with additional checks for proper format\n",
    "sentiment_dict = {}\n",
    "\n",
    "with open(file_path, 'r', encoding='utf-8') as file:\n",
    "    for line in file:\n",
    "        parts = line.strip().split()\n",
    "        if len(parts) == 2:\n",
    "            try:\n",
    "                score = int(parts[0])\n",
    "                phrase = parts[1]\n",
    "                sentiment_dict[phrase] = score\n",
    "            except ValueError:\n",
    "                # Skip lines where the first part is not an integer\n",
    "                continue\n",
    "sentiment_dict = {unidecode(key.replace(\"_\", \" \")):value for key, value in sentiment_dict.items()}\n",
    "# Checking the size of the dictionary and a few entries again\n",
    "len(sentiment_dict), list(sentiment_dict.items())[:5]"
   ]
  },
  {
   "cell_type": "code",
   "execution_count": 32,
   "metadata": {},
   "outputs": [
    {
     "name": "stdout",
     "output_type": "stream",
     "text": [
      "{2: 7849, 1: 6462}\n"
     ]
    }
   ],
   "source": [
    "# Create a dictionary to store the value counts\n",
    "value_counts = {}\n",
    "\n",
    "# Iterate through the values of the original dictionary\n",
    "for value in sentiment_dict.values():\n",
    "    # Check if the value is already in the value_counts dictionary, if not, initialize it to 1\n",
    "    if value not in value_counts:\n",
    "        value_counts[value] = 1\n",
    "    else:\n",
    "        # If the value is already in the dictionary, increment its count\n",
    "        value_counts[value] += 1\n",
    "\n",
    "# value_counts now contains the counts of each unique value in the original dictionary\n",
    "print(value_counts)"
   ]
  },
  {
   "cell_type": "code",
   "execution_count": 33,
   "metadata": {},
   "outputs": [],
   "source": [
    "import re\n",
    "\n",
    "def preprocess_text(text):\n",
    "    \"\"\"\n",
    "    Preprocess the text: tokenize, remove punctuation, and convert to lower case.\n",
    "    \"\"\"\n",
    "    # Remove punctuation and convert to lower case\n",
    "    text = re.sub(r'[^\\w\\s]', '', text).lower()\n",
    "    # Tokenize by splitting on whitespace\n",
    "    tokens = text.split()\n",
    "    return tokens\n",
    "\n",
    "def calculate_sentiment(text, sentiment_dict):\n",
    "    \"\"\"\n",
    "    Calculate the sentiment of the text based on the sentiment dictionary.\n",
    "    \"\"\"\n",
    "    tokens = preprocess_text(text)\n",
    "    sentiment_score = 0\n",
    "    matched_tokens = 0\n",
    "\n",
    "    for token in tokens:\n",
    "        if token in sentiment_dict:\n",
    "            sentiment_score += sentiment_dict[token]\n",
    "            matched_tokens += 1\n",
    "\n",
    "    # If no tokens were matched, return a neutral score\n",
    "    if matched_tokens == 0:\n",
    "        return 0\n",
    "    else:\n",
    "        # Average the sentiment score\n",
    "        return sentiment_score / matched_tokens\n",
    "\n",
    "# Function to calculate sentiment\n",
    "def calculate_sentiment(text, sentiment_dict):\n",
    "    tokens = preprocess_text(text)\n",
    "    sentiment_score = 0\n",
    "    matched_tokens = 0\n",
    "\n",
    "    for token in tokens:\n",
    "        if token in sentiment_dict:\n",
    "            sentiment_score += sentiment_dict[token]\n",
    "            matched_tokens += 1\n",
    "\n",
    "    return sentiment_score / matched_tokens if matched_tokens > 0 else 0\n",
    "\n",
    "# Assuming you have a DataFrame df and the text column is named 'text_column'\n",
    "# Replace 'text_column' with the actual name of your text column\n",
    "inflacion['content'].apply(lambda x: calculate_sentiment(x, sentiment_dict))\n",
    "\n"
   ]
  },
  {
   "cell_type": "code",
   "execution_count": 35,
   "metadata": {},
   "outputs": [
    {
     "data": {
      "text/plain": [
       "{1: 1.3636363636363635, 2: 1.3076923076923077}"
      ]
     },
     "execution_count": 35,
     "metadata": {},
     "output_type": "execute_result"
    }
   ],
   "source": [
    "# Your provided texts\n",
    "texts = {\n",
    "    1: \"el secretario general organizacion cooperacion desarrollo economico ocde jose angel gurria afirmo globalizacion es oxigeno positivo dejo atras mucha gente ahora culpa todo . en entrevista notimex excanciller mexicano aseguro globalizacion avanza debido comunicaciones tecnologia transmiten informacion tiempo real transformado sociedades . el problema globalizacion dejo atras mucha gente politicas publicas suficientemente visionarias generosas incluyentes incorporar todos recalco.\",\n",
    "    2: \"por elizabeth albarran el hecho actualice tarifa impuesto renta isr respecto inflacion positivo personas fisicas pues permite pagar realmente deben pesar perciban incremento salario aseguro nora morales vicepresidenta comision fiscal confederacion camaras industriales concamin . la finalidad actualice contribuyente pague impuestos corresponden pague mas salario actualizaba conforme inflacion tarifas no destinaba recursos fisco debia expuso entrevista experta temas fiscales ey. detallo actualizarse tarifas isr contribuyente saltaba renglon mucha facilidad.\"\n",
    "}\n",
    "\n",
    "# Calculate sentiment scores for each text\n",
    "sentiment_scores = {key: calculate_sentiment(text, sentiment_dict) for key, text in texts.items()}\n",
    "sentiment_scores\n",
    "\n"
   ]
  }
 ],
 "metadata": {
  "kernelspec": {
   "display_name": "Python 3",
   "language": "python",
   "name": "python3"
  },
  "language_info": {
   "codemirror_mode": {
    "name": "ipython",
    "version": 3
   },
   "file_extension": ".py",
   "mimetype": "text/x-python",
   "name": "python",
   "nbconvert_exporter": "python",
   "pygments_lexer": "ipython3",
   "version": "3.11.4"
  }
 },
 "nbformat": 4,
 "nbformat_minor": 2
}
