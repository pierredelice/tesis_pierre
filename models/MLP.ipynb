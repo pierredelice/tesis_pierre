{
 "cells": [
  {
   "cell_type": "markdown",
   "metadata": {},
   "source": [
    "## **MLP** model created by P.D. from scratch\n",
    "---"
   ]
  },
  {
   "cell_type": "markdown",
   "metadata": {},
   "source": [
    "# 1. Install dependencies and packages"
   ]
  },
  {
   "cell_type": "code",
   "execution_count": 1,
   "metadata": {},
   "outputs": [],
   "source": [
    "import pandas as pd \n",
    "import numpy as np \n",
    "import torch, torch.nn as nn\n",
    "import torch.optim as optim \n",
    "import tqdm \n",
    "from tqdm import tqdm\n",
    "import functools, sys\n",
    "from datasets import Dataset"
   ]
  },
  {
   "cell_type": "markdown",
   "metadata": {},
   "source": [
    "## Helper function"
   ]
  },
  {
   "cell_type": "markdown",
   "metadata": {},
   "source": [
    "## Set seed"
   ]
  },
  {
   "cell_type": "code",
   "execution_count": 2,
   "metadata": {},
   "outputs": [
    {
     "data": {
      "text/plain": [
       "<torch._C.Generator at 0x11e76b650>"
      ]
     },
     "execution_count": 2,
     "metadata": {},
     "output_type": "execute_result"
    }
   ],
   "source": [
    "seed = 43\n",
    "torch.manual_seed(seed)"
   ]
  },
  {
   "cell_type": "code",
   "execution_count": 3,
   "metadata": {},
   "outputs": [],
   "source": [
    "# @title Set random seed\n",
    "\n",
    "# @markdown Executing `set_seed(seed=seed)` you are setting the seed\n",
    "\n",
    "# for DL its critical to set the random seed so that students can have a\n",
    "# baseline to compare their results to expected results.\n",
    "# Read more here: https://pytorch.org/docs/stable/notes/randomness.html\n",
    "\n",
    "# Call the `set_seed` function in the exercises to ensure reproducibility.\n",
    "import random\n",
    "import torch\n",
    "\n",
    "def set_seed(seed=None, seed_torch=True):\n",
    "  \"\"\"\n",
    "  Handles variability by controlling sources of randomness\n",
    "  through set seed values\n",
    "\n",
    "  Args:\n",
    "    seed: Integer\n",
    "      Set the seed value to given integer.\n",
    "      If no seed, set seed value to random integer in the range 2^32\n",
    "    seed_torch: Bool\n",
    "      Seeds the random number generator for all devices to\n",
    "      offer some guarantees on reproducibility\n",
    "\n",
    "  Returns:\n",
    "    Nothing\n",
    "  \"\"\"\n",
    "  if seed is None:\n",
    "    seed = np.random.choice(2 ** 32)\n",
    "  random.seed(seed)\n",
    "  np.random.seed(seed)\n",
    "  if seed_torch:\n",
    "    torch.manual_seed(seed)\n",
    "    torch.cuda.manual_seed_all(seed)\n",
    "    torch.cuda.manual_seed(seed)\n",
    "    torch.backends.cudnn.benchmark = False\n",
    "    torch.backends.cudnn.deterministic = True\n",
    "  print(f'Random seed {seed} has been set.')\n",
    "\n",
    "\n",
    "# In case that `DataLoader` is used\n",
    "def seed_worker(worker_id):\n",
    "  \"\"\"\n",
    "  DataLoader will reseed workers following randomness in\n",
    "  multi-process data loading algorithm.\n",
    "\n",
    "  Args:\n",
    "    worker_id: integer\n",
    "      ID of subprocess to seed. 0 means that\n",
    "      the data will be loaded in the main process\n",
    "      Refer: https://pytorch.org/docs/stable/data.html#data-loading-randomness for more details\n",
    "\n",
    "  Returns:\n",
    "    Nothing\n",
    "  \"\"\"\n",
    "  worker_seed = torch.initial_seed() % 2**32\n",
    "  np.random.seed(worker_seed)\n",
    "  random.seed(worker_seed)"
   ]
  },
  {
   "cell_type": "code",
   "execution_count": 4,
   "metadata": {},
   "outputs": [],
   "source": [
    "# @title Set device (GPU or CPU). Execute `set_device()`\n",
    "\n",
    "# Inform the user if the notebook uses GPU or CPU.\n",
    "\n",
    "def set_device():\n",
    "  \"\"\"\n",
    "  Set the device. CUDA if available, CPU otherwise\n",
    "\n",
    "  Args:\n",
    "    None\n",
    "\n",
    "  Returns:\n",
    "    Nothing\n",
    "  \"\"\"\n",
    "  device = \"mps\" if torch.cuda.is_available() else \"cpu\"\n",
    "  if device != \"mps\":\n",
    "    print(\"WARNING: For this notebook to perform best, \"\n",
    "        \"if possible, in the menu under `Runtime` -> \"\n",
    "        \"`Change runtime type.`  select `GPU` \")\n",
    "  else:\n",
    "    print(\"GPU is enabled in this notebook.\")\n",
    "\n",
    "  return device"
   ]
  },
  {
   "cell_type": "code",
   "execution_count": 5,
   "metadata": {},
   "outputs": [
    {
     "name": "stdout",
     "output_type": "stream",
     "text": [
      "Random seed 2021 has been set.\n",
      "WARNING: For this notebook to perform best, if possible, in the menu under `Runtime` -> `Change runtime type.`  select `GPU` \n"
     ]
    }
   ],
   "source": [
    "SEED = 2021\n",
    "set_seed(seed=SEED)\n",
    "DEVICE = set_device()"
   ]
  },
  {
   "cell_type": "markdown",
   "metadata": {},
   "source": [
    "# 2. Read data"
   ]
  },
  {
   "cell_type": "code",
   "execution_count": 6,
   "metadata": {},
   "outputs": [],
   "source": [
    "df = pd.read_pickle('results/inflacion.pkl')[['text', 'label']]\n",
    "df = df[df.label != 'neutro']\n",
    "df['label'] = df['label'].replace({'negativo':0,'positivo':1})"
   ]
  },
  {
   "cell_type": "code",
   "execution_count": 7,
   "metadata": {},
   "outputs": [
    {
     "name": "stderr",
     "output_type": "stream",
     "text": [
      "  0%|          | 0/10207 [00:00<?, ?it/s]"
     ]
    },
    {
     "name": "stderr",
     "output_type": "stream",
     "text": [
      "100%|██████████| 10207/10207 [00:00<00:00, 37477.66it/s]\n"
     ]
    }
   ],
   "source": [
    "# 1. FIrst remove punctuation \n",
    "import re, string\n",
    "tqdm.pandas()\n",
    "\n",
    "def preprocess(text):\n",
    "  text = text.lower()\n",
    "  text = text.strip()\n",
    "  text = re.sub(r'\\d','', text)\n",
    "  text = re.compile('[%s]'% re.escape(string.punctuation)).sub(' ', text)\n",
    "  return text\n",
    "\n",
    "df['text'] = df['text'].progress_apply(preprocess)"
   ]
  },
  {
   "cell_type": "code",
   "execution_count": 8,
   "metadata": {},
   "outputs": [
    {
     "name": "stderr",
     "output_type": "stream",
     "text": [
      "[nltk_data] Downloading package stopwords to punkt...\n",
      "[nltk_data]   Package stopwords is already up-to-date!\n",
      "100%|██████████| 10207/10207 [00:00<00:00, 82744.98it/s]\n"
     ]
    }
   ],
   "source": [
    "# 2. remove stopwords\n",
    "import nltk\n",
    "from nltk.tokenize import word_tokenize, sent_tokenize \n",
    "from nltk.corpus import stopwords\n",
    "nltk.download('stopwords','punkt')\n",
    "\n",
    "stop_words = set(stopwords.words('spanish')) | set(stopwords.words('english'))\n",
    "\n",
    "def stopword(text):\n",
    "       if isinstance(text, str):\n",
    "        words = text.split()\n",
    "        filtered_words = [word for word in words if word not in stop_words]\n",
    "        return ' '.join(filtered_words)\n",
    "       elif isinstance(text, pd.Series):\n",
    "            return text.apply(stopword)  # Apply stopword method to each element in the Series\n",
    "       else:\n",
    "           return text\n",
    "       \n",
    "df['text'] = df['text'].progress_apply(stopword)"
   ]
  },
  {
   "cell_type": "code",
   "execution_count": 9,
   "metadata": {},
   "outputs": [],
   "source": [
    "#df = df.drop_duplicates()"
   ]
  },
  {
   "cell_type": "markdown",
   "metadata": {},
   "source": [
    "# CBOW"
   ]
  },
  {
   "cell_type": "code",
   "execution_count": 10,
   "metadata": {},
   "outputs": [],
   "source": [
    "#Split words for vocabulary\n",
    "word_list = []\n",
    "for sent in df.text:\n",
    "  for word in sent.split():\n",
    "    word_list.append(word)\n",
    "\n",
    "from collections import Counter\n",
    "corpus = Counter(word_list)\n",
    "total_word = len(word_list)\n",
    "sorted_corpus = corpus.most_common(total_word)"
   ]
  },
  {
   "cell_type": "code",
   "execution_count": 11,
   "metadata": {},
   "outputs": [],
   "source": [
    "#create the dictionary\n",
    "onehot_dict = {w:i+1 for i, (w,c) in enumerate(sorted_corpus)}\n",
    "\n",
    "feat = list()\n",
    "for word in df.text:\n",
    "  feature = list()\n",
    "  for words in word.split():\n",
    "    if words not in list(onehot_dict.keys()):\n",
    "      feature.append(0)\n",
    "    else:\n",
    "      feature.append(onehot_dict[words])\n",
    "  feat.append(feature)"
   ]
  },
  {
   "cell_type": "code",
   "execution_count": 12,
   "metadata": {},
   "outputs": [],
   "source": [
    "def padding_(sentences, seq_len):\n",
    "    features = np.zeros((len(sentences), seq_len),dtype=int)\n",
    "    for ii, review in enumerate(sentences):\n",
    "        if len(review) != 0:\n",
    "            features[ii, -len(review):] = np.array(review)[:seq_len]\n",
    "    return features\n",
    "\n",
    "\n",
    "features = padding_(feat,max(list([len(i) for i in feat])))"
   ]
  },
  {
   "cell_type": "code",
   "execution_count": 13,
   "metadata": {},
   "outputs": [
    {
     "data": {
      "text/plain": [
       "array([[    0,     0,     0, ...,   447,  1765,     1],\n",
       "       [    0,     0,     0, ...,  4400, 13083,   294],\n",
       "       [    0,     0,     0, ...,  4400, 13083,   294],\n",
       "       ...,\n",
       "       [    0,     0,     0, ...,    47,  1127,     3],\n",
       "       [    0,     0,     0, ...,  1174,   276,   273],\n",
       "       [    0,     0,     0, ...,    47,  1127,     3]])"
      ]
     },
     "execution_count": 13,
     "metadata": {},
     "output_type": "execute_result"
    }
   ],
   "source": [
    "features"
   ]
  },
  {
   "cell_type": "code",
   "execution_count": 18,
   "metadata": {},
   "outputs": [
    {
     "data": {
      "text/plain": [
       "(numpy.ndarray, numpy.ndarray)"
      ]
     },
     "execution_count": 18,
     "metadata": {},
     "output_type": "execute_result"
    }
   ],
   "source": [
    "type(features), type(df.label.values)"
   ]
  },
  {
   "cell_type": "code",
   "execution_count": 14,
   "metadata": {},
   "outputs": [
    {
     "data": {
      "text/plain": [
       "(torch.Size([10207]), torch.Size([10207, 237]))"
      ]
     },
     "execution_count": 14,
     "metadata": {},
     "output_type": "execute_result"
    }
   ],
   "source": [
    "# Convert to tensors\n",
    "labels = torch.tensor(df.label.values, dtype=torch.float32)\n",
    "features = torch.tensor(features, dtype=torch.float32)\n",
    "labels.shape, features.shape"
   ]
  },
  {
   "cell_type": "code",
   "execution_count": 15,
   "metadata": {},
   "outputs": [
    {
     "data": {
      "text/plain": [
       "<torch._C.Generator at 0x2a0578530>"
      ]
     },
     "execution_count": 15,
     "metadata": {},
     "output_type": "execute_result"
    }
   ],
   "source": [
    "from torch.utils.data import Dataset, TensorDataset\n",
    "\n",
    "#Create Tensor Dataset \n",
    "g_seed = torch.Generator()\n",
    "g_seed.manual_seed(SEED)"
   ]
  },
  {
   "cell_type": "code",
   "execution_count": 16,
   "metadata": {},
   "outputs": [
    {
     "data": {
      "text/plain": [
       "(torch.Size([10207, 237]), torch.Size([10207]))"
      ]
     },
     "execution_count": 16,
     "metadata": {},
     "output_type": "execute_result"
    }
   ],
   "source": [
    "features.shape, labels.shape"
   ]
  },
  {
   "cell_type": "code",
   "execution_count": 17,
   "metadata": {},
   "outputs": [
    {
     "name": "stdout",
     "output_type": "stream",
     "text": [
      "8165 8165 2042 2042\n"
     ]
    }
   ],
   "source": [
    "#Split dataset\n",
    "\n",
    "train_split = int(0.8*len(features))\n",
    "\n",
    "train_x, train_y = features[:train_split], labels[:train_split]\n",
    "\n",
    "test_x, test_y = features[train_split:], labels[train_split:]\n",
    "\n",
    "print(len(train_x), len(train_y), len(test_x), len(test_y))"
   ]
  },
  {
   "cell_type": "code",
   "execution_count": 18,
   "metadata": {},
   "outputs": [],
   "source": [
    "## Step 3-B: wrap the encode and transformation function ... \n",
    "def collate_batch(batch):\n",
    "  label_list, text_list, lengths = [], [], [] \n",
    "  for _label, _text in batch:\n",
    "    label_list.append(label_pipeline(_label)) \n",
    "    processed_text = torch.tensor(text_pipeline(_text), \n",
    "                                  dtype=torch.int64) \n",
    "    text_list.append(processed_text) \n",
    "    lengths.append(processed_text.size(0)) \n",
    "    label_list = torch.tensor(label_list) \n",
    "    lengths = torch.tensor(lengths) \n",
    "    padded_text_list = nn.utils.rnn.pad_sequence( \n",
    "      text_list, batch_first=True) \n",
    "    return padded_text_list, label_list, lengths"
   ]
  },
  {
   "cell_type": "code",
   "execution_count": 34,
   "metadata": {},
   "outputs": [],
   "source": [
    "from torch.utils.data import Dataset, TensorDataset, DataLoader\n",
    "\n",
    "#create Tensor Dataset\n",
    "g_seed = torch.Generator()\n",
    "g_seed.manual_seed(SEED)\n",
    "\n",
    "\n",
    "train_data=TensorDataset(torch.FloatTensor(train_x),\n",
    "                         torch.FloatTensor(train_y))\n",
    "test_data=TensorDataset(torch.FloatTensor(test_x),\n",
    "                        torch.FloatTensor(test_y))\n",
    "\n",
    "#dataloader\n",
    "batch_size=20\n",
    "train_loader=DataLoader(train_data,batch_size=batch_size,\n",
    "                        drop_last=True,shuffle=False, \n",
    "                        #collate_fn=collate_batch,\n",
    "                        num_workers=0,worker_init_fn=seed_worker,\n",
    "                        generator=g_seed)\n",
    "test_loader=DataLoader(test_data,batch_size=batch_size,\n",
    "                       drop_last=True,shuffle=False, \n",
    "                       #collate_fn=collate_batch,\n",
    "                       num_workers=0,worker_init_fn=seed_worker,\n",
    "                       generator=g_seed)"
   ]
  },
  {
   "cell_type": "code",
   "execution_count": 35,
   "metadata": {},
   "outputs": [
    {
     "data": {
      "text/plain": [
       "(torch.Size([8165, 237]), torch.Size([8165, 1]))"
      ]
     },
     "execution_count": 35,
     "metadata": {},
     "output_type": "execute_result"
    }
   ],
   "source": [
    "train_data.tensors[0].shape, train_data.tensors[1].view(-1,1).shape"
   ]
  },
  {
   "cell_type": "code",
   "execution_count": 37,
   "metadata": {},
   "outputs": [
    {
     "data": {
      "text/plain": [
       "{'tensors': (tensor([[0.0000e+00, 0.0000e+00, 0.0000e+00,  ..., 4.4700e+02, 1.7650e+03,\n",
       "           1.0000e+00],\n",
       "          [0.0000e+00, 0.0000e+00, 0.0000e+00,  ..., 4.4000e+03, 1.3083e+04,\n",
       "           2.9400e+02],\n",
       "          [0.0000e+00, 0.0000e+00, 0.0000e+00,  ..., 4.4000e+03, 1.3083e+04,\n",
       "           2.9400e+02],\n",
       "          ...,\n",
       "          [0.0000e+00, 0.0000e+00, 0.0000e+00,  ..., 2.2900e+02, 1.5790e+03,\n",
       "           1.5020e+03],\n",
       "          [0.0000e+00, 0.0000e+00, 0.0000e+00,  ..., 1.4650e+03, 1.6600e+02,\n",
       "           3.6400e+02],\n",
       "          [0.0000e+00, 0.0000e+00, 0.0000e+00,  ..., 2.2900e+02, 1.5790e+03,\n",
       "           1.5020e+03]]),\n",
       "  tensor([0., 0., 0.,  ..., 0., 0., 0.]))}"
      ]
     },
     "execution_count": 37,
     "metadata": {},
     "output_type": "execute_result"
    }
   ],
   "source": [
    "train_loader.dataset.__dict__"
   ]
  },
  {
   "cell_type": "markdown",
   "metadata": {},
   "source": [
    "## 2. Convert dataset into ``torch`` dataset"
   ]
  },
  {
   "cell_type": "code",
   "execution_count": 113,
   "metadata": {},
   "outputs": [],
   "source": [
    "from sklearn.model_selection import train_test_split\n",
    "from datasets import Dataset\n",
    "train, test = train_test_split(df, test_size = 0.2)\n",
    "train, test = train.reset_index(drop=True), test.reset_index(drop=True)\n",
    "train_data = Dataset.from_pandas(train)\n",
    "test_data = Dataset.from_pandas(test)\n",
    "del train, test"
   ]
  },
  {
   "cell_type": "markdown",
   "metadata": {},
   "source": [
    "## 3. Apply tokenizer with spacy spanish"
   ]
  },
  {
   "cell_type": "code",
   "execution_count": 67,
   "metadata": {},
   "outputs": [
    {
     "name": "stdout",
     "output_type": "stream",
     "text": [
      "\u001b[38;5;2m✔ Download and installation successful\u001b[0m\n",
      "You can now load the package via spacy.load('es_core_news_sm')\n"
     ]
    }
   ],
   "source": [
    "!python -m spacy download es_core_news_sm --quiet"
   ]
  },
  {
   "cell_type": "code",
   "execution_count": 114,
   "metadata": {},
   "outputs": [],
   "source": [
    "import torchtext\n",
    "\n",
    "tokenizer = torchtext.data.utils.get_tokenizer('spacy', 'es_core_news_sm')\n",
    "\n",
    "def tokenize_data(example, tokenizer, max_length):\n",
    "  tokens = tokenizer(example['text'])[:max_length]\n",
    "  length = len(tokens)\n",
    "  return {'tokens':tokens, 'length':length}"
   ]
  },
  {
   "cell_type": "code",
   "execution_count": 115,
   "metadata": {},
   "outputs": [
    {
     "data": {
      "application/vnd.jupyter.widget-view+json": {
       "model_id": "9e6d9c2168384c4dbbbfb8fab6e33bed",
       "version_major": 2,
       "version_minor": 0
      },
      "text/plain": [
       "Map:   0%|          | 0/8165 [00:00<?, ? examples/s]"
      ]
     },
     "metadata": {},
     "output_type": "display_data"
    },
    {
     "data": {
      "application/vnd.jupyter.widget-view+json": {
       "model_id": "598ab4b025c84fb2a0f7534a3ff46b7b",
       "version_major": 2,
       "version_minor": 0
      },
      "text/plain": [
       "Map:   0%|          | 0/2042 [00:00<?, ? examples/s]"
      ]
     },
     "metadata": {},
     "output_type": "display_data"
    }
   ],
   "source": [
    "max_length = 300\n",
    "train_data = train_data.map(tokenize_data, fn_kwargs={'tokenizer':tokenizer, 'max_length':max_length})\n",
    "test_data = test_data.map(tokenize_data, fn_kwargs={'tokenizer':tokenizer, 'max_length':max_length})"
   ]
  },
  {
   "cell_type": "code",
   "execution_count": 116,
   "metadata": {},
   "outputs": [
    {
     "data": {
      "text/plain": [
       "Dataset({\n",
       "    features: ['text', 'label', 'tokens', 'length'],\n",
       "    num_rows: 8165\n",
       "})"
      ]
     },
     "execution_count": 116,
     "metadata": {},
     "output_type": "execute_result"
    }
   ],
   "source": [
    "train_data"
   ]
  },
  {
   "cell_type": "markdown",
   "metadata": {},
   "source": [
    "## Split train validation"
   ]
  },
  {
   "cell_type": "code",
   "execution_count": 117,
   "metadata": {},
   "outputs": [],
   "source": [
    "test_size = 0.25\n",
    "\n",
    "train_valid_data = train_data.train_test_split(test_size = test_size)\n",
    "train_data = train_valid_data['train']\n",
    "valid_data = train_valid_data['test']"
   ]
  },
  {
   "cell_type": "code",
   "execution_count": 118,
   "metadata": {},
   "outputs": [],
   "source": [
    "min_freq = 5\n",
    "special_tokens = ['<unk>','<pad>']\n",
    "\n",
    "vocab = torchtext.vocab.build_vocab_from_iterator(train_data['tokens'],\n",
    "                                                 min_freq = min_freq,\n",
    "                                                 specials = special_tokens)\n",
    "\n",
    "unk_index = vocab['<unk>']\n",
    "pad_index = vocab['<pad>']\n",
    "\n",
    "vocab.set_default_index(unk_index)"
   ]
  },
  {
   "cell_type": "code",
   "execution_count": 119,
   "metadata": {},
   "outputs": [],
   "source": [
    "def numericalize_data(example, vocab):\n",
    "  ids = [vocab[token] for token in example['tokens']]\n",
    "  return {'ids':ids}"
   ]
  },
  {
   "cell_type": "code",
   "execution_count": 120,
   "metadata": {},
   "outputs": [
    {
     "data": {
      "application/vnd.jupyter.widget-view+json": {
       "model_id": "acbf3699f85c4442a2c6a5d914f0dfb3",
       "version_major": 2,
       "version_minor": 0
      },
      "text/plain": [
       "Map:   0%|          | 0/6123 [00:00<?, ? examples/s]"
      ]
     },
     "metadata": {},
     "output_type": "display_data"
    },
    {
     "data": {
      "application/vnd.jupyter.widget-view+json": {
       "model_id": "ecc6afac42ed452f84be2cdaff62143c",
       "version_major": 2,
       "version_minor": 0
      },
      "text/plain": [
       "Map:   0%|          | 0/2042 [00:00<?, ? examples/s]"
      ]
     },
     "metadata": {},
     "output_type": "display_data"
    },
    {
     "data": {
      "application/vnd.jupyter.widget-view+json": {
       "model_id": "0216e86435db4cacafd9c9361799933a",
       "version_major": 2,
       "version_minor": 0
      },
      "text/plain": [
       "Map:   0%|          | 0/2042 [00:00<?, ? examples/s]"
      ]
     },
     "metadata": {},
     "output_type": "display_data"
    }
   ],
   "source": [
    "train_data = train_data.map(numericalize_data, fn_kwargs = {'vocab':vocab})\n",
    "valid_data = valid_data.map(numericalize_data, fn_kwargs = {'vocab':vocab})\n",
    "test_data = test_data.map(numericalize_data, fn_kwargs = {'vocab':vocab})"
   ]
  },
  {
   "cell_type": "code",
   "execution_count": 121,
   "metadata": {},
   "outputs": [],
   "source": [
    "train_data = train_data.with_format(type='torch', columns=['ids', 'label', 'length'])\n",
    "valid_data = valid_data.with_format(type='torch', columns=['ids', 'label', 'length'])\n",
    "test_data = test_data.with_format(type='torch', columns=['ids', 'label', 'length'])"
   ]
  },
  {
   "cell_type": "code",
   "execution_count": 82,
   "metadata": {},
   "outputs": [
    {
     "data": {
      "text/plain": [
       "{'_info': DatasetInfo(description='', citation='', homepage='', license='', features={'text': Value(dtype='string', id=None), 'label': Value(dtype='int64', id=None), 'tokens': Sequence(feature=Value(dtype='string', id=None), length=-1, id=None), 'length': Value(dtype='int64', id=None), 'ids': Sequence(feature=Value(dtype='int64', id=None), length=-1, id=None)}, post_processed=None, supervised_keys=None, task_templates=None, builder_name=None, dataset_name=None, config_name=None, version=None, splits=None, download_checksums=None, download_size=None, post_processing_size=None, dataset_size=None, size_in_bytes=None),\n",
       " '_split': None,\n",
       " '_indexes': {},\n",
       " '_data': InMemoryTable\n",
       " text: string\n",
       " label: int64\n",
       " tokens: list<item: string>\n",
       "   child 0, item: string\n",
       " length: int64\n",
       " ids: list<item: int64>\n",
       "   child 0, item: int64\n",
       " ----\n",
       " text: [[\"inflacion mayor anos inegi desempenara cargo enero diciembre mexico eu naciones centroamericanas aseguraron viernes permitiran impunidad caso accidente ocurrido ayer\",\"aunque informacion enero da cuenta crecimiento precios empezado disminuir indicadores diversos muestran presiones inflacionarias estan agravandose aumento precio petroleo impactos indices precios consumidor senalan meses siguientes inflacion permanecera niveles presenciamos finales situacion modificado discusion banqueros centrales economistas temporalidad aumentos precios intensidad respuesta politica monetaria elevar tasas interes contener inflacion puede efectivamente conseguir atemperar crecimiento precios posible logro provoque reactivacion economica detenga empleos perdidos pandemia recuperen joseph stiglitz planteado mas crecimiento precios pese sigue siendo limitado preocupa bancos centrales incrementen excesivamente tasa interes obstaculizando recuperacion consolidado card parte seguro aumentaran tasas referencia mas necesario afectara empleo crecimiento\",\"acuerdo estudio accion ciudadana frente pobreza cinco factores determinantes movilidad social desnutricion rezago academico desercion escolar precarizacion empleo desigualdad oportunidades situacion estudio califica pobreza cronica explicada tambien justamente tres concentran niveles altos desnutricion deficiencia academica empleos informales aun mas insistencia debe focalizar problematica movilidad social mexico momentos recesion economica acuerdo informe ceey centro estudios espinosa yglesias impacto pandemia mercado laboral significativo condiciones trabajo mexicanos seran determinantes riesgo caer alguno rangos pobreza\",\"monitor fiscal fmi recomienda gobiernos proteger familias bajos ingresos perdidas ingresos garantizar acceso alimentos energia mientras hace mantener bajo control endeudamiento postura fiscal estricta contraponga politica monetaria reporto organismo menos tres anos organismo viro promover endeudamiento paises atender emergencia sanitaria pandemia coronavirus urgir mantengan metas fiscales bajo control medio alertas vienen paises altos ingresos europa crisis energetica acelerado invasion rusia ucrania china confinamientos sector inmobiliario frenado economia unidos lanzo paquete masivo ayudas costo financiamiento practicamente nulo desato inflacion resultado encarecimiento credito pais generando riesgos financieros mayoria gobiernos enfrentan mayor presion finanzas publicas estan tensas pandemia shocks oferta duraderos inflacion generalizada deben intentar limitar controles precios subsidios recortes impuestos metrica mexico organismo estima pais tendra mas gastos proporcion economia medida ingresos publicos reducen deuda aumenta aunque mantendran superavit balance primario resultado restar ingresos gobierno gasto incluir intereses deuda\",\"marzo recuperacion actividad economica mexico sera diferente heterogenea terminos niveles actividad empleo respecto niveles presentaron tercer mes segun anticipan resultados desagregacion sectorial indicador oportuno actividad economica ioae mes referencia estima aumento mil empleos formales nivel nacional respecto marzo incremento concentro actividades secundarias industria terciarias servicios comercio actividades secundarias destacan edificacion residencial crecimiento ciento construccion obras ingenieria civil ciento acuerdo reporte dio conocer miercoles instituto nacional estadistica geografia inegi incremento empleo estimado nivel ingresos concentro principalmente trabajadores ganan dos salarios minimos aumento mil empleos formales relacion empleo tamano empresas dos cada cinco empleos adicionales estimados explican dinamismo grandes empresas\",...,\"dar conocer anterior titular dependencia nivel local fadlala akabani hneide indico mil millones dolares urbe recibio representan ciento total ied capto pais mientras naciones mas invirtieron unidos mil millones brasil millones espana millones dolares akabani indico principales factores impulsado inversion extranjera capital ver seguridad estabilidad politica financiera asi condiciones logisticas servicios jefa gobierno claudia sheinbaum pardo promovido administracion\",\"participar sesiones virtuales foro davos explico trabajadores menos calificados perdieron empleo hoy menos oportunidades reintegrarse mercado laboral cuentan habilidades foro economico mundial presento manera introduccion reporte futuro empleo guiado encuesta corporativos consultados redujeron plantilla planea expandirla hacia trabajadores altas competencias tecnologicas\",\"acuerdo centro internacional arreglo diferencias relativas inversiones ciadi banco mundial disputas mas recurrentes mexico sido socios america norte empresas cargill vento first majestic demandado pais considerar contravenido disposiciones contenidas tratado comercial\",\"problemas cadena suministro surgido medida economia mundial dejado atras recesion inducida pandemia coronavirus amenaza desacelerar recuperacion atraccion inversiones solo derecho seguridad comce auxilio anayeli acudieron abogadas tlachinollan guardia nacional\",\"espera actualizacion canasta llegue productos mantenga numero ciudades actualmente instituto nacional estadistica geografia inegi lanzara consulta publica actualizar indice nacional precios consumidor inpc asi adecuarse nuevos habitos consumo cuales cambiaron bastante luego pandemia covid explico ademas consulta inegi basara encuesta nacional ingresos gastos hogares enigh publicara mediados ano actualizar inpc cuya ultima modificacion asimismo considerara clasificacion consumo individual finalidades anadio blancas espejo actualmente inpc considera productos genericos ciudades calculo espera actualizacion canasta llegue productos mantenga numero ciudades director general estadisticas economicas inegi explico objetivo cada dos anos actualice canasta bienes productos asi ponderacion\"],[\"teoria eleccion racional consumidor homo economicus persona racional sirve propios intereses independiente juicios elige forma optima vive presente consumidores entonces toman decisiones manera satisfactoria suficiente estableciendo precisiones teoria eleccion racional consumidor vamos adquirir ingredientes mercado local variedad ofertas paquetes producto usted llaman atencion dos particular igual precio empaque formula pregunta consumidores mayoria respondera opta opcion b libre grasa responderan grasa economia personas obtienen ingresos renta traves trabajo alquilando vendiendo propiedades terrenos construcciones u obteniendo beneficios invertir capital valores bonos mercado inmobiliario mercados tecnologicos mas recientemente criptomonedas\",\"utilidad generada ejercicio fiscal tipo cambio deprecio ciento\",\"enero diciembre recursos destinados pago pensiones sectores publico privado ascendieron billon mil millones pesos crecimiento ciento terminos nominales respecto mil millones igual periodo dicho gasto disparado ciento terminos nominales ultima decada pues gobierno apenas destino mil millones pesos rubro gobierno programado desembolsar billon mil millones pesos pago pensiones sectores publico privado equivale crecimiento anual nominal ciento respecto jorge sanchez tello director programa investigacion aplicada fundacion estudios financieros notable aumento gasto gobierno carga representan pensiones trabajan imss issste pemex cfe universidades publicas poner contexto gasto pensiones ciento superior comparacion desembolso inversion fisica hizo gobierno federal apenas mil millones pesos asimismo mientras gasto pensiones jubilaciones incrementado ciento ultima decada acuerdo datos hacienda inversion fisica apenas crecido ciento mismo lapso pues cifra mil millones pesos\",\"exportaciones china repuntaron mas previsto abril tras caida sorpresiva mes anterior sugiere demanda mundial sigue siendo relativamente resistente refuerza economia medio acalorada disputa comercial unidos importaciones abril tambien crecieron mas esperado sugiere demanda interna china mantiene bien buenas noticias funcionarios buscan suavizar impacto cualquier turbulencia sector comercio envios aun ven saludables datos hoy indican existe ralentizacion reciente demanda externa dijo julian evans pritchard economista senior china firma capital economics estimo exportaciones volumen hecho pudieron haber caido base intermensual telon fondo actuales conversaciones comercio china unidos crecimiento global alcanzado maximo nivel resultado desempeno china cuanto exportaciones debilitando declaro fuerte demanda interna superavit comercial china unidos amplio millones dolares abril millones dolares marzo segun calculos reuters basados datos aduanas publicados martes\",\"secretario estadunidense antony blinken manifesto compromiso gobierno pais hacer inversiones ayuden encarar migracion propuso abordar problema enfoque integral encabezar ayer reunion ministerial tema primera visita colombia buscar soluciones corto largo plazos junto jefes diplomacia naciones region presidente joe biden comprometido realizar inversiones enfoque debe ayudar hacer mejor labor respaldo paises hoy llevan mayor carga problema senalo blinken referencia recepcion migrantes\",...,\"moneda mexicana alcanzo niveles unidades dolar semana pasada visto miedo posibles perdidas contables bancos provocan temores efecto sistemico llevo tipo cambio mexico pocos minutos ajustarse pesos dolar semana moneda nacional estara presionada frente dolar temores efecto sistemico frente delicada situacion silicon valey bank esperamos mayor volatilidad tipo cambio aunado anterior dato inflacion unidos febrero preve alejandra marcos directora analisis intercam casa bolsa mercados financieros recuerdan crisis financiera quiebra banco inversion lehman brothers aunado reserva federal momento restriccion monetaria ahi dato inflacion manana sera suma importancia pues ahora integra variable ecuacion incertidumbre inflacion eu sigue desacelerandose mercados financieros rebotan peso retrocede continua aversion riesgo mercados\",\"mercado bonos tercera sesion consecutiva tasa interes mercado secundario va baja rendimiento bonos tesoro anos mostrando retroceso puntos base ubicandose ciento cuanto indicadores economicos unidos semana termino marzo reportaron mil solicitudes nuevas apoyo desempleo debajo mil esperadas mercado disminuyendo mil respecto semana previa solicitudes continuas apoyo desempleo aquellas personas estan recibiendo apoyo continuan espera disminuyeron millones anterior implica mercado laboral unidos sigue recuperandose embargo menor caida anual febrero respecto enero indicativo recuperacion mensual consumo tiendas autoservicio departamentales\",\"gobierno mexico capacidad caso querer hacerlo expropiar definitivamente vias ferreas ferrosur veracruz utilidad nacional aunque ello implicaria enviar nuevo mensaje desconfianza falta derecho inversionistas nacionales extranjeros afirmaron especialistas sector financiero grupo mexico puede apelar decision camara internacional comercio solicitar socios unidos canada pidan consultas bajo capitulos mec bajo argumento estan siendo afectados ocupacion aunque firma propiedad empresario german larrea ocasion todas perder dijo especialista preocupacion decisiones punto medular si efectivamente viola derecho genera ambiente propicio negocios ello podria tener implicaciones negativas percepcion confianza pais eventualmente inversion extranjera planteo\",\"area analisis cibanco senala tendencia peso mexicano estara marcada especulacion posible endurecimiento politica monetaria bancos centrales particular fed asi temores pandemia covid surgimiento nueva variante sudafrica parecer mas contagiosa obligue paises aplicar nuevo fuertes restricciones movilidad\",\"si tenedores empiezan percibir mayor riesgo buscaran manera mas acelerada sera colocarlos mercado secundario ello precios caeran si mantienen portafolio inversion podrian experimentar perdidas instrumentos rendimientos comento economista janneth quiroz subdirectora analisis economico monex carlos ramirez ex presidente comision nacional sistema ahorro retiro consar comento si bien carteras inversion afores estan bien diversificadas habria afectacion rendimiento numero activos seran perjudicados reforma electrica igual manera fondos pensiones extranjeros invirtieron mercado energetico ejemplo cdpq canada fondo pensiones mexicano ckd im compraron participacion ocho parques fondo estadounidense blackrock fondo inversion actis tambien poseen grandes porciones tipos proyectos dijeron dos fuentes industria detalla informe redd\"],...,[\"recordo acuerdo cifras oficiales consumo nacional fertilizantes millones toneladas ciento mas problema volumen solo aprovecha ciento ciento mientras ciento ciento desperdicia contamina paso ademas ser desperdicio dinero productor subrayo si segun dicho organismo produccion fertilizantes mexico millones toneladas mas baja significa mas ciento consumo nacional fertilizantes importado\",\"dos anos crisis puso vilo sistemas salud empleo proteccion social borraron practicamente tajo hecho ultimos anos expuso organismo regional naciones unidas si bien numero pobres mexico alcanzo millones acuerdo estimados cepal alicia barcena secretaria ejecutiva organismo considero bajo crecimiento pobreza crisis relacionado transferencias sociales medidas apoyos empresas familiares aumento salario minimo alicia barcena detallo crecimiento economico ano pasado sido suficiente mitigar efectos sociales laborales pandemia proyecta cantidad personas pobreza extrema pasaria millones decir millones mas aunque pobreza general redujo millones millones previos mexico personas acumulan ciento chile nueve acaparan ciento brasil concentran ciento valor actividad economica isr suficiente impuesto propiedad tampoco necesitamos mas recursos inversion movilice bienestar tiempo combate evasion\",\"moneda local cotizaba dolar ganancia ciento frente precio referencia reuters jueves retrocedio ciento peor jornada noviembre ambito local inegi informo temprano viernes economia mexico anoto cuarto crecimiento cero represento leve mejora frente estimacion preliminar dada conocer mes pasado segun pais habria entrado recesion tecnica registrar dos trimestres seguidos contracciones creen venta masiva ocurrida vispera dias anteriores oportunidad comprar buenos precios busqueda buenos precios discurso considerado moderado presidente estadunidense joe biden citados john plassard especialista inversion mirabaud explicar subida bursatil\",\"precios record carbon gas asi apagones continuos estan haciendo sector electrico industrias uso intensivo energia recurran petroleo mantener luces operaciones encendidas dijo aie informe petrolero mensual espera crisis energetica mundial impulse demanda petrolera medio millon barriles dia bpd podria acelerar inflacion ralentizar recuperacion mundial pandemia covid dijo jueves agencia internacional energia aie precios crudo gas natural disparado recientemente maximos varios anos provocando precios energia suban niveles record mientras escasez energetica complica asia europa precios record carbon gas asi apagones continuos estan haciendo sector electrico industrias uso intensivo energia recurran petroleo mantener luces operaciones encendidas dijo aie informe petrolero mensual precios mas altos energia estan sumando tambien presiones inflacionarias junto cortes energia podrian conducir menor actividad industrial desaceleracion recuperacion economica agrego\",\"tambien afectacion falta componentes causado modelos vehiculos antiguos pre pandemia elevado precios veces costando mas modelos ano curso\",...,\"thamara martinez vargas millones jovenes mexicanos anos estan disponibles trabajar participan mercado laboral diferentes causas vez tomado decision buscar empleo enfrenta panorama complicado empeora si anos si cuentas grado estudio equivalente nivel medio superior superior pese reforma laboral supuestamente estipula posibilidad trabajar hora grupo encuentra empleo siquiera horas explico entrevista clemente ruiz profesor investigador posgrado economia unam ultimo trimestre contabilizaron millones personas mayores anos pais cuales participo activamente mercado laboral trabajando buscando empleo restante califico economicamente inactivo dado trabajaron buscaron empleo periodo\",\"ano curso puebla debe aprovechar oportunidad atraer inversiones asia diversificar actividad economica contribuya robustecer cadena suministro industrias considero alejandro javier saldana brito gerente analisis economico grupo financiero mas bx entrevista economista indico alemania principal socio comercial entidad poblana debido industria automotriz paises china corea tambien estan buscando nuevas regiones invertir mexico representa ser aprovechado gobiernos locales atraer inversiones obstante dijo aun ido disipando incertidumbre economica inversiones busca gobierno puebla asia tardarian llegar segunda mitad ano comportamiento normal nivel nacional puede abrir mayores oportunidades pequenas medianas industrias buscar integrarse grandes cadenas valor recalco tener crecimiento modesto venta exportaciones vehiculos unidos debe obligar puebla fortalecer areas productivas textil agroalimentos tener alta dependencia rubro automotriz situacion riesgo saldana brito destaco si bien economia puebla mantenido crecimiento positivo respecto resto entidades gobierno local necesita tener plan control riesgos enfocado potencializar sectores industriales par crecer infraestructura abra mayores oportunidades atraccion inversiones ligadas rubros puntualizo cualquier inversion llegue actualidad importante momento vuelve tener claridad economica vez demuestra confianza decidirse territorio poblano\",\"materia acopio dijo ciento empresas adheridas cuentan plan manejo post consumo principalmente materiales plasticos pet pead pebd eps aluminio carton promedio contenido material reciclado post consumo ciento significa puntos porcentuales mas anoto mil personas dedicadas acopio informal sido beneficiadas empresas reportan regulacion consumo plastico torres senalo existen mas proyectos ley congresos prohibir sustituir reducir consumo plasticos solo uso\",\"si bien salida capitales mercado deuda mexicano sido consistente seis siete meses ano informacion desagregada mexico muestra desaceleracion velocidad desinversion respecto salidas observadas primeros siete meses mismo lapso asi primeros siete meses ano pandemia confinamiento inversionistas residentes desinvirtieron millones dolares bonos deuda mexicana concuerda nadia montes oca senior portafolio manager operadora fondos inversion franklin templeton sostuvo venta titulos presentado forma gradual consistente declaro pandemia limitando exposicion mexico tener menos deuda manos extranjeros desinversion mensual queda registrada segunda mas alta octubre salieron millones dolares mercado deuda mexicano acuerdo estratega monex incertidumbre mundial estabilizado julio particular comenzaron conocerse indicadores muestran debilidad presentando economia unidos mientras europa comenzo hablar riesgo recesion documentaron desinversion millones dolares mercados emergentes solo julio millones liquidados mercado deuda\",\"mision empresas tres asociaciones centro investigacion sectores electrico microchips tarjetas circuitos impresos pcbs siglas ingles taiwan llego mexico ayer asistir encuentro empresarial crecimiento relocalizacion informo secretaria economia factores gobernabilidad estabilidad macroeconomica posicion geografica red tratados comerciales fuerza laboral joven especializada estan logrando atraer mexico nuevas inversiones grandes empresas apunto asimismo reuniran camaras empresariales afines tales sectores grandes empresarios mexicanos interesados invertir microchips asi empresas taiwanesas compartiran experiencia tras tres decadas produccion mexico\"],[\"inflacion amenazas mas fuertes poder adquisitivo sueldos salarios remuneraciones personas\",\"numero estadunidenses solicito primera vez beneficios desempleo aumento semana pasada confirma debilitamiento condiciones mercado laboral pandemia covid empeorando altera operaciones restaurantes negocios pedidos iniciales beneficios estatales desempleo aumentaron mil mil ajustados estacionalmente semana termino enero cifra mas alta finales agosto reporto jueves departamento trabajo si incluye programa financiado gobierno trabajadores autonomos temporales califican programas estatales desempleo millon mil personas presentaron solicitudes semana pasada individuos derecho ayuda desempleo reclaman beneficios pagos suplementarios anaden incentivo solicitar beneficios dijo nancy vanden houten economista principal oxford economics aunque solicitudes subsidio desempleo disminuido record millones mil marzo siguen encima pico mil gran recesion economistas dicen mercado laboral podria tardar anos recuperarse pandemia\",\"numero estadounidenses solicito primera vez subsidios desempleo bajo menos previsto semana pasada indica mercado laboral avanza lentamente devolver puestos millones personas quedaron trabajo pandemia coronavirus pedidos iniciales ayuda desempleo totalizaron cifra ajustada estacionalmente semana octubre comparacion numero revisado alza semana previa dijo jueves departamento trabajo nuevos pedidos subsidios ubican encima maximo visto gran recesion aunque caido record historico millones detectado fines marzo numero estadounidenses continuo pidiendo beneficios desempleo tras ayuda inicial disminuyo millones semana septiembre millones semana anterior\",\"seis meses despues anunciara plan infraestructura integrado proyectos impulsado empresarios gobierno federal objetivo reactivar economia solo estan cartera inversion secretaria hacienda credito publico mas operacion reporto dependencia solicitud informacion unidad inversiones dependencia detallo proyectos listados cartera alcanzan monto mil millones pesos ciento recursos anunciados gobierno federal iniciativa privada cierre noviembre pasado tras reiterados anuncios inversion infraestructura promover economia luego cierres masivos pandemia covid ultimo trimestre ano pasado presentaron par paquetes obra publica monto mil millones pesos financiamiento seria publico privado fecha obras adicionales estan proceso estan registradas unidad inversion hacienda recibir recursos presupuestarios proyectos nuevos encuentran autopista interserrana etapa estudios iniciara construirse septiembre ano inversion mil millones pesos\",\"empresas sociedades llamadas personas morales ambito fiscal tambien contempla retencion ciento ingresos anuales igual forma mayores percepciones mayor sera tasa pagar embargo empresas si podran seguir deduciendo parte inversiones\",...,\"variable manufacturera disminuyo puntos manufacturera retrocedio puntos debido debilidad sector servicios repunte contagios covid habra esperar ver si trata fenomeno transitorio afirmo instituto economia mexicana muestra indicios desaceleracion concluyo instituto mexicano ejecutivos finanzas imef interpretar mediciones anticipadas indicadores clave produccion manufacturas consumo servicios indicador imef varia intervalo puntos nivel puntos representa umbral expansion mayor contraccion menor actividad economica resultados indicador imef indican agosto presento desaceleracion actividad economica principalmente sector manufacturero economia mexicana presento tasa crecimiento trimestral segundo trimestre reflejo crecimiento acotado abril mayo asi dato adverso junio perspectiva imef preocupa desempeno distintos sectores actividad economica junio caidas afectaron buena medida actividades economicas primaria secundaria terciaria\",\"oferta demanda global bienes servicios mexico permite conocer comportamiento corto plazo produccion consumo inversion comercio exterior registro aumento real ciento cierre cuarto trimestre respecto trimestre previo tambien avanzo ciento revelo martes instituto nacional estadistica geografia inegi reporte indicadores trimestrales oferta demanda ahorro bruto tercer trimestre cifras desestacionalizadas hacer mas comparable periodos preciso consumo privado elemento mas importante demanda pais aumento ciento periodo octubre diciembre frente tercer trimestre mismo ano peor comportamiento segundo trimestre asimismo datos inegi precisaron consumo gobierno cayo ciento cuarto trimestre respecto tercer trimestre registro descenso ciento interior oferta producto interno bruto pib mostro variacion forma trimestral ciento cuarto trimestre exportaciones bienes servicios incrementaron ciento formacion bruta capital fijo inversion cayo ciento comparacion anual oferta global desacelero ultimo cuarto ano pasado crecer ciento luego trimestre previo elevo ciento\",\"consumidores mexicanos enfrentaron primera mitad septiembre inflaciones mas bajas septiembre acuerdo datos inegi consumidores mexicanos enfrentaron primera mitad septiembre inflaciones mas bajas septiembre acuerdo datos instituto nacional estadistica geografia inegi indice nacional precios consumidor inpc mostro primeros dias mes patrio variacion quincenal mientras tasa anual ubico menor nivel primera quincena septiembre alcanzo nivel ciento asimismo resultado menor registro precios consumidor va ano manera inflacion registro novena quincena consecutiva desaceleraciones\",\"empresa da poca atencion reduccion fugas cuales mantienen alrededor ciento extrae mas agua autorizada aumenta tarifas encima inflacion contrario dice contrato reconexiones costosas\",\"combustibles fosiles gas natural seguiran siendo fuente predominante consumo energia unidos mas alla seguira utilizando llamadas energias sucias generacion electricidad acuerdo informe administracion informacion energetica eia siglas ingles manuel martinez fernandez investigador instituto energias renovables ier unam senalo unidos paises clara vision descarbonice sistema energetico aun existen inversiones fuentes fosiles mientras coyunturas pandemia covid guerra ucrania modificado trayectoria tenia transicion energetica annual energy outlook agencia gubernamental proyecta escenario referencia contempla leyes regulaciones vigentes consumo energia unidos sera mayor hacia mitad siglo crecimiento demografico economico aunque eia estima consumo energias producidas fuentes renovables duplique respecto nivel actual pues llegaria ser casi cuatrillones unidades termicas britanicas ano aun estara debajo niveles consumo petroleo gas natural cuales mantendran niveles cercanos cuatrillones unidades termicas britanicas petroleo gas natural seguiran siendo fuentes energia mas consumidas unidos energia renovable mas rapido crecimiento matiza reporte\"]]\n",
       " label: [[0,0,0,0,1,...,1,0,0,0,1],[1,1,0,1,0,...,1,0,1,0,0],...,[1,1,0,0,0,...,1,0,0,0,1],[0,0,0,1,0,...,0,0,1,1,0]]\n",
       " tokens: [[[\"inflacion\",\"mayor\",\"anos\",\"inegi\",\"desempenara\",...,\"impunidad\",\"caso\",\"accidente\",\"ocurrido\",\"ayer\"],[\"aunque\",\"informacion\",\"enero\",\"da\",\"cuenta\",...,\"mas\",\"necesario\",\"afectara\",\"empleo\",\"crecimiento\"],...,[\"problemas\",\"cadena\",\"suministro\",\"surgido\",\"medida\",...,\"acudieron\",\"abogadas\",\"tlachinollan\",\"guardia\",\"nacional\"],[\"espera\",\"actualizacion\",\"canasta\",\"llegue\",\"productos\",...,\"canasta\",\"bienes\",\"productos\",\"asi\",\"ponderacion\"]],[[\"teoria\",\"eleccion\",\"racional\",\"consumidor\",\"homo\",...,\"mercados\",\"tecnologicos\",\"mas\",\"recientemente\",\"criptomonedas\"],[\"utilidad\",\"generada\",\"ejercicio\",\"fiscal\",\"tipo\",\"cambio\",\"deprecio\",\"ciento\"],...,[\"area\",\"analisis\",\"cibanco\",\"senala\",\"tendencia\",...,\"aplicar\",\"nuevo\",\"fuertes\",\"restricciones\",\"movilidad\"],[\"si\",\"tenedores\",\"empiezan\",\"percibir\",\"mayor\",...,\"fuentes\",\"industria\",\"detalla\",\"informe\",\"redd\"]],...,[[\"recordo\",\"acuerdo\",\"cifras\",\"oficiales\",\"consumo\",...,\"ciento\",\"consumo\",\"nacional\",\"fertilizantes\",\"importado\"],[\"dos\",\"anos\",\"crisis\",\"puso\",\"vilo\",...,\"movilice\",\"bienestar\",\"tiempo\",\"combate\",\"evasion\"],...,[\"si\",\"bien\",\"salida\",\"capitales\",\"mercado\",...,\"julio\",\"millones\",\"liquidados\",\"mercado\",\"deuda\"],[\"mision\",\"empresas\",\"tres\",\"asociaciones\",\"centro\",...,\"tras\",\"tres\",\"decadas\",\"produccion\",\"mexico\"]],[[\"inflacion\",\"amenazas\",\"mas\",\"fuertes\",\"poder\",\"adquisitivo\",\"sueldos\",\"salarios\",\"remuneraciones\",\"personas\"],[\"numero\",\"estadunidenses\",\"solicito\",\"primera\",\"vez\",...,\"podria\",\"tardar\",\"anos\",\"recuperarse\",\"pandemia\"],...,[\"empresa\",\"da\",\"poca\",\"atencion\",\"reduccion\",...,\"contrario\",\"dice\",\"contrato\",\"reconexiones\",\"costosas\"],[\"combustibles\",\"fosiles\",\"gas\",\"natural\",\"seguiran\",...,\"mas\",\"rapido\",\"crecimiento\",\"matiza\",\"reporte\"]]]\n",
       " length: [[20,96,71,137,98,...,58,41,31,29,93],[86,8,122,119,60,...,104,77,88,36,101],...,[47,110,79,120,18,...,82,165,58,120,72],[10,107,78,108,29,...,105,130,69,23,138]]\n",
       " ids: [[[4,15,48,81,0,...,0,328,0,4548,485],[132,217,74,655,214,...,3,611,1641,27,5],...,[498,822,269,6228,188,...,5744,0,0,0,23],[161,1462,421,2847,41,...,421,139,41,58,0]],[[6917,3095,6153,134,0,...,88,3741,3,1916,2158],[2963,2345,1711,121,224,143,1988,2],...,[1876,193,2899,715,287,...,1673,204,1147,587,1212],[43,5279,4233,4863,15,...,1197,246,1710,202,0]],...,[[1357,38,170,806,34,...,2,34,23,1268,1683],[75,48,93,1868,0,...,0,638,210,998,3340],...,[43,177,1013,829,20,...,119,9,0,20,87],[3024,61,98,3071,528,...,103,98,678,79,6]],[[4,3589,3,1147,380,826,4127,446,1481,106],[396,814,4120,110,148,...,99,4347,48,1758,31],...,[496,655,2129,969,259,...,1324,1514,2330,0,4704],[370,1516,221,990,1841,...,3,728,5,7475,218]]],\n",
       " '_indices': None,\n",
       " '_format_type': 'torch',\n",
       " '_format_kwargs': {},\n",
       " '_format_columns': ['ids', 'label', 'length'],\n",
       " '_output_all_columns': False,\n",
       " '_fingerprint': 'ea39fb81ad0111ae'}"
      ]
     },
     "execution_count": 82,
     "metadata": {},
     "output_type": "execute_result"
    }
   ],
   "source": [
    "train_data.__dict__"
   ]
  },
  {
   "cell_type": "markdown",
   "metadata": {},
   "source": [
    "## Model"
   ]
  },
  {
   "cell_type": "code",
   "execution_count": 38,
   "metadata": {},
   "outputs": [],
   "source": [
    "## Define a MLP model\n",
    "\n",
    "class MLP(nn.Module):\n",
    "  \"\"\"\n",
    "  This is a simple MLP for testing this dataset\n",
    "  \"\"\"\n",
    "  def __init__(self, input_features,output_features, hidden_units=255):\n",
    "    \"\"\"\n",
    "    Constructs of the MultiLayerPerceptron\n",
    "\n",
    "    Args:\n",
    "      input: input dimension in Integer\n",
    "        dimensionality of input data (255)\n",
    "      output: Integer\n",
    "        number of class (2)\n",
    "      hidden_dims: List\n",
    "        containing the dimensions of the hidden layers,\n",
    "        empty list corresponds to a linear model (in_dim, out_dim)\n",
    "\n",
    "      returns:\n",
    "      Nothing\n",
    "    \"\"\"\n",
    "    super().__init__()\n",
    "\n",
    "    self.linear_layer_stack = nn.Sequential(\n",
    "      nn.Linear(input_features, hidden_units, bias=True),\n",
    "      nn.ReLU(),\n",
    "      #nn.Linear(hidden_units, hidden_units),\n",
    "      #nn.ReLU(),\n",
    "      nn.Linear(hidden_units, output_features, bias=True),\n",
    "      nn.LogSoftmax(dim=1),\n",
    "    )\n",
    "  def forward(self, x, apply_sigmoid = False):\n",
    "    y_out = self.linear_layer_stack(x)\n",
    "    if apply_sigmoid:\n",
    "      y_out = torch.softmax(y_out)\n",
    "    return y_out"
   ]
  },
  {
   "cell_type": "code",
   "execution_count": 39,
   "metadata": {},
   "outputs": [],
   "source": [
    "input = 237\n",
    "output = 2\n",
    "hidden_units = 300\n",
    "\n",
    "model = MLP(input_features=input, output_features = output,\n",
    "            hidden_units=hidden_units).to(DEVICE)"
   ]
  },
  {
   "cell_type": "code",
   "execution_count": 40,
   "metadata": {},
   "outputs": [
    {
     "data": {
      "text/plain": [
       "MLP(\n",
       "  (linear_layer_stack): Sequential(\n",
       "    (0): Linear(in_features=237, out_features=300, bias=True)\n",
       "    (1): ReLU()\n",
       "    (2): Linear(in_features=300, out_features=2, bias=True)\n",
       "    (3): LogSoftmax(dim=1)\n",
       "  )\n",
       ")"
      ]
     },
     "execution_count": 40,
     "metadata": {},
     "output_type": "execute_result"
    }
   ],
   "source": [
    "model"
   ]
  },
  {
   "cell_type": "code",
   "execution_count": 41,
   "metadata": {},
   "outputs": [],
   "source": [
    "import torch.nn.functional as F\n",
    "# The three parameters below are in your full control\n",
    "MAX_EPOCHS = 100 # select number of epochs to train\n",
    "LR = 1e-5  # choose the step size\n",
    "BATCH_SIZE = 16  # number of examples per minibatch\n",
    "\n",
    "loss_fn = nn.CrossEntropyLoss()\n",
    "\n",
    "optimizer = torch.optim.Adam(params = model.parameters(),\n",
    "                             lr=LR, weight_decay=1e-5)\n",
    "#optimizer = torch.optim.SGD(model.parameters(), lr=LR, momentum=0.5)"
   ]
  },
  {
   "cell_type": "code",
   "execution_count": 42,
   "metadata": {},
   "outputs": [
    {
     "data": {
      "text/plain": [
       "[torch.Size([300, 237]),\n",
       " torch.Size([300]),\n",
       " torch.Size([2, 300]),\n",
       " torch.Size([2])]"
      ]
     },
     "execution_count": 42,
     "metadata": {},
     "output_type": "execute_result"
    }
   ],
   "source": [
    "[param.shape for param in model.parameters()]"
   ]
  },
  {
   "cell_type": "code",
   "execution_count": 43,
   "metadata": {},
   "outputs": [
    {
     "data": {
      "text/plain": [
       "Adam (\n",
       "Parameter Group 0\n",
       "    amsgrad: False\n",
       "    betas: (0.9, 0.999)\n",
       "    capturable: False\n",
       "    differentiable: False\n",
       "    eps: 1e-08\n",
       "    foreach: None\n",
       "    fused: None\n",
       "    lr: 1e-05\n",
       "    maximize: False\n",
       "    weight_decay: 1e-05\n",
       ")"
      ]
     },
     "execution_count": 43,
     "metadata": {},
     "output_type": "execute_result"
    }
   ],
   "source": [
    "optimizer"
   ]
  },
  {
   "cell_type": "code",
   "execution_count": 44,
   "metadata": {},
   "outputs": [],
   "source": [
    "# Define helper function to evaluate models\n",
    "def eval_model(model, data_loader, num_batches=np.inf, device=DEVICE):\n",
    "  \"\"\"\n",
    "  To evaluate a given model\n",
    "\n",
    "  Args:\n",
    "    model: nn.Module derived class\n",
    "      The model which is to be evaluated\n",
    "    data_loader: Iterable\n",
    "      A configured dataloading utility\n",
    "    num_batches: Integer\n",
    "      Size of minibatches\n",
    "    device: String\n",
    "      Sets the device. CUDA if available, CPU otherwise\n",
    "\n",
    "  Returns:\n",
    "    mean of log loss and mean of log accuracy\n",
    "  \"\"\"\n",
    "\n",
    "  loss_log, acc_log = [], []\n",
    "  model.to(device=DEVICE)\n",
    "\n",
    "  # We are just evaluating the model, no need to compute gradients\n",
    "  with torch.no_grad():\n",
    "    for batch_id, batch in enumerate(train_loader):\n",
    "      # If we only evaluate a number of batches, stop after we reach that number\n",
    "      if batch_id > num_batches:\n",
    "        break\n",
    "      # Extract minibatch data\n",
    "      features, labels = batch[0].to(DEVICE), batch[1].long().to(DEVICE)\n",
    "      # Evaluate model and loss on minibatch\n",
    "      preds = model(features)\n",
    "      loss_log.append(loss_fn(preds, labels).item())\n",
    "      acc_log.append(torch.mean(1. * (preds.argmax(dim=1) == labels)).item())\n",
    "\n",
    "  return np.mean(loss_log), np.mean(acc_log)"
   ]
  },
  {
   "cell_type": "code",
   "execution_count": 45,
   "metadata": {},
   "outputs": [
    {
     "ename": "NameError",
     "evalue": "name 'preds' is not defined",
     "output_type": "error",
     "traceback": [
      "\u001b[0;31m---------------------------------------------------------------------------\u001b[0m",
      "\u001b[0;31mNameError\u001b[0m                                 Traceback (most recent call last)",
      "\u001b[1;32m/Users/pierredelice/Library/CloudStorage/Dropbox/Mac/Documents/GitHub/Scrap_economic/economic_nlp/economic_nlp/MLP.ipynb Cell 51\u001b[0m line \u001b[0;36m1\n\u001b[0;32m----> <a href='vscode-notebook-cell:/Users/pierredelice/Library/CloudStorage/Dropbox/Mac/Documents/GitHub/Scrap_economic/economic_nlp/economic_nlp/MLP.ipynb#Y310sZmlsZQ%3D%3D?line=0'>1</a>\u001b[0m preds\u001b[39m.\u001b[39mshape, labels\u001b[39m.\u001b[39mshape\n",
      "\u001b[0;31mNameError\u001b[0m: name 'preds' is not defined"
     ]
    }
   ],
   "source": [
    "preds.shape, labels.shape"
   ]
  },
  {
   "cell_type": "code",
   "execution_count": 315,
   "metadata": {},
   "outputs": [
    {
     "name": "stdout",
     "output_type": "stream",
     "text": [
      "tensor([[ 0.0000e+00, -4.5713e+01],\n",
      "        [ 0.0000e+00, -1.7669e+02],\n",
      "        [ 0.0000e+00, -1.1486e+02],\n",
      "        [ 0.0000e+00, -5.9616e+01],\n",
      "        [ 0.0000e+00, -5.4268e+01],\n",
      "        [ 0.0000e+00, -2.3964e+01],\n",
      "        [ 0.0000e+00, -1.2374e+02],\n",
      "        [ 0.0000e+00, -3.1565e+01],\n",
      "        [-5.7245e+01,  0.0000e+00],\n",
      "        [ 0.0000e+00, -2.8995e+02],\n",
      "        [ 0.0000e+00, -3.3106e+02],\n",
      "        [ 0.0000e+00, -1.1695e+02],\n",
      "        [-4.8673e+01,  0.0000e+00],\n",
      "        [-2.3842e-07, -1.5492e+01],\n",
      "        [ 0.0000e+00, -2.3477e+02],\n",
      "        [ 0.0000e+00, -5.5780e+01],\n",
      "        [ 0.0000e+00, -9.6707e+01],\n",
      "        [ 0.0000e+00, -1.4497e+02],\n",
      "        [ 0.0000e+00, -6.8744e+01],\n",
      "        [ 0.0000e+00, -4.7353e+01]], grad_fn=<LogSoftmaxBackward0>) \n",
      " tensor([0, 0, 0, 0, 0, 0, 0, 0, 1, 0, 0, 0, 1, 0, 0, 0, 0, 0, 0, 0]) \n",
      " 1.192092735635697e-08 \n",
      " tensor(1.)\n"
     ]
    }
   ],
   "source": [
    "preds = model(features)\n",
    "loss = loss_fn(preds, labels)\n",
    "acc = torch.mean(1.0 * (preds.argmax(dim=1) == labels))\n",
    "print(preds, '\\n', labels, '\\n',loss.item(), '\\n',acc)"
   ]
  },
  {
   "cell_type": "code",
   "execution_count": 316,
   "metadata": {},
   "outputs": [
    {
     "data": {
      "text/plain": [
       "[(tensor([  0.0000, -45.7129], grad_fn=<UnbindBackward0>), tensor(True)),\n",
       " (tensor([   0.0000, -176.6887], grad_fn=<UnbindBackward0>), tensor(True)),\n",
       " (tensor([   0.0000, -114.8617], grad_fn=<UnbindBackward0>), tensor(True)),\n",
       " (tensor([  0.0000, -59.6160], grad_fn=<UnbindBackward0>), tensor(True)),\n",
       " (tensor([  0.0000, -54.2684], grad_fn=<UnbindBackward0>), tensor(True)),\n",
       " (tensor([  0.0000, -23.9642], grad_fn=<UnbindBackward0>), tensor(True)),\n",
       " (tensor([   0.0000, -123.7373], grad_fn=<UnbindBackward0>), tensor(True)),\n",
       " (tensor([  0.0000, -31.5646], grad_fn=<UnbindBackward0>), tensor(True)),\n",
       " (tensor([-57.2451,   0.0000], grad_fn=<UnbindBackward0>), tensor(True)),\n",
       " (tensor([   0.0000, -289.9495], grad_fn=<UnbindBackward0>), tensor(True)),\n",
       " (tensor([   0.0000, -331.0571], grad_fn=<UnbindBackward0>), tensor(True)),\n",
       " (tensor([   0.0000, -116.9545], grad_fn=<UnbindBackward0>), tensor(True)),\n",
       " (tensor([-48.6727,   0.0000], grad_fn=<UnbindBackward0>), tensor(True)),\n",
       " (tensor([-2.3842e-07, -1.5492e+01], grad_fn=<UnbindBackward0>), tensor(True)),\n",
       " (tensor([   0.0000, -234.7715], grad_fn=<UnbindBackward0>), tensor(True)),\n",
       " (tensor([  0.0000, -55.7805], grad_fn=<UnbindBackward0>), tensor(True)),\n",
       " (tensor([  0.0000, -96.7073], grad_fn=<UnbindBackward0>), tensor(True)),\n",
       " (tensor([   0.0000, -144.9678], grad_fn=<UnbindBackward0>), tensor(True)),\n",
       " (tensor([  0.0000, -68.7444], grad_fn=<UnbindBackward0>), tensor(True)),\n",
       " (tensor([  0.0000, -47.3528], grad_fn=<UnbindBackward0>), tensor(True))]"
      ]
     },
     "execution_count": 316,
     "metadata": {},
     "output_type": "execute_result"
    }
   ],
   "source": [
    "list(zip(preds, preds.argmax(dim=1)==labels))"
   ]
  },
  {
   "cell_type": "code",
   "execution_count": 241,
   "metadata": {},
   "outputs": [
    {
     "data": {
      "text/plain": [
       "0.7"
      ]
     },
     "execution_count": 241,
     "metadata": {},
     "output_type": "execute_result"
    }
   ],
   "source": [
    "14/20"
   ]
  },
  {
   "cell_type": "code",
   "execution_count": 49,
   "metadata": {},
   "outputs": [
    {
     "name": "stdout",
     "output_type": "stream",
     "text": [
      "Random seed 2021 has been set.\n"
     ]
    },
    {
     "name": "stderr",
     "output_type": "stream",
     "text": [
      "  0%|          | 0/100 [00:00<?, ?it/s]"
     ]
    },
    {
     "name": "stdout",
     "output_type": "stream",
     "text": [
      "13.901017583797083\n",
      "[VALID] Epoch 1 - Batch 100 - Loss: 13.901 - Acc: 70.588%\n",
      "[TRAIN] Epoch 1 - Batch 100 - Loss: 0.031 - Acc: 0.900%\n",
      "12.153432455352124\n",
      "[VALID] Epoch 1 - Batch 200 - Loss: 12.153 - Acc: 72.353%\n",
      "[TRAIN] Epoch 1 - Batch 200 - Loss: 0.016 - Acc: 0.950%\n"
     ]
    },
    {
     "name": "stderr",
     "output_type": "stream",
     "text": [
      "  1%|          | 1/100 [00:00<01:21,  1.21it/s]"
     ]
    },
    {
     "name": "stdout",
     "output_type": "stream",
     "text": [
      "8.437086875287445\n",
      "[VALID] Epoch 1 - Batch 300 - Loss: 8.437 - Acc: 75.294%\n",
      "[TRAIN] Epoch 1 - Batch 300 - Loss: 0.000 - Acc: 1.000%\n",
      "1.6153057722456643\n",
      "[VALID] Epoch 1 - Batch 400 - Loss: 1.615 - Acc: 92.353%\n",
      "[TRAIN] Epoch 1 - Batch 400 - Loss: 0.000 - Acc: 1.000%\n",
      "12.7393259281183\n",
      "[VALID] Epoch 2 - Batch 100 - Loss: 12.739 - Acc: 70.000%\n",
      "[TRAIN] Epoch 2 - Batch 100 - Loss: 0.042 - Acc: 0.900%\n",
      "11.903009219774429\n",
      "[VALID] Epoch 2 - Batch 200 - Loss: 11.903 - Acc: 73.529%\n",
      "[TRAIN] Epoch 2 - Batch 200 - Loss: 0.015 - Acc: 0.950%\n"
     ]
    },
    {
     "name": "stderr",
     "output_type": "stream",
     "text": [
      "  2%|▏         | 2/100 [00:01<01:07,  1.46it/s]"
     ]
    },
    {
     "name": "stdout",
     "output_type": "stream",
     "text": [
      "10.497129182368607\n",
      "[VALID] Epoch 2 - Batch 300 - Loss: 10.497 - Acc: 73.529%\n",
      "[TRAIN] Epoch 2 - Batch 300 - Loss: 0.000 - Acc: 1.000%\n",
      "1.6116529399011383\n",
      "[VALID] Epoch 2 - Batch 400 - Loss: 1.612 - Acc: 89.412%\n",
      "[TRAIN] Epoch 2 - Batch 400 - Loss: 0.000 - Acc: 1.000%\n",
      "13.585952286553734\n",
      "[VALID] Epoch 3 - Batch 100 - Loss: 13.586 - Acc: 68.824%\n",
      "[TRAIN] Epoch 3 - Batch 100 - Loss: 0.029 - Acc: 0.900%\n",
      "13.379846350673366\n",
      "[VALID] Epoch 3 - Batch 200 - Loss: 13.380 - Acc: 72.353%\n",
      "[TRAIN] Epoch 3 - Batch 200 - Loss: 0.015 - Acc: 0.950%\n"
     ]
    },
    {
     "name": "stderr",
     "output_type": "stream",
     "text": [
      "  3%|▎         | 3/100 [00:01<00:59,  1.64it/s]"
     ]
    },
    {
     "name": "stdout",
     "output_type": "stream",
     "text": [
      "8.44494961216354\n",
      "[VALID] Epoch 3 - Batch 300 - Loss: 8.445 - Acc: 75.294%\n",
      "[TRAIN] Epoch 3 - Batch 300 - Loss: 0.000 - Acc: 1.000%\n",
      "1.4109140784715049\n",
      "[VALID] Epoch 3 - Batch 400 - Loss: 1.411 - Acc: 92.941%\n",
      "[TRAIN] Epoch 3 - Batch 400 - Loss: 0.000 - Acc: 1.000%\n",
      "12.345613549408668\n",
      "[VALID] Epoch 4 - Batch 100 - Loss: 12.346 - Acc: 71.176%\n",
      "[TRAIN] Epoch 4 - Batch 100 - Loss: 0.032 - Acc: 0.850%\n",
      "12.129540725994636\n",
      "[VALID] Epoch 4 - Batch 200 - Loss: 12.130 - Acc: 70.000%\n",
      "[TRAIN] Epoch 4 - Batch 200 - Loss: 0.014 - Acc: 0.950%\n"
     ]
    },
    {
     "name": "stderr",
     "output_type": "stream",
     "text": [
      "  4%|▍         | 4/100 [00:02<00:54,  1.78it/s]"
     ]
    },
    {
     "name": "stdout",
     "output_type": "stream",
     "text": [
      "6.193671086693511\n",
      "[VALID] Epoch 4 - Batch 300 - Loss: 6.194 - Acc: 77.059%\n",
      "[TRAIN] Epoch 4 - Batch 300 - Loss: 0.000 - Acc: 1.000%\n",
      "1.3396779286762117\n",
      "[VALID] Epoch 4 - Batch 400 - Loss: 1.340 - Acc: 92.353%\n",
      "[TRAIN] Epoch 4 - Batch 400 - Loss: 0.000 - Acc: 1.000%\n",
      "11.93882442517754\n",
      "[VALID] Epoch 5 - Batch 100 - Loss: 11.939 - Acc: 70.588%\n",
      "[TRAIN] Epoch 5 - Batch 100 - Loss: 0.030 - Acc: 0.900%\n",
      "12.338238170699162\n",
      "[VALID] Epoch 5 - Batch 200 - Loss: 12.338 - Acc: 71.176%\n",
      "[TRAIN] Epoch 5 - Batch 200 - Loss: 0.015 - Acc: 0.950%\n"
     ]
    },
    {
     "name": "stderr",
     "output_type": "stream",
     "text": [
      "  5%|▌         | 5/100 [00:02<00:50,  1.87it/s]"
     ]
    },
    {
     "name": "stdout",
     "output_type": "stream",
     "text": [
      "6.692578673801002\n",
      "[VALID] Epoch 5 - Batch 300 - Loss: 6.693 - Acc: 76.471%\n",
      "[TRAIN] Epoch 5 - Batch 300 - Loss: 0.000 - Acc: 1.000%\n",
      "1.2670573666265672\n",
      "[VALID] Epoch 5 - Batch 400 - Loss: 1.267 - Acc: 93.529%\n",
      "[TRAIN] Epoch 5 - Batch 400 - Loss: 0.000 - Acc: 1.000%\n",
      "12.199449146714281\n",
      "[VALID] Epoch 6 - Batch 100 - Loss: 12.199 - Acc: 70.588%\n",
      "[TRAIN] Epoch 6 - Batch 100 - Loss: 0.028 - Acc: 0.900%\n",
      "12.28683711560991\n",
      "[VALID] Epoch 6 - Batch 200 - Loss: 12.287 - Acc: 71.176%\n",
      "[TRAIN] Epoch 6 - Batch 200 - Loss: 0.014 - Acc: 0.950%\n"
     ]
    },
    {
     "name": "stderr",
     "output_type": "stream",
     "text": [
      "  6%|▌         | 6/100 [00:03<00:49,  1.91it/s]"
     ]
    },
    {
     "name": "stdout",
     "output_type": "stream",
     "text": [
      "7.3539834150347705\n",
      "[VALID] Epoch 6 - Batch 300 - Loss: 7.354 - Acc: 77.059%\n",
      "[TRAIN] Epoch 6 - Batch 300 - Loss: 0.000 - Acc: 1.000%\n",
      "1.0807902905721127\n",
      "[VALID] Epoch 6 - Batch 400 - Loss: 1.081 - Acc: 93.529%\n",
      "[TRAIN] Epoch 6 - Batch 400 - Loss: 0.000 - Acc: 1.000%\n",
      "12.576106402680178\n",
      "[VALID] Epoch 7 - Batch 100 - Loss: 12.576 - Acc: 71.176%\n",
      "[TRAIN] Epoch 7 - Batch 100 - Loss: 0.033 - Acc: 0.850%\n",
      "11.822478729922508\n",
      "[VALID] Epoch 7 - Batch 200 - Loss: 11.822 - Acc: 71.765%\n",
      "[TRAIN] Epoch 7 - Batch 200 - Loss: 0.014 - Acc: 0.950%\n"
     ]
    },
    {
     "name": "stderr",
     "output_type": "stream",
     "text": [
      "  7%|▋         | 7/100 [00:03<00:47,  1.96it/s]"
     ]
    },
    {
     "name": "stdout",
     "output_type": "stream",
     "text": [
      "5.777347185388756\n",
      "[VALID] Epoch 7 - Batch 300 - Loss: 5.777 - Acc: 79.412%\n",
      "[TRAIN] Epoch 7 - Batch 300 - Loss: 0.000 - Acc: 1.000%\n",
      "1.0848317221812869\n",
      "[VALID] Epoch 7 - Batch 400 - Loss: 1.085 - Acc: 90.588%\n",
      "[TRAIN] Epoch 7 - Batch 400 - Loss: 0.000 - Acc: 1.000%\n",
      "12.656703911292682\n",
      "[VALID] Epoch 8 - Batch 100 - Loss: 12.657 - Acc: 70.588%\n",
      "[TRAIN] Epoch 8 - Batch 100 - Loss: 0.026 - Acc: 0.850%\n",
      "14.27781866008188\n",
      "[VALID] Epoch 8 - Batch 200 - Loss: 14.278 - Acc: 71.176%\n",
      "[TRAIN] Epoch 8 - Batch 200 - Loss: 0.011 - Acc: 0.950%\n"
     ]
    },
    {
     "name": "stderr",
     "output_type": "stream",
     "text": [
      "  8%|▊         | 8/100 [00:04<00:48,  1.88it/s]"
     ]
    },
    {
     "name": "stdout",
     "output_type": "stream",
     "text": [
      "7.385244961424873\n",
      "[VALID] Epoch 8 - Batch 300 - Loss: 7.385 - Acc: 76.471%\n",
      "[TRAIN] Epoch 8 - Batch 300 - Loss: 0.000 - Acc: 1.000%\n",
      "1.0721958386948562\n",
      "[VALID] Epoch 8 - Batch 400 - Loss: 1.072 - Acc: 93.529%\n",
      "[TRAIN] Epoch 8 - Batch 400 - Loss: 0.000 - Acc: 1.000%\n",
      "11.350546976962256\n",
      "[VALID] Epoch 9 - Batch 100 - Loss: 11.351 - Acc: 74.118%\n",
      "[TRAIN] Epoch 9 - Batch 100 - Loss: 0.025 - Acc: 0.900%\n",
      "13.859640588832203\n",
      "[VALID] Epoch 9 - Batch 200 - Loss: 13.860 - Acc: 72.353%\n",
      "[TRAIN] Epoch 9 - Batch 200 - Loss: 0.015 - Acc: 0.950%\n"
     ]
    },
    {
     "name": "stderr",
     "output_type": "stream",
     "text": [
      "  9%|▉         | 9/100 [00:05<00:49,  1.85it/s]"
     ]
    },
    {
     "name": "stdout",
     "output_type": "stream",
     "text": [
      "7.026376352371538\n",
      "[VALID] Epoch 9 - Batch 300 - Loss: 7.026 - Acc: 76.471%\n",
      "[TRAIN] Epoch 9 - Batch 300 - Loss: 0.000 - Acc: 1.000%\n",
      "0.9414233343784856\n",
      "[VALID] Epoch 9 - Batch 400 - Loss: 0.941 - Acc: 93.529%\n",
      "[TRAIN] Epoch 9 - Batch 400 - Loss: 0.000 - Acc: 1.000%\n",
      "12.114985758548036\n",
      "[VALID] Epoch 10 - Batch 100 - Loss: 12.115 - Acc: 71.176%\n",
      "[TRAIN] Epoch 10 - Batch 100 - Loss: 0.021 - Acc: 0.900%\n",
      "13.282483280891793\n",
      "[VALID] Epoch 10 - Batch 200 - Loss: 13.282 - Acc: 71.176%\n",
      "[TRAIN] Epoch 10 - Batch 200 - Loss: 0.014 - Acc: 0.950%\n"
     ]
    },
    {
     "name": "stderr",
     "output_type": "stream",
     "text": [
      " 10%|█         | 10/100 [00:05<00:48,  1.86it/s]"
     ]
    },
    {
     "name": "stdout",
     "output_type": "stream",
     "text": [
      "6.375538053845656\n",
      "[VALID] Epoch 10 - Batch 300 - Loss: 6.376 - Acc: 78.824%\n",
      "[TRAIN] Epoch 10 - Batch 300 - Loss: 0.000 - Acc: 1.000%\n",
      "0.7395964219634031\n",
      "[VALID] Epoch 10 - Batch 400 - Loss: 0.740 - Acc: 93.529%\n",
      "[TRAIN] Epoch 10 - Batch 400 - Loss: 0.000 - Acc: 1.000%\n",
      "11.850714103453909\n",
      "[VALID] Epoch 11 - Batch 100 - Loss: 11.851 - Acc: 72.353%\n",
      "[TRAIN] Epoch 11 - Batch 100 - Loss: 0.023 - Acc: 0.900%\n",
      "12.205464007508194\n",
      "[VALID] Epoch 11 - Batch 200 - Loss: 12.205 - Acc: 72.353%\n",
      "[TRAIN] Epoch 11 - Batch 200 - Loss: 0.016 - Acc: 0.950%\n"
     ]
    },
    {
     "name": "stderr",
     "output_type": "stream",
     "text": [
      " 11%|█         | 11/100 [00:06<00:46,  1.91it/s]"
     ]
    },
    {
     "name": "stdout",
     "output_type": "stream",
     "text": [
      "7.086665685793298\n",
      "[VALID] Epoch 11 - Batch 300 - Loss: 7.087 - Acc: 78.824%\n",
      "[TRAIN] Epoch 11 - Batch 300 - Loss: 0.000 - Acc: 1.000%\n",
      "0.764994084101545\n",
      "[VALID] Epoch 11 - Batch 400 - Loss: 0.765 - Acc: 94.118%\n",
      "[TRAIN] Epoch 11 - Batch 400 - Loss: 0.000 - Acc: 1.000%\n",
      "11.38639147912753\n",
      "[VALID] Epoch 12 - Batch 100 - Loss: 11.386 - Acc: 72.353%\n",
      "[TRAIN] Epoch 12 - Batch 100 - Loss: 0.023 - Acc: 0.900%\n",
      "11.37132409004601\n",
      "[VALID] Epoch 12 - Batch 200 - Loss: 11.371 - Acc: 72.941%\n",
      "[TRAIN] Epoch 12 - Batch 200 - Loss: 0.016 - Acc: 0.950%\n"
     ]
    },
    {
     "name": "stderr",
     "output_type": "stream",
     "text": [
      " 12%|█▏        | 12/100 [00:06<00:46,  1.89it/s]"
     ]
    },
    {
     "name": "stdout",
     "output_type": "stream",
     "text": [
      "8.676748871715608\n",
      "[VALID] Epoch 12 - Batch 300 - Loss: 8.677 - Acc: 76.471%\n",
      "[TRAIN] Epoch 12 - Batch 300 - Loss: 0.000 - Acc: 1.000%\n",
      "0.5535908277160212\n",
      "[VALID] Epoch 12 - Batch 400 - Loss: 0.554 - Acc: 95.882%\n",
      "[TRAIN] Epoch 12 - Batch 400 - Loss: 0.000 - Acc: 1.000%\n",
      "13.473287677896263\n",
      "[VALID] Epoch 13 - Batch 100 - Loss: 13.473 - Acc: 71.176%\n",
      "[TRAIN] Epoch 13 - Batch 100 - Loss: 0.023 - Acc: 0.900%\n",
      "11.620465142970097\n",
      "[VALID] Epoch 13 - Batch 200 - Loss: 11.620 - Acc: 72.941%\n",
      "[TRAIN] Epoch 13 - Batch 200 - Loss: 0.015 - Acc: 0.950%\n"
     ]
    },
    {
     "name": "stderr",
     "output_type": "stream",
     "text": [
      " 13%|█▎        | 13/100 [00:07<00:45,  1.92it/s]"
     ]
    },
    {
     "name": "stdout",
     "output_type": "stream",
     "text": [
      "8.104003192000308\n",
      "[VALID] Epoch 13 - Batch 300 - Loss: 8.104 - Acc: 77.059%\n",
      "[TRAIN] Epoch 13 - Batch 300 - Loss: 0.000 - Acc: 1.000%\n",
      "0.5880667382222569\n",
      "[VALID] Epoch 13 - Batch 400 - Loss: 0.588 - Acc: 93.529%\n",
      "[TRAIN] Epoch 13 - Batch 400 - Loss: 0.000 - Acc: 1.000%\n",
      "11.664381364995888\n",
      "[VALID] Epoch 14 - Batch 100 - Loss: 11.664 - Acc: 71.765%\n",
      "[TRAIN] Epoch 14 - Batch 100 - Loss: 0.018 - Acc: 0.900%\n",
      "12.331470379912675\n",
      "[VALID] Epoch 14 - Batch 200 - Loss: 12.331 - Acc: 71.765%\n",
      "[TRAIN] Epoch 14 - Batch 200 - Loss: 0.013 - Acc: 0.950%\n"
     ]
    },
    {
     "name": "stderr",
     "output_type": "stream",
     "text": [
      " 14%|█▍        | 14/100 [00:07<00:43,  1.98it/s]"
     ]
    },
    {
     "name": "stdout",
     "output_type": "stream",
     "text": [
      "7.465672622355548\n",
      "[VALID] Epoch 14 - Batch 300 - Loss: 7.466 - Acc: 79.412%\n",
      "[TRAIN] Epoch 14 - Batch 300 - Loss: 0.000 - Acc: 1.000%\n",
      "0.6618832495960639\n",
      "[VALID] Epoch 14 - Batch 400 - Loss: 0.662 - Acc: 93.529%\n",
      "[TRAIN] Epoch 14 - Batch 400 - Loss: 0.002 - Acc: 0.900%\n",
      "10.090446347830804\n",
      "[VALID] Epoch 15 - Batch 100 - Loss: 10.090 - Acc: 72.353%\n",
      "[TRAIN] Epoch 15 - Batch 100 - Loss: 0.015 - Acc: 0.900%\n",
      "12.19012912538118\n",
      "[VALID] Epoch 15 - Batch 200 - Loss: 12.190 - Acc: 72.353%\n",
      "[TRAIN] Epoch 15 - Batch 200 - Loss: 0.013 - Acc: 0.950%\n"
     ]
    },
    {
     "name": "stderr",
     "output_type": "stream",
     "text": [
      " 15%|█▌        | 15/100 [00:08<00:42,  2.01it/s]"
     ]
    },
    {
     "name": "stdout",
     "output_type": "stream",
     "text": [
      "6.528761615726741\n",
      "[VALID] Epoch 15 - Batch 300 - Loss: 6.529 - Acc: 78.824%\n",
      "[TRAIN] Epoch 15 - Batch 300 - Loss: 0.000 - Acc: 1.000%\n",
      "0.5411814857359306\n",
      "[VALID] Epoch 15 - Batch 400 - Loss: 0.541 - Acc: 96.471%\n",
      "[TRAIN] Epoch 15 - Batch 400 - Loss: 0.000 - Acc: 1.000%\n",
      "11.006777397691488\n",
      "[VALID] Epoch 16 - Batch 100 - Loss: 11.007 - Acc: 73.529%\n",
      "[TRAIN] Epoch 16 - Batch 100 - Loss: 0.016 - Acc: 0.900%\n",
      "10.657701708239445\n",
      "[VALID] Epoch 16 - Batch 200 - Loss: 10.658 - Acc: 72.941%\n",
      "[TRAIN] Epoch 16 - Batch 200 - Loss: 0.014 - Acc: 0.950%\n",
      "5.855289909503854\n",
      "[VALID] Epoch 16 - Batch 300 - Loss: 5.855 - Acc: 79.412%\n",
      "[TRAIN] Epoch 16 - Batch 300 - Loss: 0.000 - Acc: 1.000%\n"
     ]
    },
    {
     "name": "stderr",
     "output_type": "stream",
     "text": [
      " 16%|█▌        | 16/100 [00:08<00:46,  1.82it/s]"
     ]
    },
    {
     "name": "stdout",
     "output_type": "stream",
     "text": [
      "0.6562056147382089\n",
      "[VALID] Epoch 16 - Batch 400 - Loss: 0.656 - Acc: 95.882%\n",
      "[TRAIN] Epoch 16 - Batch 400 - Loss: 0.000 - Acc: 1.000%\n",
      "9.829963286966079\n",
      "[VALID] Epoch 17 - Batch 100 - Loss: 9.830 - Acc: 72.941%\n",
      "[TRAIN] Epoch 17 - Batch 100 - Loss: 0.015 - Acc: 0.900%\n",
      "10.192435674174845\n",
      "[VALID] Epoch 17 - Batch 200 - Loss: 10.192 - Acc: 73.529%\n",
      "[TRAIN] Epoch 17 - Batch 200 - Loss: 0.016 - Acc: 0.950%\n",
      "5.030282739507718\n",
      "[VALID] Epoch 17 - Batch 300 - Loss: 5.030 - Acc: 82.353%\n",
      "[TRAIN] Epoch 17 - Batch 300 - Loss: 0.000 - Acc: 1.000%\n"
     ]
    },
    {
     "name": "stderr",
     "output_type": "stream",
     "text": [
      " 17%|█▋        | 17/100 [00:09<00:45,  1.83it/s]"
     ]
    },
    {
     "name": "stdout",
     "output_type": "stream",
     "text": [
      "0.42752714054470514\n",
      "[VALID] Epoch 17 - Batch 400 - Loss: 0.428 - Acc: 95.294%\n",
      "[TRAIN] Epoch 17 - Batch 400 - Loss: 0.000 - Acc: 1.000%\n",
      "9.79743570431114\n",
      "[VALID] Epoch 18 - Batch 100 - Loss: 9.797 - Acc: 73.529%\n",
      "[TRAIN] Epoch 18 - Batch 100 - Loss: 0.014 - Acc: 0.900%\n",
      "9.960778338504841\n",
      "[VALID] Epoch 18 - Batch 200 - Loss: 9.961 - Acc: 73.529%\n",
      "[TRAIN] Epoch 18 - Batch 200 - Loss: 0.018 - Acc: 0.850%\n",
      "4.250591517368616\n",
      "[VALID] Epoch 18 - Batch 300 - Loss: 4.251 - Acc: 82.353%\n",
      "[TRAIN] Epoch 18 - Batch 300 - Loss: 0.000 - Acc: 1.000%\n"
     ]
    },
    {
     "name": "stderr",
     "output_type": "stream",
     "text": [
      " 18%|█▊        | 18/100 [00:09<00:44,  1.83it/s]"
     ]
    },
    {
     "name": "stdout",
     "output_type": "stream",
     "text": [
      "0.695551330312703\n",
      "[VALID] Epoch 18 - Batch 400 - Loss: 0.696 - Acc: 91.765%\n",
      "[TRAIN] Epoch 18 - Batch 400 - Loss: 0.000 - Acc: 1.000%\n",
      "9.649644347718421\n",
      "[VALID] Epoch 19 - Batch 100 - Loss: 9.650 - Acc: 73.529%\n",
      "[TRAIN] Epoch 19 - Batch 100 - Loss: 0.009 - Acc: 0.900%\n",
      "11.5992150006706\n",
      "[VALID] Epoch 19 - Batch 200 - Loss: 11.599 - Acc: 72.353%\n",
      "[TRAIN] Epoch 19 - Batch 200 - Loss: 0.012 - Acc: 0.950%\n",
      "4.309110522594368\n",
      "[VALID] Epoch 19 - Batch 300 - Loss: 4.309 - Acc: 81.176%\n",
      "[TRAIN] Epoch 19 - Batch 300 - Loss: 0.000 - Acc: 1.000%\n"
     ]
    },
    {
     "name": "stderr",
     "output_type": "stream",
     "text": [
      " 19%|█▉        | 19/100 [00:10<00:43,  1.88it/s]"
     ]
    },
    {
     "name": "stdout",
     "output_type": "stream",
     "text": [
      "0.6208666738507685\n",
      "[VALID] Epoch 19 - Batch 400 - Loss: 0.621 - Acc: 93.529%\n",
      "[TRAIN] Epoch 19 - Batch 400 - Loss: 0.000 - Acc: 1.000%\n",
      "8.70255849332931\n",
      "[VALID] Epoch 20 - Batch 100 - Loss: 8.703 - Acc: 74.118%\n",
      "[TRAIN] Epoch 20 - Batch 100 - Loss: 0.007 - Acc: 0.900%\n",
      "12.249252002160338\n",
      "[VALID] Epoch 20 - Batch 200 - Loss: 12.249 - Acc: 71.765%\n",
      "[TRAIN] Epoch 20 - Batch 200 - Loss: 0.014 - Acc: 0.900%\n",
      "4.7530355379216385\n",
      "[VALID] Epoch 20 - Batch 300 - Loss: 4.753 - Acc: 80.588%\n",
      "[TRAIN] Epoch 20 - Batch 300 - Loss: 0.000 - Acc: 1.000%\n"
     ]
    },
    {
     "name": "stderr",
     "output_type": "stream",
     "text": [
      " 20%|██        | 20/100 [00:10<00:41,  1.94it/s]"
     ]
    },
    {
     "name": "stdout",
     "output_type": "stream",
     "text": [
      "0.4695422783204877\n",
      "[VALID] Epoch 20 - Batch 400 - Loss: 0.470 - Acc: 95.882%\n",
      "[TRAIN] Epoch 20 - Batch 400 - Loss: 0.000 - Acc: 1.000%\n",
      "8.451954589915625\n",
      "[VALID] Epoch 21 - Batch 100 - Loss: 8.452 - Acc: 74.706%\n",
      "[TRAIN] Epoch 21 - Batch 100 - Loss: 0.002 - Acc: 0.900%\n",
      "11.57299784272908\n",
      "[VALID] Epoch 21 - Batch 200 - Loss: 11.573 - Acc: 72.941%\n",
      "[TRAIN] Epoch 21 - Batch 200 - Loss: 0.012 - Acc: 0.950%\n",
      "4.739308299087561\n",
      "[VALID] Epoch 21 - Batch 300 - Loss: 4.739 - Acc: 80.588%\n",
      "[TRAIN] Epoch 21 - Batch 300 - Loss: 0.000 - Acc: 1.000%\n"
     ]
    },
    {
     "name": "stderr",
     "output_type": "stream",
     "text": [
      " 21%|██        | 21/100 [00:11<00:40,  1.94it/s]"
     ]
    },
    {
     "name": "stdout",
     "output_type": "stream",
     "text": [
      "0.4783040499868494\n",
      "[VALID] Epoch 21 - Batch 400 - Loss: 0.478 - Acc: 93.529%\n",
      "[TRAIN] Epoch 21 - Batch 400 - Loss: 0.000 - Acc: 1.000%\n",
      "10.004835471904524\n",
      "[VALID] Epoch 22 - Batch 100 - Loss: 10.005 - Acc: 73.529%\n",
      "[TRAIN] Epoch 22 - Batch 100 - Loss: 0.001 - Acc: 0.950%\n",
      "13.14376704114325\n",
      "[VALID] Epoch 22 - Batch 200 - Loss: 13.144 - Acc: 72.353%\n",
      "[TRAIN] Epoch 22 - Batch 200 - Loss: 0.013 - Acc: 0.950%\n",
      "4.735455333926454\n",
      "[VALID] Epoch 22 - Batch 300 - Loss: 4.735 - Acc: 80.588%\n",
      "[TRAIN] Epoch 22 - Batch 300 - Loss: 0.000 - Acc: 1.000%\n"
     ]
    },
    {
     "name": "stderr",
     "output_type": "stream",
     "text": [
      " 22%|██▏       | 22/100 [00:11<00:39,  1.98it/s]"
     ]
    },
    {
     "name": "stdout",
     "output_type": "stream",
     "text": [
      "0.5654345856823698\n",
      "[VALID] Epoch 22 - Batch 400 - Loss: 0.565 - Acc: 92.941%\n",
      "[TRAIN] Epoch 22 - Batch 400 - Loss: 0.000 - Acc: 1.000%\n",
      "8.411617929575932\n",
      "[VALID] Epoch 23 - Batch 100 - Loss: 8.412 - Acc: 74.118%\n",
      "[TRAIN] Epoch 23 - Batch 100 - Loss: 0.001 - Acc: 0.900%\n",
      "10.396955690532804\n",
      "[VALID] Epoch 23 - Batch 200 - Loss: 10.397 - Acc: 72.941%\n",
      "[TRAIN] Epoch 23 - Batch 200 - Loss: 0.013 - Acc: 0.950%\n",
      "6.868379613456401\n",
      "[VALID] Epoch 23 - Batch 300 - Loss: 6.868 - Acc: 77.647%\n",
      "[TRAIN] Epoch 23 - Batch 300 - Loss: 0.000 - Acc: 1.000%\n"
     ]
    },
    {
     "name": "stderr",
     "output_type": "stream",
     "text": [
      " 23%|██▎       | 23/100 [00:12<00:38,  2.02it/s]"
     ]
    },
    {
     "name": "stdout",
     "output_type": "stream",
     "text": [
      "0.5437021886610798\n",
      "[VALID] Epoch 23 - Batch 400 - Loss: 0.544 - Acc: 94.118%\n",
      "[TRAIN] Epoch 23 - Batch 400 - Loss: 0.000 - Acc: 1.000%\n",
      "8.85232334634398\n",
      "[VALID] Epoch 24 - Batch 100 - Loss: 8.852 - Acc: 73.529%\n",
      "[TRAIN] Epoch 24 - Batch 100 - Loss: 0.001 - Acc: 1.000%\n",
      "11.399387785397906\n",
      "[VALID] Epoch 24 - Batch 200 - Loss: 11.399 - Acc: 72.353%\n",
      "[TRAIN] Epoch 24 - Batch 200 - Loss: 0.012 - Acc: 0.950%\n",
      "3.814051024402044\n",
      "[VALID] Epoch 24 - Batch 300 - Loss: 3.814 - Acc: 81.176%\n",
      "[TRAIN] Epoch 24 - Batch 300 - Loss: 0.000 - Acc: 1.000%\n"
     ]
    },
    {
     "name": "stderr",
     "output_type": "stream",
     "text": [
      " 24%|██▍       | 24/100 [00:12<00:36,  2.06it/s]"
     ]
    },
    {
     "name": "stdout",
     "output_type": "stream",
     "text": [
      "0.5190035165848231\n",
      "[VALID] Epoch 24 - Batch 400 - Loss: 0.519 - Acc: 94.118%\n",
      "[TRAIN] Epoch 24 - Batch 400 - Loss: 0.000 - Acc: 1.000%\n",
      "9.946652855198172\n",
      "[VALID] Epoch 25 - Batch 100 - Loss: 9.947 - Acc: 73.529%\n",
      "[TRAIN] Epoch 25 - Batch 100 - Loss: 0.000 - Acc: 1.000%\n",
      "11.54617326014179\n",
      "[VALID] Epoch 25 - Batch 200 - Loss: 11.546 - Acc: 70.588%\n",
      "[TRAIN] Epoch 25 - Batch 200 - Loss: 0.012 - Acc: 0.950%\n",
      "3.085708618049913\n",
      "[VALID] Epoch 25 - Batch 300 - Loss: 3.086 - Acc: 82.353%\n",
      "[TRAIN] Epoch 25 - Batch 300 - Loss: 0.000 - Acc: 1.000%\n"
     ]
    },
    {
     "name": "stderr",
     "output_type": "stream",
     "text": [
      " 25%|██▌       | 25/100 [00:13<00:36,  2.03it/s]"
     ]
    },
    {
     "name": "stdout",
     "output_type": "stream",
     "text": [
      "0.4102208776530331\n",
      "[VALID] Epoch 25 - Batch 400 - Loss: 0.410 - Acc: 95.294%\n",
      "[TRAIN] Epoch 25 - Batch 400 - Loss: 0.000 - Acc: 1.000%\n",
      "8.880828855142873\n",
      "[VALID] Epoch 26 - Batch 100 - Loss: 8.881 - Acc: 74.118%\n",
      "[TRAIN] Epoch 26 - Batch 100 - Loss: 0.001 - Acc: 0.950%\n",
      "8.416867322954712\n",
      "[VALID] Epoch 26 - Batch 200 - Loss: 8.417 - Acc: 75.294%\n",
      "[TRAIN] Epoch 26 - Batch 200 - Loss: 0.015 - Acc: 0.950%\n",
      "4.783750983911113\n",
      "[VALID] Epoch 26 - Batch 300 - Loss: 4.784 - Acc: 79.412%\n",
      "[TRAIN] Epoch 26 - Batch 300 - Loss: 0.000 - Acc: 1.000%\n"
     ]
    },
    {
     "name": "stderr",
     "output_type": "stream",
     "text": [
      " 26%|██▌       | 26/100 [00:13<00:36,  2.03it/s]"
     ]
    },
    {
     "name": "stdout",
     "output_type": "stream",
     "text": [
      "0.27557606092832476\n",
      "[VALID] Epoch 26 - Batch 400 - Loss: 0.276 - Acc: 97.059%\n",
      "[TRAIN] Epoch 26 - Batch 400 - Loss: 0.000 - Acc: 1.000%\n",
      "7.089282402133208\n",
      "[VALID] Epoch 27 - Batch 100 - Loss: 7.089 - Acc: 74.118%\n",
      "[TRAIN] Epoch 27 - Batch 100 - Loss: 0.000 - Acc: 1.000%\n",
      "8.640705956825432\n",
      "[VALID] Epoch 27 - Batch 200 - Loss: 8.641 - Acc: 72.941%\n",
      "[TRAIN] Epoch 27 - Batch 200 - Loss: 0.012 - Acc: 0.950%\n",
      "3.3985277941816414\n",
      "[VALID] Epoch 27 - Batch 300 - Loss: 3.399 - Acc: 79.412%\n",
      "[TRAIN] Epoch 27 - Batch 300 - Loss: 0.000 - Acc: 1.000%\n"
     ]
    },
    {
     "name": "stderr",
     "output_type": "stream",
     "text": [
      " 27%|██▋       | 27/100 [00:14<00:36,  1.99it/s]"
     ]
    },
    {
     "name": "stdout",
     "output_type": "stream",
     "text": [
      "0.27867931726006434\n",
      "[VALID] Epoch 27 - Batch 400 - Loss: 0.279 - Acc: 96.471%\n",
      "[TRAIN] Epoch 27 - Batch 400 - Loss: 0.000 - Acc: 1.000%\n",
      "7.971108327367724\n",
      "[VALID] Epoch 28 - Batch 100 - Loss: 7.971 - Acc: 74.118%\n",
      "[TRAIN] Epoch 28 - Batch 100 - Loss: 0.000 - Acc: 1.000%\n",
      "7.863565988046583\n",
      "[VALID] Epoch 28 - Batch 200 - Loss: 7.864 - Acc: 75.294%\n",
      "[TRAIN] Epoch 28 - Batch 200 - Loss: 0.013 - Acc: 0.950%\n",
      "4.028155988936819\n",
      "[VALID] Epoch 28 - Batch 300 - Loss: 4.028 - Acc: 79.412%\n",
      "[TRAIN] Epoch 28 - Batch 300 - Loss: 0.000 - Acc: 1.000%\n"
     ]
    },
    {
     "name": "stderr",
     "output_type": "stream",
     "text": [
      " 28%|██▊       | 28/100 [00:14<00:36,  1.98it/s]"
     ]
    },
    {
     "name": "stdout",
     "output_type": "stream",
     "text": [
      "0.48212519899431117\n",
      "[VALID] Epoch 28 - Batch 400 - Loss: 0.482 - Acc: 93.529%\n",
      "[TRAIN] Epoch 28 - Batch 400 - Loss: 0.000 - Acc: 1.000%\n",
      "7.425372529051758\n",
      "[VALID] Epoch 29 - Batch 100 - Loss: 7.425 - Acc: 73.529%\n",
      "[TRAIN] Epoch 29 - Batch 100 - Loss: 0.000 - Acc: 1.000%\n",
      "7.770962156442719\n",
      "[VALID] Epoch 29 - Batch 200 - Loss: 7.771 - Acc: 74.118%\n",
      "[TRAIN] Epoch 29 - Batch 200 - Loss: 0.011 - Acc: 0.950%\n",
      "3.3968955006402695\n",
      "[VALID] Epoch 29 - Batch 300 - Loss: 3.397 - Acc: 81.176%\n",
      "[TRAIN] Epoch 29 - Batch 300 - Loss: 0.000 - Acc: 1.000%\n"
     ]
    },
    {
     "name": "stderr",
     "output_type": "stream",
     "text": [
      " 29%|██▉       | 29/100 [00:15<00:35,  2.00it/s]"
     ]
    },
    {
     "name": "stdout",
     "output_type": "stream",
     "text": [
      "0.4064631448805277\n",
      "[VALID] Epoch 29 - Batch 400 - Loss: 0.406 - Acc: 94.706%\n",
      "[TRAIN] Epoch 29 - Batch 400 - Loss: 0.000 - Acc: 1.000%\n",
      "7.771159211677616\n",
      "[VALID] Epoch 30 - Batch 100 - Loss: 7.771 - Acc: 73.529%\n",
      "[TRAIN] Epoch 30 - Batch 100 - Loss: 0.000 - Acc: 1.000%\n",
      "9.49879790715435\n",
      "[VALID] Epoch 30 - Batch 200 - Loss: 9.499 - Acc: 73.529%\n",
      "[TRAIN] Epoch 30 - Batch 200 - Loss: 0.010 - Acc: 0.950%\n",
      "3.612953176692586\n",
      "[VALID] Epoch 30 - Batch 300 - Loss: 3.613 - Acc: 80.000%\n",
      "[TRAIN] Epoch 30 - Batch 300 - Loss: 0.000 - Acc: 1.000%\n"
     ]
    },
    {
     "name": "stderr",
     "output_type": "stream",
     "text": [
      " 30%|███       | 30/100 [00:16<00:51,  1.35it/s]"
     ]
    },
    {
     "name": "stdout",
     "output_type": "stream",
     "text": [
      "0.312740241826733\n",
      "[VALID] Epoch 30 - Batch 400 - Loss: 0.313 - Acc: 96.471%\n",
      "[TRAIN] Epoch 30 - Batch 400 - Loss: 0.000 - Acc: 1.000%\n",
      "7.235476737973422\n",
      "[VALID] Epoch 31 - Batch 100 - Loss: 7.235 - Acc: 74.118%\n",
      "[TRAIN] Epoch 31 - Batch 100 - Loss: 0.001 - Acc: 0.900%\n",
      "5.2677773803906325\n",
      "[VALID] Epoch 31 - Batch 200 - Loss: 5.268 - Acc: 78.824%\n",
      "[TRAIN] Epoch 31 - Batch 200 - Loss: 0.011 - Acc: 0.900%\n"
     ]
    },
    {
     "name": "stderr",
     "output_type": "stream",
     "text": [
      " 31%|███       | 31/100 [00:17<00:49,  1.38it/s]"
     ]
    },
    {
     "name": "stdout",
     "output_type": "stream",
     "text": [
      "4.019212270957509\n",
      "[VALID] Epoch 31 - Batch 300 - Loss: 4.019 - Acc: 78.824%\n",
      "[TRAIN] Epoch 31 - Batch 300 - Loss: 0.000 - Acc: 1.000%\n",
      "0.35153946450468787\n",
      "[VALID] Epoch 31 - Batch 400 - Loss: 0.352 - Acc: 96.471%\n",
      "[TRAIN] Epoch 31 - Batch 400 - Loss: 0.000 - Acc: 1.000%\n",
      "7.332636666385552\n",
      "[VALID] Epoch 32 - Batch 100 - Loss: 7.333 - Acc: 72.941%\n",
      "[TRAIN] Epoch 32 - Batch 100 - Loss: 0.000 - Acc: 1.000%\n",
      "6.585520467073613\n",
      "[VALID] Epoch 32 - Batch 200 - Loss: 6.586 - Acc: 76.471%\n",
      "[TRAIN] Epoch 32 - Batch 200 - Loss: 0.013 - Acc: 0.950%\n"
     ]
    },
    {
     "name": "stderr",
     "output_type": "stream",
     "text": [
      " 32%|███▏      | 32/100 [00:17<00:45,  1.49it/s]"
     ]
    },
    {
     "name": "stdout",
     "output_type": "stream",
     "text": [
      "3.481270508868714\n",
      "[VALID] Epoch 32 - Batch 300 - Loss: 3.481 - Acc: 81.765%\n",
      "[TRAIN] Epoch 32 - Batch 300 - Loss: 0.000 - Acc: 1.000%\n",
      "0.25127955513359185\n",
      "[VALID] Epoch 32 - Batch 400 - Loss: 0.251 - Acc: 96.471%\n",
      "[TRAIN] Epoch 32 - Batch 400 - Loss: 0.000 - Acc: 1.000%\n",
      "7.995905459124365\n",
      "[VALID] Epoch 33 - Batch 100 - Loss: 7.996 - Acc: 74.706%\n",
      "[TRAIN] Epoch 33 - Batch 100 - Loss: 0.000 - Acc: 1.000%\n",
      "6.613074700621489\n",
      "[VALID] Epoch 33 - Batch 200 - Loss: 6.613 - Acc: 75.882%\n",
      "[TRAIN] Epoch 33 - Batch 200 - Loss: 0.013 - Acc: 0.950%\n"
     ]
    },
    {
     "name": "stderr",
     "output_type": "stream",
     "text": [
      " 33%|███▎      | 33/100 [00:18<00:41,  1.61it/s]"
     ]
    },
    {
     "name": "stdout",
     "output_type": "stream",
     "text": [
      "4.331331826514917\n",
      "[VALID] Epoch 33 - Batch 300 - Loss: 4.331 - Acc: 80.000%\n",
      "[TRAIN] Epoch 33 - Batch 300 - Loss: 0.000 - Acc: 1.000%\n",
      "0.3121401588768233\n",
      "[VALID] Epoch 33 - Batch 400 - Loss: 0.312 - Acc: 95.882%\n",
      "[TRAIN] Epoch 33 - Batch 400 - Loss: 0.000 - Acc: 1.000%\n",
      "6.585154868640401\n",
      "[VALID] Epoch 34 - Batch 100 - Loss: 6.585 - Acc: 74.706%\n",
      "[TRAIN] Epoch 34 - Batch 100 - Loss: 0.000 - Acc: 1.000%\n",
      "5.981787116912515\n",
      "[VALID] Epoch 34 - Batch 200 - Loss: 5.982 - Acc: 77.059%\n",
      "[TRAIN] Epoch 34 - Batch 200 - Loss: 0.011 - Acc: 0.950%\n"
     ]
    },
    {
     "name": "stderr",
     "output_type": "stream",
     "text": [
      " 34%|███▍      | 34/100 [00:18<00:38,  1.69it/s]"
     ]
    },
    {
     "name": "stdout",
     "output_type": "stream",
     "text": [
      "2.899304212733595\n",
      "[VALID] Epoch 34 - Batch 300 - Loss: 2.899 - Acc: 82.353%\n",
      "[TRAIN] Epoch 34 - Batch 300 - Loss: 0.000 - Acc: 1.000%\n",
      "0.2460739550455842\n",
      "[VALID] Epoch 34 - Batch 400 - Loss: 0.246 - Acc: 97.059%\n",
      "[TRAIN] Epoch 34 - Batch 400 - Loss: 0.000 - Acc: 1.000%\n",
      "6.580438575059361\n",
      "[VALID] Epoch 35 - Batch 100 - Loss: 6.580 - Acc: 73.529%\n",
      "[TRAIN] Epoch 35 - Batch 100 - Loss: 0.000 - Acc: 1.000%\n",
      "6.739014031255291\n",
      "[VALID] Epoch 35 - Batch 200 - Loss: 6.739 - Acc: 76.471%\n",
      "[TRAIN] Epoch 35 - Batch 200 - Loss: 0.011 - Acc: 0.950%\n"
     ]
    },
    {
     "name": "stderr",
     "output_type": "stream",
     "text": [
      " 35%|███▌      | 35/100 [00:19<00:37,  1.75it/s]"
     ]
    },
    {
     "name": "stdout",
     "output_type": "stream",
     "text": [
      "5.042352900389126\n",
      "[VALID] Epoch 35 - Batch 300 - Loss: 5.042 - Acc: 78.824%\n",
      "[TRAIN] Epoch 35 - Batch 300 - Loss: 0.000 - Acc: 1.000%\n",
      "0.24206292250366512\n",
      "[VALID] Epoch 35 - Batch 400 - Loss: 0.242 - Acc: 97.647%\n",
      "[TRAIN] Epoch 35 - Batch 400 - Loss: 0.000 - Acc: 1.000%\n",
      "7.786880840886872\n",
      "[VALID] Epoch 36 - Batch 100 - Loss: 7.787 - Acc: 74.706%\n",
      "[TRAIN] Epoch 36 - Batch 100 - Loss: 0.004 - Acc: 0.900%\n",
      "4.71606706431671\n",
      "[VALID] Epoch 36 - Batch 200 - Loss: 4.716 - Acc: 78.235%\n",
      "[TRAIN] Epoch 36 - Batch 200 - Loss: 0.011 - Acc: 0.950%\n"
     ]
    },
    {
     "name": "stderr",
     "output_type": "stream",
     "text": [
      " 36%|███▌      | 36/100 [00:19<00:35,  1.83it/s]"
     ]
    },
    {
     "name": "stdout",
     "output_type": "stream",
     "text": [
      "4.432837420514261\n",
      "[VALID] Epoch 36 - Batch 300 - Loss: 4.433 - Acc: 79.412%\n",
      "[TRAIN] Epoch 36 - Batch 300 - Loss: 0.000 - Acc: 1.000%\n",
      "0.26063730142639857\n",
      "[VALID] Epoch 36 - Batch 400 - Loss: 0.261 - Acc: 97.059%\n",
      "[TRAIN] Epoch 36 - Batch 400 - Loss: 0.000 - Acc: 1.000%\n",
      "7.803068224143313\n",
      "[VALID] Epoch 37 - Batch 100 - Loss: 7.803 - Acc: 73.529%\n",
      "[TRAIN] Epoch 37 - Batch 100 - Loss: 0.000 - Acc: 1.000%\n",
      "5.485352873756068\n",
      "[VALID] Epoch 37 - Batch 200 - Loss: 5.485 - Acc: 77.059%\n",
      "[TRAIN] Epoch 37 - Batch 200 - Loss: 0.009 - Acc: 0.950%\n"
     ]
    },
    {
     "name": "stderr",
     "output_type": "stream",
     "text": [
      " 37%|███▋      | 37/100 [00:20<00:34,  1.81it/s]"
     ]
    },
    {
     "name": "stdout",
     "output_type": "stream",
     "text": [
      "4.286112791940491\n",
      "[VALID] Epoch 37 - Batch 300 - Loss: 4.286 - Acc: 80.588%\n",
      "[TRAIN] Epoch 37 - Batch 300 - Loss: 0.000 - Acc: 1.000%\n",
      "0.270575966612688\n",
      "[VALID] Epoch 37 - Batch 400 - Loss: 0.271 - Acc: 97.647%\n",
      "[TRAIN] Epoch 37 - Batch 400 - Loss: 0.000 - Acc: 1.000%\n",
      "5.824774139878493\n",
      "[VALID] Epoch 38 - Batch 100 - Loss: 5.825 - Acc: 77.059%\n",
      "[TRAIN] Epoch 38 - Batch 100 - Loss: 0.000 - Acc: 1.000%\n",
      "6.166072929807931\n",
      "[VALID] Epoch 38 - Batch 200 - Loss: 6.166 - Acc: 77.059%\n",
      "[TRAIN] Epoch 38 - Batch 200 - Loss: 0.011 - Acc: 0.950%\n"
     ]
    },
    {
     "name": "stderr",
     "output_type": "stream",
     "text": [
      " 38%|███▊      | 38/100 [00:20<00:35,  1.75it/s]"
     ]
    },
    {
     "name": "stdout",
     "output_type": "stream",
     "text": [
      "4.5730740318583285\n",
      "[VALID] Epoch 38 - Batch 300 - Loss: 4.573 - Acc: 81.765%\n",
      "[TRAIN] Epoch 38 - Batch 300 - Loss: 0.000 - Acc: 1.000%\n",
      "0.4209738528453399\n",
      "[VALID] Epoch 38 - Batch 400 - Loss: 0.421 - Acc: 93.529%\n",
      "[TRAIN] Epoch 38 - Batch 400 - Loss: 0.000 - Acc: 1.000%\n",
      "7.240337073846534\n",
      "[VALID] Epoch 39 - Batch 100 - Loss: 7.240 - Acc: 74.706%\n",
      "[TRAIN] Epoch 39 - Batch 100 - Loss: 0.000 - Acc: 1.000%\n",
      "5.537435585572145\n",
      "[VALID] Epoch 39 - Batch 200 - Loss: 5.537 - Acc: 77.647%\n",
      "[TRAIN] Epoch 39 - Batch 200 - Loss: 0.015 - Acc: 0.850%\n"
     ]
    },
    {
     "name": "stderr",
     "output_type": "stream",
     "text": [
      " 39%|███▉      | 39/100 [00:21<00:34,  1.78it/s]"
     ]
    },
    {
     "name": "stdout",
     "output_type": "stream",
     "text": [
      "4.526153008155448\n",
      "[VALID] Epoch 39 - Batch 300 - Loss: 4.526 - Acc: 80.000%\n",
      "[TRAIN] Epoch 39 - Batch 300 - Loss: 0.000 - Acc: 1.000%\n",
      "0.20050108348685108\n",
      "[VALID] Epoch 39 - Batch 400 - Loss: 0.201 - Acc: 97.647%\n",
      "[TRAIN] Epoch 39 - Batch 400 - Loss: 0.013 - Acc: 0.900%\n",
      "7.737386705550722\n",
      "[VALID] Epoch 40 - Batch 100 - Loss: 7.737 - Acc: 74.706%\n",
      "[TRAIN] Epoch 40 - Batch 100 - Loss: 0.000 - Acc: 1.000%\n",
      "5.793338176252799\n",
      "[VALID] Epoch 40 - Batch 200 - Loss: 5.793 - Acc: 78.235%\n",
      "[TRAIN] Epoch 40 - Batch 200 - Loss: 0.012 - Acc: 0.950%\n"
     ]
    },
    {
     "name": "stderr",
     "output_type": "stream",
     "text": [
      " 40%|████      | 40/100 [00:22<00:33,  1.80it/s]"
     ]
    },
    {
     "name": "stdout",
     "output_type": "stream",
     "text": [
      "4.415080961436401\n",
      "[VALID] Epoch 40 - Batch 300 - Loss: 4.415 - Acc: 80.000%\n",
      "[TRAIN] Epoch 40 - Batch 300 - Loss: 0.000 - Acc: 1.000%\n",
      "0.2856066585367066\n",
      "[VALID] Epoch 40 - Batch 400 - Loss: 0.286 - Acc: 95.882%\n",
      "[TRAIN] Epoch 40 - Batch 400 - Loss: 0.000 - Acc: 1.000%\n",
      "7.293133119252309\n",
      "[VALID] Epoch 41 - Batch 100 - Loss: 7.293 - Acc: 75.294%\n",
      "[TRAIN] Epoch 41 - Batch 100 - Loss: 0.000 - Acc: 1.000%\n",
      "3.378182441155385\n",
      "[VALID] Epoch 41 - Batch 200 - Loss: 3.378 - Acc: 81.765%\n",
      "[TRAIN] Epoch 41 - Batch 200 - Loss: 0.012 - Acc: 0.900%\n"
     ]
    },
    {
     "name": "stderr",
     "output_type": "stream",
     "text": [
      " 41%|████      | 41/100 [00:22<00:31,  1.88it/s]"
     ]
    },
    {
     "name": "stdout",
     "output_type": "stream",
     "text": [
      "3.9682121096491434\n",
      "[VALID] Epoch 41 - Batch 300 - Loss: 3.968 - Acc: 82.353%\n",
      "[TRAIN] Epoch 41 - Batch 300 - Loss: 0.000 - Acc: 1.000%\n",
      "0.3865280185892409\n",
      "[VALID] Epoch 41 - Batch 400 - Loss: 0.387 - Acc: 94.706%\n",
      "[TRAIN] Epoch 41 - Batch 400 - Loss: 0.000 - Acc: 1.000%\n",
      "7.131221622162497\n",
      "[VALID] Epoch 42 - Batch 100 - Loss: 7.131 - Acc: 76.471%\n",
      "[TRAIN] Epoch 42 - Batch 100 - Loss: 0.000 - Acc: 1.000%\n",
      "5.9774319781887675\n",
      "[VALID] Epoch 42 - Batch 200 - Loss: 5.977 - Acc: 78.235%\n",
      "[TRAIN] Epoch 42 - Batch 200 - Loss: 0.009 - Acc: 0.950%\n"
     ]
    },
    {
     "name": "stderr",
     "output_type": "stream",
     "text": [
      " 42%|████▏     | 42/100 [00:23<00:29,  1.94it/s]"
     ]
    },
    {
     "name": "stdout",
     "output_type": "stream",
     "text": [
      "3.3266015061420844\n",
      "[VALID] Epoch 42 - Batch 300 - Loss: 3.327 - Acc: 84.706%\n",
      "[TRAIN] Epoch 42 - Batch 300 - Loss: 0.000 - Acc: 1.000%\n",
      "0.2309877192045589\n",
      "[VALID] Epoch 42 - Batch 400 - Loss: 0.231 - Acc: 97.647%\n",
      "[TRAIN] Epoch 42 - Batch 400 - Loss: 0.000 - Acc: 1.000%\n",
      "5.786168557076524\n",
      "[VALID] Epoch 43 - Batch 100 - Loss: 5.786 - Acc: 77.647%\n",
      "[TRAIN] Epoch 43 - Batch 100 - Loss: 0.000 - Acc: 1.000%\n",
      "3.6591336905055014\n",
      "[VALID] Epoch 43 - Batch 200 - Loss: 3.659 - Acc: 82.353%\n",
      "[TRAIN] Epoch 43 - Batch 200 - Loss: 0.011 - Acc: 0.900%\n"
     ]
    },
    {
     "name": "stderr",
     "output_type": "stream",
     "text": [
      " 43%|████▎     | 43/100 [00:23<00:28,  1.99it/s]"
     ]
    },
    {
     "name": "stdout",
     "output_type": "stream",
     "text": [
      "4.5425176580219535\n",
      "[VALID] Epoch 43 - Batch 300 - Loss: 4.543 - Acc: 82.941%\n",
      "[TRAIN] Epoch 43 - Batch 300 - Loss: 0.001 - Acc: 0.900%\n",
      "0.2566019351500151\n",
      "[VALID] Epoch 43 - Batch 400 - Loss: 0.257 - Acc: 95.882%\n",
      "[TRAIN] Epoch 43 - Batch 400 - Loss: 0.000 - Acc: 1.000%\n",
      "5.401398235778584\n",
      "[VALID] Epoch 44 - Batch 100 - Loss: 5.401 - Acc: 79.412%\n",
      "[TRAIN] Epoch 44 - Batch 100 - Loss: 0.000 - Acc: 1.000%\n",
      "1.9364909877545762\n",
      "[VALID] Epoch 44 - Batch 200 - Loss: 1.936 - Acc: 88.235%\n",
      "[TRAIN] Epoch 44 - Batch 200 - Loss: 0.010 - Acc: 0.950%\n"
     ]
    },
    {
     "name": "stderr",
     "output_type": "stream",
     "text": [
      " 44%|████▍     | 44/100 [00:23<00:27,  2.05it/s]"
     ]
    },
    {
     "name": "stdout",
     "output_type": "stream",
     "text": [
      "4.985966425504504\n",
      "[VALID] Epoch 44 - Batch 300 - Loss: 4.986 - Acc: 79.412%\n",
      "[TRAIN] Epoch 44 - Batch 300 - Loss: 0.000 - Acc: 1.000%\n",
      "0.2944973836925891\n",
      "[VALID] Epoch 44 - Batch 400 - Loss: 0.294 - Acc: 95.294%\n",
      "[TRAIN] Epoch 44 - Batch 400 - Loss: 0.000 - Acc: 1.000%\n",
      "4.770106679069566\n",
      "[VALID] Epoch 45 - Batch 100 - Loss: 4.770 - Acc: 80.000%\n",
      "[TRAIN] Epoch 45 - Batch 100 - Loss: 0.000 - Acc: 1.000%\n",
      "2.167154614440198\n",
      "[VALID] Epoch 45 - Batch 200 - Loss: 2.167 - Acc: 87.647%\n",
      "[TRAIN] Epoch 45 - Batch 200 - Loss: 0.010 - Acc: 0.950%\n"
     ]
    },
    {
     "name": "stderr",
     "output_type": "stream",
     "text": [
      " 45%|████▌     | 45/100 [00:24<00:27,  2.00it/s]"
     ]
    },
    {
     "name": "stdout",
     "output_type": "stream",
     "text": [
      "3.668780912461122\n",
      "[VALID] Epoch 45 - Batch 300 - Loss: 3.669 - Acc: 81.176%\n",
      "[TRAIN] Epoch 45 - Batch 300 - Loss: 0.000 - Acc: 1.000%\n",
      "0.32368265005165725\n",
      "[VALID] Epoch 45 - Batch 400 - Loss: 0.324 - Acc: 96.471%\n",
      "[TRAIN] Epoch 45 - Batch 400 - Loss: 0.000 - Acc: 1.000%\n",
      "7.034255967793088\n",
      "[VALID] Epoch 46 - Batch 100 - Loss: 7.034 - Acc: 75.294%\n",
      "[TRAIN] Epoch 46 - Batch 100 - Loss: 0.000 - Acc: 1.000%\n",
      "2.621739907536454\n",
      "[VALID] Epoch 46 - Batch 200 - Loss: 2.622 - Acc: 85.294%\n",
      "[TRAIN] Epoch 46 - Batch 200 - Loss: 0.009 - Acc: 0.950%\n"
     ]
    },
    {
     "name": "stderr",
     "output_type": "stream",
     "text": [
      " 46%|████▌     | 46/100 [00:24<00:26,  2.04it/s]"
     ]
    },
    {
     "name": "stdout",
     "output_type": "stream",
     "text": [
      "3.5445806443625343\n",
      "[VALID] Epoch 46 - Batch 300 - Loss: 3.545 - Acc: 82.941%\n",
      "[TRAIN] Epoch 46 - Batch 300 - Loss: 0.000 - Acc: 1.000%\n",
      "0.2453017664290923\n",
      "[VALID] Epoch 46 - Batch 400 - Loss: 0.245 - Acc: 96.471%\n",
      "[TRAIN] Epoch 46 - Batch 400 - Loss: 0.000 - Acc: 1.000%\n",
      "8.16784029844033\n",
      "[VALID] Epoch 47 - Batch 100 - Loss: 8.168 - Acc: 74.706%\n",
      "[TRAIN] Epoch 47 - Batch 100 - Loss: 0.001 - Acc: 0.900%\n",
      "1.5659392056674672\n",
      "[VALID] Epoch 47 - Batch 200 - Loss: 1.566 - Acc: 88.824%\n",
      "[TRAIN] Epoch 47 - Batch 200 - Loss: 0.012 - Acc: 0.850%\n"
     ]
    },
    {
     "name": "stderr",
     "output_type": "stream",
     "text": [
      " 47%|████▋     | 47/100 [00:25<00:26,  2.02it/s]"
     ]
    },
    {
     "name": "stdout",
     "output_type": "stream",
     "text": [
      "4.440971526638297\n",
      "[VALID] Epoch 47 - Batch 300 - Loss: 4.441 - Acc: 81.765%\n",
      "[TRAIN] Epoch 47 - Batch 300 - Loss: 0.000 - Acc: 1.000%\n",
      "0.20742281114186933\n",
      "[VALID] Epoch 47 - Batch 400 - Loss: 0.207 - Acc: 97.059%\n",
      "[TRAIN] Epoch 47 - Batch 400 - Loss: 0.000 - Acc: 1.000%\n",
      "5.444939333549534\n",
      "[VALID] Epoch 48 - Batch 100 - Loss: 5.445 - Acc: 76.471%\n",
      "[TRAIN] Epoch 48 - Batch 100 - Loss: 0.000 - Acc: 1.000%\n",
      "2.6454536715860097\n",
      "[VALID] Epoch 48 - Batch 200 - Loss: 2.645 - Acc: 85.294%\n",
      "[TRAIN] Epoch 48 - Batch 200 - Loss: 0.008 - Acc: 0.950%\n"
     ]
    },
    {
     "name": "stderr",
     "output_type": "stream",
     "text": [
      " 48%|████▊     | 48/100 [00:25<00:26,  1.95it/s]"
     ]
    },
    {
     "name": "stdout",
     "output_type": "stream",
     "text": [
      "3.8388552390719486\n",
      "[VALID] Epoch 48 - Batch 300 - Loss: 3.839 - Acc: 84.118%\n",
      "[TRAIN] Epoch 48 - Batch 300 - Loss: 0.000 - Acc: 1.000%\n",
      "0.21034685780686052\n",
      "[VALID] Epoch 48 - Batch 400 - Loss: 0.210 - Acc: 97.647%\n",
      "[TRAIN] Epoch 48 - Batch 400 - Loss: 0.000 - Acc: 1.000%\n",
      "5.157459908197064\n",
      "[VALID] Epoch 49 - Batch 100 - Loss: 5.157 - Acc: 80.588%\n",
      "[TRAIN] Epoch 49 - Batch 100 - Loss: 0.000 - Acc: 1.000%\n",
      "1.9538697551076492\n",
      "[VALID] Epoch 49 - Batch 200 - Loss: 1.954 - Acc: 85.294%\n",
      "[TRAIN] Epoch 49 - Batch 200 - Loss: 0.011 - Acc: 0.950%\n"
     ]
    },
    {
     "name": "stderr",
     "output_type": "stream",
     "text": [
      " 49%|████▉     | 49/100 [00:26<00:25,  2.02it/s]"
     ]
    },
    {
     "name": "stdout",
     "output_type": "stream",
     "text": [
      "4.675683385915952\n",
      "[VALID] Epoch 49 - Batch 300 - Loss: 4.676 - Acc: 80.000%\n",
      "[TRAIN] Epoch 49 - Batch 300 - Loss: 0.000 - Acc: 1.000%\n",
      "0.4218829631684103\n",
      "[VALID] Epoch 49 - Batch 400 - Loss: 0.422 - Acc: 95.294%\n",
      "[TRAIN] Epoch 49 - Batch 400 - Loss: 0.000 - Acc: 1.000%\n",
      "5.377870797146577\n",
      "[VALID] Epoch 50 - Batch 100 - Loss: 5.378 - Acc: 80.000%\n",
      "[TRAIN] Epoch 50 - Batch 100 - Loss: 0.000 - Acc: 1.000%\n",
      "1.384930477816584\n",
      "[VALID] Epoch 50 - Batch 200 - Loss: 1.385 - Acc: 91.176%\n",
      "[TRAIN] Epoch 50 - Batch 200 - Loss: 0.012 - Acc: 0.950%\n"
     ]
    },
    {
     "name": "stderr",
     "output_type": "stream",
     "text": [
      " 50%|█████     | 50/100 [00:26<00:24,  2.03it/s]"
     ]
    },
    {
     "name": "stdout",
     "output_type": "stream",
     "text": [
      "5.231747126946336\n",
      "[VALID] Epoch 50 - Batch 300 - Loss: 5.232 - Acc: 80.000%\n",
      "[TRAIN] Epoch 50 - Batch 300 - Loss: 0.000 - Acc: 1.000%\n",
      "0.24667046718051758\n",
      "[VALID] Epoch 50 - Batch 400 - Loss: 0.247 - Acc: 96.471%\n",
      "[TRAIN] Epoch 50 - Batch 400 - Loss: 0.000 - Acc: 1.000%\n",
      "5.5572583930236235\n",
      "[VALID] Epoch 51 - Batch 100 - Loss: 5.557 - Acc: 78.235%\n",
      "[TRAIN] Epoch 51 - Batch 100 - Loss: 0.000 - Acc: 1.000%\n",
      "1.4858519454800818\n",
      "[VALID] Epoch 51 - Batch 200 - Loss: 1.486 - Acc: 89.412%\n",
      "[TRAIN] Epoch 51 - Batch 200 - Loss: 0.011 - Acc: 0.950%\n"
     ]
    },
    {
     "name": "stderr",
     "output_type": "stream",
     "text": [
      " 51%|█████     | 51/100 [00:27<00:23,  2.07it/s]"
     ]
    },
    {
     "name": "stdout",
     "output_type": "stream",
     "text": [
      "3.8303765429903733\n",
      "[VALID] Epoch 51 - Batch 300 - Loss: 3.830 - Acc: 82.353%\n",
      "[TRAIN] Epoch 51 - Batch 300 - Loss: 0.000 - Acc: 1.000%\n",
      "0.18103104304212558\n",
      "[VALID] Epoch 51 - Batch 400 - Loss: 0.181 - Acc: 97.059%\n",
      "[TRAIN] Epoch 51 - Batch 400 - Loss: 0.000 - Acc: 1.000%\n",
      "4.927131262947201\n",
      "[VALID] Epoch 52 - Batch 100 - Loss: 4.927 - Acc: 80.588%\n",
      "[TRAIN] Epoch 52 - Batch 100 - Loss: 0.000 - Acc: 1.000%\n",
      "1.631937667317791\n",
      "[VALID] Epoch 52 - Batch 200 - Loss: 1.632 - Acc: 87.059%\n",
      "[TRAIN] Epoch 52 - Batch 200 - Loss: 0.010 - Acc: 0.950%\n"
     ]
    },
    {
     "name": "stderr",
     "output_type": "stream",
     "text": [
      " 52%|█████▏    | 52/100 [00:27<00:22,  2.10it/s]"
     ]
    },
    {
     "name": "stdout",
     "output_type": "stream",
     "text": [
      "3.4984463577432665\n",
      "[VALID] Epoch 52 - Batch 300 - Loss: 3.498 - Acc: 81.176%\n",
      "[TRAIN] Epoch 52 - Batch 300 - Loss: 0.000 - Acc: 1.000%\n",
      "0.4221301205617016\n",
      "[VALID] Epoch 52 - Batch 400 - Loss: 0.422 - Acc: 94.706%\n",
      "[TRAIN] Epoch 52 - Batch 400 - Loss: 0.000 - Acc: 1.000%\n",
      "6.632783984608871\n",
      "[VALID] Epoch 53 - Batch 100 - Loss: 6.633 - Acc: 75.882%\n",
      "[TRAIN] Epoch 53 - Batch 100 - Loss: 0.000 - Acc: 1.000%\n",
      "0.6521721939367953\n",
      "[VALID] Epoch 53 - Batch 200 - Loss: 0.652 - Acc: 92.353%\n",
      "[TRAIN] Epoch 53 - Batch 200 - Loss: 0.010 - Acc: 0.950%\n"
     ]
    },
    {
     "name": "stderr",
     "output_type": "stream",
     "text": [
      " 53%|█████▎    | 53/100 [00:28<00:22,  2.11it/s]"
     ]
    },
    {
     "name": "stdout",
     "output_type": "stream",
     "text": [
      "4.7752762946342155\n",
      "[VALID] Epoch 53 - Batch 300 - Loss: 4.775 - Acc: 79.412%\n",
      "[TRAIN] Epoch 53 - Batch 300 - Loss: 0.002 - Acc: 0.900%\n",
      "0.16694034058330942\n",
      "[VALID] Epoch 53 - Batch 400 - Loss: 0.167 - Acc: 98.235%\n",
      "[TRAIN] Epoch 53 - Batch 400 - Loss: 0.000 - Acc: 1.000%\n",
      "4.84213142728078\n",
      "[VALID] Epoch 54 - Batch 100 - Loss: 4.842 - Acc: 78.235%\n",
      "[TRAIN] Epoch 54 - Batch 100 - Loss: 0.000 - Acc: 1.000%\n",
      "0.9641376829981759\n",
      "[VALID] Epoch 54 - Batch 200 - Loss: 0.964 - Acc: 91.765%\n",
      "[TRAIN] Epoch 54 - Batch 200 - Loss: 0.010 - Acc: 0.950%\n"
     ]
    },
    {
     "name": "stderr",
     "output_type": "stream",
     "text": [
      " 54%|█████▍    | 54/100 [00:28<00:22,  2.03it/s]"
     ]
    },
    {
     "name": "stdout",
     "output_type": "stream",
     "text": [
      "4.1374351340744076\n",
      "[VALID] Epoch 54 - Batch 300 - Loss: 4.137 - Acc: 80.588%\n",
      "[TRAIN] Epoch 54 - Batch 300 - Loss: 0.000 - Acc: 1.000%\n",
      "0.44811821620847825\n",
      "[VALID] Epoch 54 - Batch 400 - Loss: 0.448 - Acc: 94.118%\n",
      "[TRAIN] Epoch 54 - Batch 400 - Loss: 0.000 - Acc: 1.000%\n",
      "5.374736502984981\n",
      "[VALID] Epoch 55 - Batch 100 - Loss: 5.375 - Acc: 77.059%\n",
      "[TRAIN] Epoch 55 - Batch 100 - Loss: 0.000 - Acc: 1.000%\n",
      "0.7312798100552754\n",
      "[VALID] Epoch 55 - Batch 200 - Loss: 0.731 - Acc: 91.765%\n",
      "[TRAIN] Epoch 55 - Batch 200 - Loss: 0.010 - Acc: 0.950%\n"
     ]
    },
    {
     "name": "stderr",
     "output_type": "stream",
     "text": [
      " 55%|█████▌    | 55/100 [00:29<00:22,  2.04it/s]"
     ]
    },
    {
     "name": "stdout",
     "output_type": "stream",
     "text": [
      "3.867489474135629\n",
      "[VALID] Epoch 55 - Batch 300 - Loss: 3.867 - Acc: 81.765%\n",
      "[TRAIN] Epoch 55 - Batch 300 - Loss: 0.000 - Acc: 1.000%\n",
      "0.22722210813897029\n",
      "[VALID] Epoch 55 - Batch 400 - Loss: 0.227 - Acc: 95.882%\n",
      "[TRAIN] Epoch 55 - Batch 400 - Loss: 0.000 - Acc: 1.000%\n",
      "3.848433291162511\n",
      "[VALID] Epoch 56 - Batch 100 - Loss: 3.848 - Acc: 82.353%\n",
      "[TRAIN] Epoch 56 - Batch 100 - Loss: 0.000 - Acc: 1.000%\n",
      "1.59627751897576\n",
      "[VALID] Epoch 56 - Batch 200 - Loss: 1.596 - Acc: 87.647%\n",
      "[TRAIN] Epoch 56 - Batch 200 - Loss: 0.009 - Acc: 0.950%\n"
     ]
    },
    {
     "name": "stderr",
     "output_type": "stream",
     "text": [
      " 56%|█████▌    | 56/100 [00:29<00:21,  2.03it/s]"
     ]
    },
    {
     "name": "stdout",
     "output_type": "stream",
     "text": [
      "4.007928285880232\n",
      "[VALID] Epoch 56 - Batch 300 - Loss: 4.008 - Acc: 80.588%\n",
      "[TRAIN] Epoch 56 - Batch 300 - Loss: 0.000 - Acc: 1.000%\n",
      "0.26765938756743424\n",
      "[VALID] Epoch 56 - Batch 400 - Loss: 0.268 - Acc: 94.706%\n",
      "[TRAIN] Epoch 56 - Batch 400 - Loss: 0.000 - Acc: 1.000%\n",
      "3.165222577693545\n",
      "[VALID] Epoch 57 - Batch 100 - Loss: 3.165 - Acc: 82.941%\n",
      "[TRAIN] Epoch 57 - Batch 100 - Loss: 0.000 - Acc: 1.000%\n",
      "0.390538421973946\n",
      "[VALID] Epoch 57 - Batch 200 - Loss: 0.391 - Acc: 93.529%\n",
      "[TRAIN] Epoch 57 - Batch 200 - Loss: 0.010 - Acc: 0.950%\n"
     ]
    },
    {
     "name": "stderr",
     "output_type": "stream",
     "text": [
      " 57%|█████▋    | 57/100 [00:30<00:21,  1.99it/s]"
     ]
    },
    {
     "name": "stdout",
     "output_type": "stream",
     "text": [
      "2.675041398114819\n",
      "[VALID] Epoch 57 - Batch 300 - Loss: 2.675 - Acc: 83.529%\n",
      "[TRAIN] Epoch 57 - Batch 300 - Loss: 0.000 - Acc: 1.000%\n",
      "0.13778754984310215\n",
      "[VALID] Epoch 57 - Batch 400 - Loss: 0.138 - Acc: 96.471%\n",
      "[TRAIN] Epoch 57 - Batch 400 - Loss: 0.000 - Acc: 1.000%\n",
      "3.4862679731259854\n",
      "[VALID] Epoch 58 - Batch 100 - Loss: 3.486 - Acc: 82.353%\n",
      "[TRAIN] Epoch 58 - Batch 100 - Loss: 0.000 - Acc: 1.000%\n",
      "0.912924081584932\n",
      "[VALID] Epoch 58 - Batch 200 - Loss: 0.913 - Acc: 91.765%\n",
      "[TRAIN] Epoch 58 - Batch 200 - Loss: 0.009 - Acc: 0.950%\n"
     ]
    },
    {
     "name": "stderr",
     "output_type": "stream",
     "text": [
      " 58%|█████▊    | 58/100 [00:30<00:20,  2.03it/s]"
     ]
    },
    {
     "name": "stdout",
     "output_type": "stream",
     "text": [
      "5.430239826078404\n",
      "[VALID] Epoch 58 - Batch 300 - Loss: 5.430 - Acc: 77.647%\n",
      "[TRAIN] Epoch 58 - Batch 300 - Loss: 0.000 - Acc: 1.000%\n",
      "0.139297091495796\n",
      "[VALID] Epoch 58 - Batch 400 - Loss: 0.139 - Acc: 97.059%\n",
      "[TRAIN] Epoch 58 - Batch 400 - Loss: 0.000 - Acc: 1.000%\n",
      "4.17547490139885\n",
      "[VALID] Epoch 59 - Batch 100 - Loss: 4.175 - Acc: 80.588%\n",
      "[TRAIN] Epoch 59 - Batch 100 - Loss: 0.000 - Acc: 1.000%\n",
      "0.551864437575524\n",
      "[VALID] Epoch 59 - Batch 200 - Loss: 0.552 - Acc: 92.941%\n",
      "[TRAIN] Epoch 59 - Batch 200 - Loss: 0.008 - Acc: 0.950%\n"
     ]
    },
    {
     "name": "stderr",
     "output_type": "stream",
     "text": [
      " 59%|█████▉    | 59/100 [00:31<00:19,  2.07it/s]"
     ]
    },
    {
     "name": "stdout",
     "output_type": "stream",
     "text": [
      "3.441084180641851\n",
      "[VALID] Epoch 59 - Batch 300 - Loss: 3.441 - Acc: 81.765%\n",
      "[TRAIN] Epoch 59 - Batch 300 - Loss: 0.000 - Acc: 1.000%\n",
      "0.5092204237272246\n",
      "[VALID] Epoch 59 - Batch 400 - Loss: 0.509 - Acc: 94.118%\n",
      "[TRAIN] Epoch 59 - Batch 400 - Loss: 0.000 - Acc: 1.000%\n",
      "4.716986349268395\n",
      "[VALID] Epoch 60 - Batch 100 - Loss: 4.717 - Acc: 77.647%\n",
      "[TRAIN] Epoch 60 - Batch 100 - Loss: 0.000 - Acc: 1.000%\n",
      "0.43033873946883716\n",
      "[VALID] Epoch 60 - Batch 200 - Loss: 0.430 - Acc: 92.941%\n",
      "[TRAIN] Epoch 60 - Batch 200 - Loss: 0.008 - Acc: 0.950%\n"
     ]
    },
    {
     "name": "stderr",
     "output_type": "stream",
     "text": [
      " 60%|██████    | 60/100 [00:31<00:19,  2.10it/s]"
     ]
    },
    {
     "name": "stdout",
     "output_type": "stream",
     "text": [
      "3.6401609197088125\n",
      "[VALID] Epoch 60 - Batch 300 - Loss: 3.640 - Acc: 80.000%\n",
      "[TRAIN] Epoch 60 - Batch 300 - Loss: 0.000 - Acc: 1.000%\n",
      "0.22544299866034456\n",
      "[VALID] Epoch 60 - Batch 400 - Loss: 0.225 - Acc: 96.471%\n",
      "[TRAIN] Epoch 60 - Batch 400 - Loss: 0.000 - Acc: 1.000%\n",
      "4.232769063071199\n",
      "[VALID] Epoch 61 - Batch 100 - Loss: 4.233 - Acc: 81.765%\n",
      "[TRAIN] Epoch 61 - Batch 100 - Loss: 0.000 - Acc: 1.000%\n",
      "0.7304375713533612\n",
      "[VALID] Epoch 61 - Batch 200 - Loss: 0.730 - Acc: 90.000%\n",
      "[TRAIN] Epoch 61 - Batch 200 - Loss: 0.008 - Acc: 0.950%\n"
     ]
    },
    {
     "name": "stderr",
     "output_type": "stream",
     "text": [
      " 61%|██████    | 61/100 [00:32<00:18,  2.11it/s]"
     ]
    },
    {
     "name": "stdout",
     "output_type": "stream",
     "text": [
      "2.4233407834758776\n",
      "[VALID] Epoch 61 - Batch 300 - Loss: 2.423 - Acc: 84.118%\n",
      "[TRAIN] Epoch 61 - Batch 300 - Loss: 0.000 - Acc: 1.000%\n",
      "0.11343475453315159\n",
      "[VALID] Epoch 61 - Batch 400 - Loss: 0.113 - Acc: 97.647%\n",
      "[TRAIN] Epoch 61 - Batch 400 - Loss: 0.000 - Acc: 1.000%\n",
      "4.512972641318195\n",
      "[VALID] Epoch 62 - Batch 100 - Loss: 4.513 - Acc: 79.412%\n",
      "[TRAIN] Epoch 62 - Batch 100 - Loss: 0.000 - Acc: 1.000%\n",
      "0.7501515587192604\n",
      "[VALID] Epoch 62 - Batch 200 - Loss: 0.750 - Acc: 90.000%\n",
      "[TRAIN] Epoch 62 - Batch 200 - Loss: 0.010 - Acc: 0.850%\n"
     ]
    },
    {
     "name": "stderr",
     "output_type": "stream",
     "text": [
      " 62%|██████▏   | 62/100 [00:32<00:17,  2.15it/s]"
     ]
    },
    {
     "name": "stdout",
     "output_type": "stream",
     "text": [
      "2.958805011577972\n",
      "[VALID] Epoch 62 - Batch 300 - Loss: 2.959 - Acc: 83.529%\n",
      "[TRAIN] Epoch 62 - Batch 300 - Loss: 0.000 - Acc: 1.000%\n",
      "0.1163507919460672\n",
      "[VALID] Epoch 62 - Batch 400 - Loss: 0.116 - Acc: 97.647%\n",
      "[TRAIN] Epoch 62 - Batch 400 - Loss: 0.000 - Acc: 1.000%\n",
      "5.038928208016868\n",
      "[VALID] Epoch 63 - Batch 100 - Loss: 5.039 - Acc: 77.647%\n",
      "[TRAIN] Epoch 63 - Batch 100 - Loss: 0.000 - Acc: 1.000%\n",
      "0.2134228040846582\n",
      "[VALID] Epoch 63 - Batch 200 - Loss: 0.213 - Acc: 95.294%\n",
      "[TRAIN] Epoch 63 - Batch 200 - Loss: 0.016 - Acc: 0.850%\n"
     ]
    },
    {
     "name": "stderr",
     "output_type": "stream",
     "text": [
      " 63%|██████▎   | 63/100 [00:33<00:17,  2.17it/s]"
     ]
    },
    {
     "name": "stdout",
     "output_type": "stream",
     "text": [
      "3.5898780245545328\n",
      "[VALID] Epoch 63 - Batch 300 - Loss: 3.590 - Acc: 81.765%\n",
      "[TRAIN] Epoch 63 - Batch 300 - Loss: 0.000 - Acc: 1.000%\n",
      "0.31966793227530427\n",
      "[VALID] Epoch 63 - Batch 400 - Loss: 0.320 - Acc: 94.118%\n",
      "[TRAIN] Epoch 63 - Batch 400 - Loss: 0.000 - Acc: 1.000%\n",
      "5.120338533117403\n",
      "[VALID] Epoch 64 - Batch 100 - Loss: 5.120 - Acc: 77.059%\n",
      "[TRAIN] Epoch 64 - Batch 100 - Loss: 0.002 - Acc: 0.900%\n",
      "0.28147534231059507\n",
      "[VALID] Epoch 64 - Batch 200 - Loss: 0.281 - Acc: 93.529%\n",
      "[TRAIN] Epoch 64 - Batch 200 - Loss: 0.007 - Acc: 0.950%\n"
     ]
    },
    {
     "name": "stderr",
     "output_type": "stream",
     "text": [
      " 64%|██████▍   | 64/100 [00:33<00:16,  2.16it/s]"
     ]
    },
    {
     "name": "stdout",
     "output_type": "stream",
     "text": [
      "2.0114777228728222\n",
      "[VALID] Epoch 64 - Batch 300 - Loss: 2.011 - Acc: 86.471%\n",
      "[TRAIN] Epoch 64 - Batch 300 - Loss: 0.000 - Acc: 1.000%\n",
      "0.4580135440096489\n",
      "[VALID] Epoch 64 - Batch 400 - Loss: 0.458 - Acc: 92.941%\n",
      "[TRAIN] Epoch 64 - Batch 400 - Loss: 0.000 - Acc: 1.000%\n",
      "3.954044164278805\n",
      "[VALID] Epoch 65 - Batch 100 - Loss: 3.954 - Acc: 80.588%\n",
      "[TRAIN] Epoch 65 - Batch 100 - Loss: 0.000 - Acc: 1.000%\n",
      "0.21849398543568638\n",
      "[VALID] Epoch 65 - Batch 200 - Loss: 0.218 - Acc: 94.118%\n",
      "[TRAIN] Epoch 65 - Batch 200 - Loss: 0.008 - Acc: 0.950%\n"
     ]
    },
    {
     "name": "stderr",
     "output_type": "stream",
     "text": [
      " 65%|██████▌   | 65/100 [00:34<00:16,  2.15it/s]"
     ]
    },
    {
     "name": "stdout",
     "output_type": "stream",
     "text": [
      "1.939619419787692\n",
      "[VALID] Epoch 65 - Batch 300 - Loss: 1.940 - Acc: 85.882%\n",
      "[TRAIN] Epoch 65 - Batch 300 - Loss: 0.000 - Acc: 1.000%\n",
      "0.3894783679560259\n",
      "[VALID] Epoch 65 - Batch 400 - Loss: 0.389 - Acc: 92.353%\n",
      "[TRAIN] Epoch 65 - Batch 400 - Loss: 0.000 - Acc: 1.000%\n",
      "5.0736599596103344\n",
      "[VALID] Epoch 66 - Batch 100 - Loss: 5.074 - Acc: 77.059%\n",
      "[TRAIN] Epoch 66 - Batch 100 - Loss: 0.000 - Acc: 1.000%\n",
      "0.429307170731344\n",
      "[VALID] Epoch 66 - Batch 200 - Loss: 0.429 - Acc: 92.353%\n",
      "[TRAIN] Epoch 66 - Batch 200 - Loss: 0.008 - Acc: 0.950%\n"
     ]
    },
    {
     "name": "stderr",
     "output_type": "stream",
     "text": [
      " 66%|██████▌   | 66/100 [00:34<00:15,  2.17it/s]"
     ]
    },
    {
     "name": "stdout",
     "output_type": "stream",
     "text": [
      "2.49308505591398\n",
      "[VALID] Epoch 66 - Batch 300 - Loss: 2.493 - Acc: 84.118%\n",
      "[TRAIN] Epoch 66 - Batch 300 - Loss: 0.001 - Acc: 1.000%\n",
      "0.46586103242182564\n",
      "[VALID] Epoch 66 - Batch 400 - Loss: 0.466 - Acc: 92.941%\n",
      "[TRAIN] Epoch 66 - Batch 400 - Loss: 0.000 - Acc: 1.000%\n",
      "3.5289872027203057\n",
      "[VALID] Epoch 67 - Batch 100 - Loss: 3.529 - Acc: 82.941%\n",
      "[TRAIN] Epoch 67 - Batch 100 - Loss: 0.000 - Acc: 1.000%\n",
      "0.1542253304953764\n",
      "[VALID] Epoch 67 - Batch 200 - Loss: 0.154 - Acc: 96.471%\n",
      "[TRAIN] Epoch 67 - Batch 200 - Loss: 0.007 - Acc: 0.950%\n"
     ]
    },
    {
     "name": "stderr",
     "output_type": "stream",
     "text": [
      " 67%|██████▋   | 67/100 [00:34<00:15,  2.19it/s]"
     ]
    },
    {
     "name": "stdout",
     "output_type": "stream",
     "text": [
      "2.2887643670307143\n",
      "[VALID] Epoch 67 - Batch 300 - Loss: 2.289 - Acc: 85.294%\n",
      "[TRAIN] Epoch 67 - Batch 300 - Loss: 0.000 - Acc: 1.000%\n",
      "0.2684670206441992\n",
      "[VALID] Epoch 67 - Batch 400 - Loss: 0.268 - Acc: 95.294%\n",
      "[TRAIN] Epoch 67 - Batch 400 - Loss: 0.000 - Acc: 1.000%\n",
      "2.7348585318066343\n",
      "[VALID] Epoch 68 - Batch 100 - Loss: 2.735 - Acc: 83.529%\n",
      "[TRAIN] Epoch 68 - Batch 100 - Loss: 0.000 - Acc: 1.000%\n",
      "0.14745996086231947\n",
      "[VALID] Epoch 68 - Batch 200 - Loss: 0.147 - Acc: 97.059%\n",
      "[TRAIN] Epoch 68 - Batch 200 - Loss: 0.004 - Acc: 0.950%\n"
     ]
    },
    {
     "name": "stderr",
     "output_type": "stream",
     "text": [
      " 68%|██████▊   | 68/100 [00:35<00:14,  2.18it/s]"
     ]
    },
    {
     "name": "stdout",
     "output_type": "stream",
     "text": [
      "2.2601441862900495\n",
      "[VALID] Epoch 68 - Batch 300 - Loss: 2.260 - Acc: 85.294%\n",
      "[TRAIN] Epoch 68 - Batch 300 - Loss: 0.000 - Acc: 1.000%\n",
      "0.22396010892002619\n",
      "[VALID] Epoch 68 - Batch 400 - Loss: 0.224 - Acc: 95.882%\n",
      "[TRAIN] Epoch 68 - Batch 400 - Loss: 0.000 - Acc: 1.000%\n",
      "3.6555817391495045\n",
      "[VALID] Epoch 69 - Batch 100 - Loss: 3.656 - Acc: 78.824%\n",
      "[TRAIN] Epoch 69 - Batch 100 - Loss: 0.000 - Acc: 1.000%\n",
      "0.055050310787801995\n",
      "[VALID] Epoch 69 - Batch 200 - Loss: 0.055 - Acc: 97.647%\n",
      "[TRAIN] Epoch 69 - Batch 200 - Loss: 0.006 - Acc: 0.950%\n"
     ]
    },
    {
     "name": "stderr",
     "output_type": "stream",
     "text": [
      " 69%|██████▉   | 69/100 [00:35<00:14,  2.19it/s]"
     ]
    },
    {
     "name": "stdout",
     "output_type": "stream",
     "text": [
      "2.205579191047225\n",
      "[VALID] Epoch 69 - Batch 300 - Loss: 2.206 - Acc: 84.706%\n",
      "[TRAIN] Epoch 69 - Batch 300 - Loss: 0.000 - Acc: 1.000%\n",
      "0.2509365589482216\n",
      "[VALID] Epoch 69 - Batch 400 - Loss: 0.251 - Acc: 95.294%\n",
      "[TRAIN] Epoch 69 - Batch 400 - Loss: 0.000 - Acc: 1.000%\n",
      "2.889495338585769\n",
      "[VALID] Epoch 70 - Batch 100 - Loss: 2.889 - Acc: 82.941%\n",
      "[TRAIN] Epoch 70 - Batch 100 - Loss: 0.000 - Acc: 1.000%\n",
      "0.09663463182308284\n",
      "[VALID] Epoch 70 - Batch 200 - Loss: 0.097 - Acc: 97.059%\n",
      "[TRAIN] Epoch 70 - Batch 200 - Loss: 0.005 - Acc: 0.950%\n"
     ]
    },
    {
     "name": "stderr",
     "output_type": "stream",
     "text": [
      " 70%|███████   | 70/100 [00:36<00:13,  2.19it/s]"
     ]
    },
    {
     "name": "stdout",
     "output_type": "stream",
     "text": [
      "1.924766818164458\n",
      "[VALID] Epoch 70 - Batch 300 - Loss: 1.925 - Acc: 85.882%\n",
      "[TRAIN] Epoch 70 - Batch 300 - Loss: 0.000 - Acc: 1.000%\n",
      "0.0829561727761643\n",
      "[VALID] Epoch 70 - Batch 400 - Loss: 0.083 - Acc: 97.059%\n",
      "[TRAIN] Epoch 70 - Batch 400 - Loss: 0.000 - Acc: 1.000%\n",
      "2.8831790194763482\n",
      "[VALID] Epoch 71 - Batch 100 - Loss: 2.883 - Acc: 81.765%\n",
      "[TRAIN] Epoch 71 - Batch 100 - Loss: 0.000 - Acc: 1.000%\n",
      "0.2534061467918705\n",
      "[VALID] Epoch 71 - Batch 200 - Loss: 0.253 - Acc: 95.294%\n",
      "[TRAIN] Epoch 71 - Batch 200 - Loss: 0.005 - Acc: 0.950%\n"
     ]
    },
    {
     "name": "stderr",
     "output_type": "stream",
     "text": [
      " 71%|███████   | 71/100 [00:36<00:13,  2.11it/s]"
     ]
    },
    {
     "name": "stdout",
     "output_type": "stream",
     "text": [
      "2.244830622040942\n",
      "[VALID] Epoch 71 - Batch 300 - Loss: 2.245 - Acc: 84.706%\n",
      "[TRAIN] Epoch 71 - Batch 300 - Loss: 0.000 - Acc: 1.000%\n",
      "0.051224669896969596\n",
      "[VALID] Epoch 71 - Batch 400 - Loss: 0.051 - Acc: 98.235%\n",
      "[TRAIN] Epoch 71 - Batch 400 - Loss: 0.000 - Acc: 1.000%\n",
      "3.6732536581286817\n",
      "[VALID] Epoch 72 - Batch 100 - Loss: 3.673 - Acc: 78.235%\n",
      "[TRAIN] Epoch 72 - Batch 100 - Loss: 0.000 - Acc: 1.000%\n",
      "0.14670888390751144\n",
      "[VALID] Epoch 72 - Batch 200 - Loss: 0.147 - Acc: 95.882%\n",
      "[TRAIN] Epoch 72 - Batch 200 - Loss: 0.006 - Acc: 0.950%\n"
     ]
    },
    {
     "name": "stderr",
     "output_type": "stream",
     "text": [
      " 72%|███████▏  | 72/100 [00:37<00:13,  2.13it/s]"
     ]
    },
    {
     "name": "stdout",
     "output_type": "stream",
     "text": [
      "2.469957404847104\n",
      "[VALID] Epoch 72 - Batch 300 - Loss: 2.470 - Acc: 83.529%\n",
      "[TRAIN] Epoch 72 - Batch 300 - Loss: 0.000 - Acc: 1.000%\n",
      "0.10607222816339856\n",
      "[VALID] Epoch 72 - Batch 400 - Loss: 0.106 - Acc: 95.294%\n",
      "[TRAIN] Epoch 72 - Batch 400 - Loss: 0.000 - Acc: 1.000%\n",
      "2.6203398084811957\n",
      "[VALID] Epoch 73 - Batch 100 - Loss: 2.620 - Acc: 84.706%\n",
      "[TRAIN] Epoch 73 - Batch 100 - Loss: 0.000 - Acc: 1.000%\n",
      "0.053986633946918265\n",
      "[VALID] Epoch 73 - Batch 200 - Loss: 0.054 - Acc: 97.647%\n",
      "[TRAIN] Epoch 73 - Batch 200 - Loss: 0.005 - Acc: 0.900%\n"
     ]
    },
    {
     "name": "stderr",
     "output_type": "stream",
     "text": [
      " 73%|███████▎  | 73/100 [00:37<00:12,  2.13it/s]"
     ]
    },
    {
     "name": "stdout",
     "output_type": "stream",
     "text": [
      "1.6636653419649092\n",
      "[VALID] Epoch 73 - Batch 300 - Loss: 1.664 - Acc: 87.647%\n",
      "[TRAIN] Epoch 73 - Batch 300 - Loss: 0.000 - Acc: 1.000%\n",
      "0.20395648499962\n",
      "[VALID] Epoch 73 - Batch 400 - Loss: 0.204 - Acc: 95.294%\n",
      "[TRAIN] Epoch 73 - Batch 400 - Loss: 0.000 - Acc: 1.000%\n",
      "2.6145895306676117\n",
      "[VALID] Epoch 74 - Batch 100 - Loss: 2.615 - Acc: 82.941%\n",
      "[TRAIN] Epoch 74 - Batch 100 - Loss: 0.000 - Acc: 1.000%\n",
      "0.05252960540103214\n",
      "[VALID] Epoch 74 - Batch 200 - Loss: 0.053 - Acc: 97.647%\n",
      "[TRAIN] Epoch 74 - Batch 200 - Loss: 0.003 - Acc: 0.950%\n"
     ]
    },
    {
     "name": "stderr",
     "output_type": "stream",
     "text": [
      " 74%|███████▍  | 74/100 [00:38<00:12,  2.14it/s]"
     ]
    },
    {
     "name": "stdout",
     "output_type": "stream",
     "text": [
      "1.1107139652532865\n",
      "[VALID] Epoch 74 - Batch 300 - Loss: 1.111 - Acc: 88.235%\n",
      "[TRAIN] Epoch 74 - Batch 300 - Loss: 0.000 - Acc: 1.000%\n",
      "0.069647275490045\n",
      "[VALID] Epoch 74 - Batch 400 - Loss: 0.070 - Acc: 97.059%\n",
      "[TRAIN] Epoch 74 - Batch 400 - Loss: 0.000 - Acc: 1.000%\n",
      "3.6020314835449434\n",
      "[VALID] Epoch 75 - Batch 100 - Loss: 3.602 - Acc: 79.412%\n",
      "[TRAIN] Epoch 75 - Batch 100 - Loss: 0.000 - Acc: 1.000%\n",
      "0.0343370905348897\n",
      "[VALID] Epoch 75 - Batch 200 - Loss: 0.034 - Acc: 98.235%\n",
      "[TRAIN] Epoch 75 - Batch 200 - Loss: 0.004 - Acc: 0.950%\n"
     ]
    },
    {
     "name": "stderr",
     "output_type": "stream",
     "text": [
      " 75%|███████▌  | 75/100 [00:38<00:11,  2.14it/s]"
     ]
    },
    {
     "name": "stdout",
     "output_type": "stream",
     "text": [
      "1.2207797445379691\n",
      "[VALID] Epoch 75 - Batch 300 - Loss: 1.221 - Acc: 86.471%\n",
      "[TRAIN] Epoch 75 - Batch 300 - Loss: 0.000 - Acc: 1.000%\n",
      "0.28065221886967\n",
      "[VALID] Epoch 75 - Batch 400 - Loss: 0.281 - Acc: 96.471%\n",
      "[TRAIN] Epoch 75 - Batch 400 - Loss: 0.000 - Acc: 1.000%\n",
      "2.8702229552177947\n",
      "[VALID] Epoch 76 - Batch 100 - Loss: 2.870 - Acc: 83.529%\n",
      "[TRAIN] Epoch 76 - Batch 100 - Loss: 0.000 - Acc: 1.000%\n",
      "0.08117861391056029\n",
      "[VALID] Epoch 76 - Batch 200 - Loss: 0.081 - Acc: 98.235%\n",
      "[TRAIN] Epoch 76 - Batch 200 - Loss: 0.001 - Acc: 0.950%\n"
     ]
    },
    {
     "name": "stderr",
     "output_type": "stream",
     "text": [
      " 76%|███████▌  | 76/100 [00:39<00:11,  2.15it/s]"
     ]
    },
    {
     "name": "stdout",
     "output_type": "stream",
     "text": [
      "0.8189440599497874\n",
      "[VALID] Epoch 76 - Batch 300 - Loss: 0.819 - Acc: 91.176%\n",
      "[TRAIN] Epoch 76 - Batch 300 - Loss: 0.000 - Acc: 1.000%\n",
      "0.053661228296485154\n",
      "[VALID] Epoch 76 - Batch 400 - Loss: 0.054 - Acc: 97.647%\n",
      "[TRAIN] Epoch 76 - Batch 400 - Loss: 0.000 - Acc: 1.000%\n",
      "4.190730557302606\n",
      "[VALID] Epoch 77 - Batch 100 - Loss: 4.191 - Acc: 80.000%\n",
      "[TRAIN] Epoch 77 - Batch 100 - Loss: 0.000 - Acc: 1.000%\n",
      "0.048232051599068314\n",
      "[VALID] Epoch 77 - Batch 200 - Loss: 0.048 - Acc: 97.647%\n",
      "[TRAIN] Epoch 77 - Batch 200 - Loss: 0.001 - Acc: 0.950%\n"
     ]
    },
    {
     "name": "stderr",
     "output_type": "stream",
     "text": [
      " 77%|███████▋  | 77/100 [00:39<00:10,  2.16it/s]"
     ]
    },
    {
     "name": "stdout",
     "output_type": "stream",
     "text": [
      "2.6352078456019465\n",
      "[VALID] Epoch 77 - Batch 300 - Loss: 2.635 - Acc: 82.941%\n",
      "[TRAIN] Epoch 77 - Batch 300 - Loss: 0.000 - Acc: 1.000%\n",
      "0.03626585109254797\n",
      "[VALID] Epoch 77 - Batch 400 - Loss: 0.036 - Acc: 97.647%\n",
      "[TRAIN] Epoch 77 - Batch 400 - Loss: 0.000 - Acc: 1.000%\n",
      "3.589432944269086\n",
      "[VALID] Epoch 78 - Batch 100 - Loss: 3.589 - Acc: 77.647%\n",
      "[TRAIN] Epoch 78 - Batch 100 - Loss: 0.000 - Acc: 1.000%\n",
      "0.19979862688509023\n",
      "[VALID] Epoch 78 - Batch 200 - Loss: 0.200 - Acc: 94.706%\n",
      "[TRAIN] Epoch 78 - Batch 200 - Loss: 0.000 - Acc: 1.000%\n"
     ]
    },
    {
     "name": "stderr",
     "output_type": "stream",
     "text": [
      " 78%|███████▊  | 78/100 [00:40<00:10,  2.17it/s]"
     ]
    },
    {
     "name": "stdout",
     "output_type": "stream",
     "text": [
      "1.498030560961899\n",
      "[VALID] Epoch 78 - Batch 300 - Loss: 1.498 - Acc: 88.235%\n",
      "[TRAIN] Epoch 78 - Batch 300 - Loss: 0.000 - Acc: 1.000%\n",
      "0.02427539919164602\n",
      "[VALID] Epoch 78 - Batch 400 - Loss: 0.024 - Acc: 99.412%\n",
      "[TRAIN] Epoch 78 - Batch 400 - Loss: 0.000 - Acc: 1.000%\n",
      "2.6909656783198255\n",
      "[VALID] Epoch 79 - Batch 100 - Loss: 2.691 - Acc: 84.118%\n",
      "[TRAIN] Epoch 79 - Batch 100 - Loss: 0.000 - Acc: 1.000%\n",
      "0.03635599812280746\n",
      "[VALID] Epoch 79 - Batch 200 - Loss: 0.036 - Acc: 98.824%\n",
      "[TRAIN] Epoch 79 - Batch 200 - Loss: 0.002 - Acc: 0.950%\n"
     ]
    },
    {
     "name": "stderr",
     "output_type": "stream",
     "text": [
      " 79%|███████▉  | 79/100 [00:40<00:09,  2.18it/s]"
     ]
    },
    {
     "name": "stdout",
     "output_type": "stream",
     "text": [
      "2.2986827705694046\n",
      "[VALID] Epoch 79 - Batch 300 - Loss: 2.299 - Acc: 85.882%\n",
      "[TRAIN] Epoch 79 - Batch 300 - Loss: 0.000 - Acc: 1.000%\n",
      "0.2335502596901653\n",
      "[VALID] Epoch 79 - Batch 400 - Loss: 0.234 - Acc: 96.471%\n",
      "[TRAIN] Epoch 79 - Batch 400 - Loss: 0.000 - Acc: 1.000%\n",
      "3.9176161501334867\n",
      "[VALID] Epoch 80 - Batch 100 - Loss: 3.918 - Acc: 78.235%\n",
      "[TRAIN] Epoch 80 - Batch 100 - Loss: 0.002 - Acc: 0.900%\n",
      "0.1350532926285193\n",
      "[VALID] Epoch 80 - Batch 200 - Loss: 0.135 - Acc: 97.059%\n",
      "[TRAIN] Epoch 80 - Batch 200 - Loss: 0.000 - Acc: 0.950%\n"
     ]
    },
    {
     "name": "stderr",
     "output_type": "stream",
     "text": [
      " 80%|████████  | 80/100 [00:40<00:09,  2.17it/s]"
     ]
    },
    {
     "name": "stdout",
     "output_type": "stream",
     "text": [
      "1.828770446458186\n",
      "[VALID] Epoch 80 - Batch 300 - Loss: 1.829 - Acc: 85.294%\n",
      "[TRAIN] Epoch 80 - Batch 300 - Loss: 0.000 - Acc: 1.000%\n",
      "0.08629008413171345\n",
      "[VALID] Epoch 80 - Batch 400 - Loss: 0.086 - Acc: 97.647%\n",
      "[TRAIN] Epoch 80 - Batch 400 - Loss: 0.000 - Acc: 1.000%\n",
      "4.054846388138096\n",
      "[VALID] Epoch 81 - Batch 100 - Loss: 4.055 - Acc: 76.471%\n",
      "[TRAIN] Epoch 81 - Batch 100 - Loss: 0.000 - Acc: 1.000%\n",
      "0.03318366376166913\n",
      "[VALID] Epoch 81 - Batch 200 - Loss: 0.033 - Acc: 98.235%\n",
      "[TRAIN] Epoch 81 - Batch 200 - Loss: 0.001 - Acc: 0.950%\n"
     ]
    },
    {
     "name": "stderr",
     "output_type": "stream",
     "text": [
      " 81%|████████  | 81/100 [00:41<00:08,  2.17it/s]"
     ]
    },
    {
     "name": "stdout",
     "output_type": "stream",
     "text": [
      "0.9481431730468209\n",
      "[VALID] Epoch 81 - Batch 300 - Loss: 0.948 - Acc: 90.588%\n",
      "[TRAIN] Epoch 81 - Batch 300 - Loss: 0.002 - Acc: 0.900%\n",
      "0.4950702908281528\n",
      "[VALID] Epoch 81 - Batch 400 - Loss: 0.495 - Acc: 90.000%\n",
      "[TRAIN] Epoch 81 - Batch 400 - Loss: 0.000 - Acc: 1.000%\n",
      "3.4086835513684464\n",
      "[VALID] Epoch 82 - Batch 100 - Loss: 3.409 - Acc: 85.294%\n",
      "[TRAIN] Epoch 82 - Batch 100 - Loss: 0.000 - Acc: 1.000%\n",
      "0.049336549871292296\n",
      "[VALID] Epoch 82 - Batch 200 - Loss: 0.049 - Acc: 98.235%\n",
      "[TRAIN] Epoch 82 - Batch 200 - Loss: 0.002 - Acc: 0.950%\n"
     ]
    },
    {
     "name": "stderr",
     "output_type": "stream",
     "text": [
      " 82%|████████▏ | 82/100 [00:41<00:08,  2.06it/s]"
     ]
    },
    {
     "name": "stdout",
     "output_type": "stream",
     "text": [
      "1.1378080950017808\n",
      "[VALID] Epoch 82 - Batch 300 - Loss: 1.138 - Acc: 92.353%\n",
      "[TRAIN] Epoch 82 - Batch 300 - Loss: 0.000 - Acc: 1.000%\n",
      "0.045829517445942804\n",
      "[VALID] Epoch 82 - Batch 400 - Loss: 0.046 - Acc: 98.235%\n",
      "[TRAIN] Epoch 82 - Batch 400 - Loss: 0.013 - Acc: 0.900%\n",
      "2.446072826994195\n",
      "[VALID] Epoch 83 - Batch 100 - Loss: 2.446 - Acc: 83.529%\n",
      "[TRAIN] Epoch 83 - Batch 100 - Loss: 0.000 - Acc: 1.000%\n",
      "0.03496459917633336\n",
      "[VALID] Epoch 83 - Batch 200 - Loss: 0.035 - Acc: 98.235%\n",
      "[TRAIN] Epoch 83 - Batch 200 - Loss: 0.001 - Acc: 0.950%\n"
     ]
    },
    {
     "name": "stderr",
     "output_type": "stream",
     "text": [
      " 83%|████████▎ | 83/100 [00:42<00:08,  2.10it/s]"
     ]
    },
    {
     "name": "stdout",
     "output_type": "stream",
     "text": [
      "1.4821354684146868\n",
      "[VALID] Epoch 83 - Batch 300 - Loss: 1.482 - Acc: 86.471%\n",
      "[TRAIN] Epoch 83 - Batch 300 - Loss: 0.000 - Acc: 1.000%\n",
      "0.038227236185789215\n",
      "[VALID] Epoch 83 - Batch 400 - Loss: 0.038 - Acc: 98.235%\n",
      "[TRAIN] Epoch 83 - Batch 400 - Loss: 0.000 - Acc: 1.000%\n",
      "2.451117845909433\n",
      "[VALID] Epoch 84 - Batch 100 - Loss: 2.451 - Acc: 81.765%\n",
      "[TRAIN] Epoch 84 - Batch 100 - Loss: 0.001 - Acc: 0.900%\n",
      "0.12737627222298814\n",
      "[VALID] Epoch 84 - Batch 200 - Loss: 0.127 - Acc: 97.647%\n",
      "[TRAIN] Epoch 84 - Batch 200 - Loss: 0.000 - Acc: 1.000%\n"
     ]
    },
    {
     "name": "stderr",
     "output_type": "stream",
     "text": [
      " 84%|████████▍ | 84/100 [00:42<00:07,  2.09it/s]"
     ]
    },
    {
     "name": "stdout",
     "output_type": "stream",
     "text": [
      "1.2868168152068553\n",
      "[VALID] Epoch 84 - Batch 300 - Loss: 1.287 - Acc: 91.765%\n",
      "[TRAIN] Epoch 84 - Batch 300 - Loss: 0.000 - Acc: 1.000%\n",
      "0.023785301869192817\n",
      "[VALID] Epoch 84 - Batch 400 - Loss: 0.024 - Acc: 98.824%\n",
      "[TRAIN] Epoch 84 - Batch 400 - Loss: 0.000 - Acc: 1.000%\n",
      "2.520536896230998\n",
      "[VALID] Epoch 85 - Batch 100 - Loss: 2.521 - Acc: 83.529%\n",
      "[TRAIN] Epoch 85 - Batch 100 - Loss: 0.000 - Acc: 1.000%\n",
      "0.21567049372841018\n",
      "[VALID] Epoch 85 - Batch 200 - Loss: 0.216 - Acc: 96.471%\n",
      "[TRAIN] Epoch 85 - Batch 200 - Loss: 0.000 - Acc: 0.950%\n"
     ]
    },
    {
     "name": "stderr",
     "output_type": "stream",
     "text": [
      " 85%|████████▌ | 85/100 [00:43<00:07,  2.11it/s]"
     ]
    },
    {
     "name": "stdout",
     "output_type": "stream",
     "text": [
      "2.49370618835297\n",
      "[VALID] Epoch 85 - Batch 300 - Loss: 2.494 - Acc: 84.706%\n",
      "[TRAIN] Epoch 85 - Batch 300 - Loss: 0.000 - Acc: 1.000%\n",
      "0.048609291076974974\n",
      "[VALID] Epoch 85 - Batch 400 - Loss: 0.049 - Acc: 98.235%\n",
      "[TRAIN] Epoch 85 - Batch 400 - Loss: 0.000 - Acc: 1.000%\n",
      "3.4399978965301528\n",
      "[VALID] Epoch 86 - Batch 100 - Loss: 3.440 - Acc: 82.941%\n",
      "[TRAIN] Epoch 86 - Batch 100 - Loss: 0.000 - Acc: 1.000%\n",
      "0.07165549477744715\n",
      "[VALID] Epoch 86 - Batch 200 - Loss: 0.072 - Acc: 97.647%\n",
      "[TRAIN] Epoch 86 - Batch 200 - Loss: 0.000 - Acc: 1.000%\n"
     ]
    },
    {
     "name": "stderr",
     "output_type": "stream",
     "text": [
      " 86%|████████▌ | 86/100 [00:43<00:06,  2.12it/s]"
     ]
    },
    {
     "name": "stdout",
     "output_type": "stream",
     "text": [
      "1.3431131933282794\n",
      "[VALID] Epoch 86 - Batch 300 - Loss: 1.343 - Acc: 89.412%\n",
      "[TRAIN] Epoch 86 - Batch 300 - Loss: 0.000 - Acc: 1.000%\n",
      "0.23831207770717058\n",
      "[VALID] Epoch 86 - Batch 400 - Loss: 0.238 - Acc: 95.882%\n",
      "[TRAIN] Epoch 86 - Batch 400 - Loss: 0.000 - Acc: 1.000%\n",
      "3.153871819924448\n",
      "[VALID] Epoch 87 - Batch 100 - Loss: 3.154 - Acc: 82.353%\n",
      "[TRAIN] Epoch 87 - Batch 100 - Loss: 0.000 - Acc: 1.000%\n",
      "0.06076108689713317\n",
      "[VALID] Epoch 87 - Batch 200 - Loss: 0.061 - Acc: 97.647%\n",
      "[TRAIN] Epoch 87 - Batch 200 - Loss: 0.001 - Acc: 0.950%\n"
     ]
    },
    {
     "name": "stderr",
     "output_type": "stream",
     "text": [
      " 87%|████████▋ | 87/100 [00:44<00:06,  2.13it/s]"
     ]
    },
    {
     "name": "stdout",
     "output_type": "stream",
     "text": [
      "1.904464915606187\n",
      "[VALID] Epoch 87 - Batch 300 - Loss: 1.904 - Acc: 87.647%\n",
      "[TRAIN] Epoch 87 - Batch 300 - Loss: 0.000 - Acc: 1.000%\n",
      "0.06798089581633683\n",
      "[VALID] Epoch 87 - Batch 400 - Loss: 0.068 - Acc: 97.059%\n",
      "[TRAIN] Epoch 87 - Batch 400 - Loss: 0.000 - Acc: 1.000%\n",
      "2.4825855062464974\n",
      "[VALID] Epoch 88 - Batch 100 - Loss: 2.483 - Acc: 87.647%\n",
      "[TRAIN] Epoch 88 - Batch 100 - Loss: 0.000 - Acc: 1.000%\n",
      "0.03655879693410172\n",
      "[VALID] Epoch 88 - Batch 200 - Loss: 0.037 - Acc: 97.647%\n",
      "[TRAIN] Epoch 88 - Batch 200 - Loss: 0.000 - Acc: 1.000%\n"
     ]
    },
    {
     "name": "stderr",
     "output_type": "stream",
     "text": [
      " 88%|████████▊ | 88/100 [00:44<00:05,  2.07it/s]"
     ]
    },
    {
     "name": "stdout",
     "output_type": "stream",
     "text": [
      "1.5161781903699354\n",
      "[VALID] Epoch 88 - Batch 300 - Loss: 1.516 - Acc: 90.000%\n",
      "[TRAIN] Epoch 88 - Batch 300 - Loss: 0.000 - Acc: 1.000%\n",
      "0.029273199853622683\n",
      "[VALID] Epoch 88 - Batch 400 - Loss: 0.029 - Acc: 98.235%\n",
      "[TRAIN] Epoch 88 - Batch 400 - Loss: 0.000 - Acc: 1.000%\n",
      "4.0590431699184215\n",
      "[VALID] Epoch 89 - Batch 100 - Loss: 4.059 - Acc: 80.588%\n",
      "[TRAIN] Epoch 89 - Batch 100 - Loss: 0.001 - Acc: 0.900%\n",
      "0.11965513994303822\n",
      "[VALID] Epoch 89 - Batch 200 - Loss: 0.120 - Acc: 96.471%\n",
      "[TRAIN] Epoch 89 - Batch 200 - Loss: 0.000 - Acc: 1.000%\n"
     ]
    },
    {
     "name": "stderr",
     "output_type": "stream",
     "text": [
      " 89%|████████▉ | 89/100 [00:45<00:05,  2.04it/s]"
     ]
    },
    {
     "name": "stdout",
     "output_type": "stream",
     "text": [
      "1.9083666058519584\n",
      "[VALID] Epoch 89 - Batch 300 - Loss: 1.908 - Acc: 87.647%\n",
      "[TRAIN] Epoch 89 - Batch 300 - Loss: 0.000 - Acc: 1.000%\n",
      "0.07110163113714349\n",
      "[VALID] Epoch 89 - Batch 400 - Loss: 0.071 - Acc: 98.235%\n",
      "[TRAIN] Epoch 89 - Batch 400 - Loss: 0.000 - Acc: 1.000%\n",
      "2.158235997222124\n",
      "[VALID] Epoch 90 - Batch 100 - Loss: 2.158 - Acc: 85.294%\n",
      "[TRAIN] Epoch 90 - Batch 100 - Loss: 0.000 - Acc: 1.000%\n",
      "0.06037671383481283\n",
      "[VALID] Epoch 90 - Batch 200 - Loss: 0.060 - Acc: 98.235%\n",
      "[TRAIN] Epoch 90 - Batch 200 - Loss: 0.000 - Acc: 1.000%\n"
     ]
    },
    {
     "name": "stderr",
     "output_type": "stream",
     "text": [
      " 90%|█████████ | 90/100 [00:45<00:04,  2.08it/s]"
     ]
    },
    {
     "name": "stdout",
     "output_type": "stream",
     "text": [
      "1.847914887041631\n",
      "[VALID] Epoch 90 - Batch 300 - Loss: 1.848 - Acc: 84.118%\n",
      "[TRAIN] Epoch 90 - Batch 300 - Loss: 0.000 - Acc: 1.000%\n",
      "0.02040818313855506\n",
      "[VALID] Epoch 90 - Batch 400 - Loss: 0.020 - Acc: 99.412%\n",
      "[TRAIN] Epoch 90 - Batch 400 - Loss: 0.000 - Acc: 1.000%\n",
      "1.68892957789927\n",
      "[VALID] Epoch 91 - Batch 100 - Loss: 1.689 - Acc: 84.706%\n",
      "[TRAIN] Epoch 91 - Batch 100 - Loss: 0.000 - Acc: 1.000%\n",
      "0.13272977573766387\n",
      "[VALID] Epoch 91 - Batch 200 - Loss: 0.133 - Acc: 96.471%\n",
      "[TRAIN] Epoch 91 - Batch 200 - Loss: 0.000 - Acc: 1.000%\n"
     ]
    },
    {
     "name": "stderr",
     "output_type": "stream",
     "text": [
      " 91%|█████████ | 91/100 [00:46<00:04,  2.11it/s]"
     ]
    },
    {
     "name": "stdout",
     "output_type": "stream",
     "text": [
      "2.0390128087539563\n",
      "[VALID] Epoch 91 - Batch 300 - Loss: 2.039 - Acc: 82.353%\n",
      "[TRAIN] Epoch 91 - Batch 300 - Loss: 0.000 - Acc: 1.000%\n",
      "0.04618568111421319\n",
      "[VALID] Epoch 91 - Batch 400 - Loss: 0.046 - Acc: 97.647%\n",
      "[TRAIN] Epoch 91 - Batch 400 - Loss: 0.000 - Acc: 1.000%\n",
      "2.41051775493108\n",
      "[VALID] Epoch 92 - Batch 100 - Loss: 2.411 - Acc: 84.118%\n",
      "[TRAIN] Epoch 92 - Batch 100 - Loss: 0.000 - Acc: 1.000%\n",
      "0.3163236689142884\n",
      "[VALID] Epoch 92 - Batch 200 - Loss: 0.316 - Acc: 95.882%\n",
      "[TRAIN] Epoch 92 - Batch 200 - Loss: 0.000 - Acc: 1.000%\n"
     ]
    },
    {
     "name": "stderr",
     "output_type": "stream",
     "text": [
      " 92%|█████████▏| 92/100 [00:46<00:03,  2.13it/s]"
     ]
    },
    {
     "name": "stdout",
     "output_type": "stream",
     "text": [
      "1.5637479994877461\n",
      "[VALID] Epoch 92 - Batch 300 - Loss: 1.564 - Acc: 87.059%\n",
      "[TRAIN] Epoch 92 - Batch 300 - Loss: 0.000 - Acc: 1.000%\n",
      "0.17677242736596163\n",
      "[VALID] Epoch 92 - Batch 400 - Loss: 0.177 - Acc: 98.235%\n",
      "[TRAIN] Epoch 92 - Batch 400 - Loss: 0.000 - Acc: 1.000%\n",
      "3.72168173842475\n",
      "[VALID] Epoch 93 - Batch 100 - Loss: 3.722 - Acc: 80.000%\n",
      "[TRAIN] Epoch 93 - Batch 100 - Loss: 0.000 - Acc: 1.000%\n",
      "0.211673656567462\n",
      "[VALID] Epoch 93 - Batch 200 - Loss: 0.212 - Acc: 97.059%\n",
      "[TRAIN] Epoch 93 - Batch 200 - Loss: 0.001 - Acc: 0.900%\n"
     ]
    },
    {
     "name": "stderr",
     "output_type": "stream",
     "text": [
      " 93%|█████████▎| 93/100 [00:47<00:03,  2.14it/s]"
     ]
    },
    {
     "name": "stdout",
     "output_type": "stream",
     "text": [
      "1.644195856823979\n",
      "[VALID] Epoch 93 - Batch 300 - Loss: 1.644 - Acc: 88.235%\n",
      "[TRAIN] Epoch 93 - Batch 300 - Loss: 0.000 - Acc: 1.000%\n",
      "0.016004572573001453\n",
      "[VALID] Epoch 93 - Batch 400 - Loss: 0.016 - Acc: 99.412%\n",
      "[TRAIN] Epoch 93 - Batch 400 - Loss: 0.000 - Acc: 1.000%\n",
      "2.778001781266539\n",
      "[VALID] Epoch 94 - Batch 100 - Loss: 2.778 - Acc: 83.529%\n",
      "[TRAIN] Epoch 94 - Batch 100 - Loss: 0.000 - Acc: 1.000%\n",
      "0.13427832293980468\n",
      "[VALID] Epoch 94 - Batch 200 - Loss: 0.134 - Acc: 97.647%\n",
      "[TRAIN] Epoch 94 - Batch 200 - Loss: 0.001 - Acc: 0.950%\n"
     ]
    },
    {
     "name": "stderr",
     "output_type": "stream",
     "text": [
      " 94%|█████████▍| 94/100 [00:47<00:02,  2.14it/s]"
     ]
    },
    {
     "name": "stdout",
     "output_type": "stream",
     "text": [
      "1.651486109766077\n",
      "[VALID] Epoch 94 - Batch 300 - Loss: 1.651 - Acc: 87.059%\n",
      "[TRAIN] Epoch 94 - Batch 300 - Loss: 0.000 - Acc: 1.000%\n",
      "0.01869433390455461\n",
      "[VALID] Epoch 94 - Batch 400 - Loss: 0.019 - Acc: 99.412%\n",
      "[TRAIN] Epoch 94 - Batch 400 - Loss: 0.000 - Acc: 1.000%\n",
      "2.0126495560216826\n",
      "[VALID] Epoch 95 - Batch 100 - Loss: 2.013 - Acc: 87.059%\n",
      "[TRAIN] Epoch 95 - Batch 100 - Loss: 0.000 - Acc: 1.000%\n",
      "0.22331785692914732\n",
      "[VALID] Epoch 95 - Batch 200 - Loss: 0.223 - Acc: 97.059%\n",
      "[TRAIN] Epoch 95 - Batch 200 - Loss: 0.000 - Acc: 1.000%\n"
     ]
    },
    {
     "name": "stderr",
     "output_type": "stream",
     "text": [
      " 95%|█████████▌| 95/100 [00:48<00:02,  2.15it/s]"
     ]
    },
    {
     "name": "stdout",
     "output_type": "stream",
     "text": [
      "1.5474225747352381\n",
      "[VALID] Epoch 95 - Batch 300 - Loss: 1.547 - Acc: 87.647%\n",
      "[TRAIN] Epoch 95 - Batch 300 - Loss: 0.000 - Acc: 1.000%\n",
      "0.03949247450656448\n",
      "[VALID] Epoch 95 - Batch 400 - Loss: 0.039 - Acc: 98.824%\n",
      "[TRAIN] Epoch 95 - Batch 400 - Loss: 0.000 - Acc: 1.000%\n",
      "2.2638183111649357\n",
      "[VALID] Epoch 96 - Batch 100 - Loss: 2.264 - Acc: 85.294%\n",
      "[TRAIN] Epoch 96 - Batch 100 - Loss: 0.000 - Acc: 1.000%\n",
      "0.0441302205111407\n",
      "[VALID] Epoch 96 - Batch 200 - Loss: 0.044 - Acc: 98.824%\n",
      "[TRAIN] Epoch 96 - Batch 200 - Loss: 0.000 - Acc: 1.000%\n"
     ]
    },
    {
     "name": "stderr",
     "output_type": "stream",
     "text": [
      " 96%|█████████▌| 96/100 [00:48<00:01,  2.12it/s]"
     ]
    },
    {
     "name": "stdout",
     "output_type": "stream",
     "text": [
      "1.3897876277520107\n",
      "[VALID] Epoch 96 - Batch 300 - Loss: 1.390 - Acc: 87.059%\n",
      "[TRAIN] Epoch 96 - Batch 300 - Loss: 0.000 - Acc: 1.000%\n",
      "0.05330564384930197\n",
      "[VALID] Epoch 96 - Batch 400 - Loss: 0.053 - Acc: 98.235%\n",
      "[TRAIN] Epoch 96 - Batch 400 - Loss: 0.000 - Acc: 1.000%\n",
      "1.3465544392207476\n",
      "[VALID] Epoch 97 - Batch 100 - Loss: 1.347 - Acc: 88.235%\n",
      "[TRAIN] Epoch 97 - Batch 100 - Loss: 0.000 - Acc: 1.000%\n",
      "0.018741128528318995\n",
      "[VALID] Epoch 97 - Batch 200 - Loss: 0.019 - Acc: 99.412%\n",
      "[TRAIN] Epoch 97 - Batch 200 - Loss: 0.000 - Acc: 1.000%\n"
     ]
    },
    {
     "name": "stderr",
     "output_type": "stream",
     "text": [
      " 97%|█████████▋| 97/100 [00:49<00:01,  2.15it/s]"
     ]
    },
    {
     "name": "stdout",
     "output_type": "stream",
     "text": [
      "1.8789034715467043\n",
      "[VALID] Epoch 97 - Batch 300 - Loss: 1.879 - Acc: 85.882%\n",
      "[TRAIN] Epoch 97 - Batch 300 - Loss: 0.000 - Acc: 1.000%\n",
      "0.029853202388107816\n",
      "[VALID] Epoch 97 - Batch 400 - Loss: 0.030 - Acc: 98.824%\n",
      "[TRAIN] Epoch 97 - Batch 400 - Loss: 0.000 - Acc: 1.000%\n",
      "1.7257946710952263\n",
      "[VALID] Epoch 98 - Batch 100 - Loss: 1.726 - Acc: 85.882%\n",
      "[TRAIN] Epoch 98 - Batch 100 - Loss: 0.000 - Acc: 1.000%\n",
      "0.28802937702648573\n",
      "[VALID] Epoch 98 - Batch 200 - Loss: 0.288 - Acc: 97.059%\n",
      "[TRAIN] Epoch 98 - Batch 200 - Loss: 0.000 - Acc: 1.000%\n"
     ]
    },
    {
     "name": "stderr",
     "output_type": "stream",
     "text": [
      " 98%|█████████▊| 98/100 [00:49<00:00,  2.15it/s]"
     ]
    },
    {
     "name": "stdout",
     "output_type": "stream",
     "text": [
      "2.9862273016993264\n",
      "[VALID] Epoch 98 - Batch 300 - Loss: 2.986 - Acc: 81.765%\n",
      "[TRAIN] Epoch 98 - Batch 300 - Loss: 0.000 - Acc: 1.000%\n",
      "0.2947879510245549\n",
      "[VALID] Epoch 98 - Batch 400 - Loss: 0.295 - Acc: 97.059%\n",
      "[TRAIN] Epoch 98 - Batch 400 - Loss: 0.000 - Acc: 1.000%\n",
      "3.344718535196053\n",
      "[VALID] Epoch 99 - Batch 100 - Loss: 3.345 - Acc: 80.000%\n",
      "[TRAIN] Epoch 99 - Batch 100 - Loss: 0.005 - Acc: 0.900%\n",
      "0.05584309036097867\n",
      "[VALID] Epoch 99 - Batch 200 - Loss: 0.056 - Acc: 97.647%\n",
      "[TRAIN] Epoch 99 - Batch 200 - Loss: 0.000 - Acc: 1.000%\n"
     ]
    },
    {
     "name": "stderr",
     "output_type": "stream",
     "text": [
      " 99%|█████████▉| 99/100 [00:49<00:00,  2.16it/s]"
     ]
    },
    {
     "name": "stdout",
     "output_type": "stream",
     "text": [
      "2.0340138813956616\n",
      "[VALID] Epoch 99 - Batch 300 - Loss: 2.034 - Acc: 83.529%\n",
      "[TRAIN] Epoch 99 - Batch 300 - Loss: 0.000 - Acc: 1.000%\n",
      "0.020592914117323415\n",
      "[VALID] Epoch 99 - Batch 400 - Loss: 0.021 - Acc: 99.412%\n",
      "[TRAIN] Epoch 99 - Batch 400 - Loss: 0.000 - Acc: 1.000%\n",
      "1.4126194109905341\n",
      "[VALID] Epoch 100 - Batch 100 - Loss: 1.413 - Acc: 88.235%\n",
      "[TRAIN] Epoch 100 - Batch 100 - Loss: 0.000 - Acc: 1.000%\n",
      "0.514006542726918\n",
      "[VALID] Epoch 100 - Batch 200 - Loss: 0.514 - Acc: 94.118%\n",
      "[TRAIN] Epoch 100 - Batch 200 - Loss: 0.000 - Acc: 1.000%\n"
     ]
    },
    {
     "name": "stderr",
     "output_type": "stream",
     "text": [
      "100%|██████████| 100/100 [00:50<00:00,  1.98it/s]"
     ]
    },
    {
     "name": "stdout",
     "output_type": "stream",
     "text": [
      "1.783483707900172\n",
      "[VALID] Epoch 100 - Batch 300 - Loss: 1.783 - Acc: 85.294%\n",
      "[TRAIN] Epoch 100 - Batch 300 - Loss: 0.000 - Acc: 1.000%\n",
      "0.046557415782565253\n",
      "[VALID] Epoch 100 - Batch 400 - Loss: 0.047 - Acc: 97.647%\n",
      "[TRAIN] Epoch 100 - Batch 400 - Loss: 0.000 - Acc: 1.000%\n"
     ]
    },
    {
     "name": "stderr",
     "output_type": "stream",
     "text": [
      "\n"
     ]
    }
   ],
   "source": [
    "set_seed(seed=SEED)\n",
    "\n",
    "# Print training stats every LOG_FREQ minibatches\n",
    "LOG_FREQ = 100\n",
    "\n",
    "# Frequency for evaluating the validation metrics\n",
    "VAL_FREQ = 100\n",
    "\n",
    "\n",
    "# Run training\n",
    "metrics = {'train_loss':[],\n",
    "           'train_acc':[],\n",
    "           'val_loss':[],\n",
    "           'val_acc':[],\n",
    "           'val_idx':[]}\n",
    "\n",
    "step_idx = 0\n",
    "for epoch in tqdm(range(MAX_EPOCHS)):\n",
    "\n",
    "  running_loss, running_acc = 0., 0.\n",
    "\n",
    "  for batch_id, batch in enumerate(train_loader):\n",
    "    step_idx += 1\n",
    "    # Extract minibatch data and labels\n",
    "    features, labels = batch[0].to(DEVICE), batch[1].long().to(DEVICE)\n",
    "\n",
    "    # Just like before, refresh gradient accumulators.\n",
    "    # Note that this is now a method of the optimizer.\n",
    "    optimizer.zero_grad()\n",
    "\n",
    "    # Evaluate model and loss on minibatch\n",
    "    preds = model(features)\n",
    "    loss = loss_fn(preds, labels)\n",
    "    acc = torch.mean(1.0 * (preds.argmax(dim=1) == labels))\n",
    "\n",
    "    # Compute gradients\n",
    "    loss.backward()\n",
    "    # Update parameters\n",
    "    # Note how all the magic in the update of the parameters is encapsulated by\n",
    "    # the optimizer class.\n",
    "    optimizer.step()\n",
    "    # Log metrics for plotting\n",
    "    metrics['train_loss'].append(loss.cpu().item())\n",
    "    metrics['train_acc'].append(acc.cpu().item())\n",
    "    #print(metrics)\n",
    "\n",
    "    if batch_id % VAL_FREQ == (VAL_FREQ - 1):\n",
    "\n",
    "      # Get an estimate of the validation accuracy with 100 batches\n",
    "      val_loss, val_acc = eval_model(model, test_loader,\n",
    "                                      num_batches=16,\n",
    "                                      device=DEVICE)\n",
    "      print(val_loss)\n",
    "      metrics['val_idx'].append(step_idx)\n",
    "      metrics['val_loss'].append(val_loss)\n",
    "      metrics['val_acc'].append(val_acc)\n",
    "\n",
    "      print(f\"[VALID] Epoch {epoch + 1} - Batch {batch_id + 1} - \"\n",
    "            f\"Loss: {val_loss:.3f} - Acc: {100*val_acc:.3f}%\")\n",
    "\n",
    "    # print statistics\n",
    "    running_loss += loss.cpu().item()\n",
    "    running_acc += acc.cpu().item()\n",
    "\n",
    "    # Print every LOG_FREQ minibatches\n",
    "    if batch_id % LOG_FREQ == (LOG_FREQ-1):\n",
    "      print(f\"[TRAIN] Epoch {epoch + 1} - Batch {batch_id + 1} - \"\n",
    "            f\"Loss: {running_loss / LOG_FREQ:.3f} - \"\n",
    "            f\"Acc: {100 * running_acc / LOG_FREQ:.3f}%\")\n",
    "\n",
    "    running_loss, running_acc = 0., 0."
   ]
  },
  {
   "cell_type": "code",
   "execution_count": 50,
   "metadata": {},
   "outputs": [
    {
     "data": {
      "image/png": "[encoded data removed]",
      "text/plain": [
       "<Figure size 1000x400 with 2 Axes>"
      ]
     },
     "metadata": {},
     "output_type": "display_data"
    }
   ],
   "source": [
    "import matplotlib.pyplot as plt\n",
    "fig, ax = plt.subplots(1, 2, figsize=(10, 4))\n",
    "\n",
    "ax[0].plot(range(len(metrics['train_loss'])), metrics['train_loss'],\n",
    "           alpha=0.8, label='Train')\n",
    "ax[0].plot(metrics['val_idx'], metrics['val_loss'], label='Valid')\n",
    "ax[0].set_xlabel('Iteration')\n",
    "ax[0].set_ylabel('Loss')\n",
    "ax[0].legend()\n",
    "\n",
    "ax[1].plot(range(len(metrics['train_acc'])), metrics['train_acc'],\n",
    "           alpha=0.8, label='Train')\n",
    "ax[1].plot(metrics['val_idx'], metrics['val_acc'], label='Valid')\n",
    "ax[1].set_xlabel('Iteration')\n",
    "ax[1].set_ylabel('Accuracy')\n",
    "ax[1].legend()\n",
    "plt.tight_layout()\n",
    "plt.show()"
   ]
  },
  {
   "cell_type": "code",
   "execution_count": 51,
   "metadata": {},
   "outputs": [
    {
     "name": "stdout",
     "output_type": "stream",
     "text": [
      "Your model...\n",
      "Train Loss 0.516 / Test Loss 0.516\n",
      "Train Accuracy 94.755% / Test Accuracy 94.755%\n"
     ]
    },
    {
     "data": {
      "text/plain": [
       "\"print('\\nBenchmark model')\\ntrain_loss, train_accuracy = eval_model(benchmark_model, train_loader, device=DEVICE)\\ntest_loss, test_accuracy = eval_model(benchmark_model, test_loader, device=DEVICE)\\nprint(f'Train Loss {train_loss:.3f} / Test Loss {test_loss:.3f}')\\nprint(f'Train Accuracy {100*train_accuracy:.3f}% / Test Accuracy {100*test_accuracy:.3f}%')\""
      ]
     },
     "execution_count": 51,
     "metadata": {},
     "output_type": "execute_result"
    }
   ],
   "source": [
    "print('Your model...')\n",
    "train_loss, train_accuracy = eval_model(model, train_loader, device=DEVICE)\n",
    "test_loss, test_accuracy = eval_model(model, test_loader, device=DEVICE)\n",
    "print(f'Train Loss {train_loss:.3f} / Test Loss {test_loss:.3f}')\n",
    "print(f'Train Accuracy {100*train_accuracy:.3f}% / Test Accuracy {100*test_accuracy:.3f}%')\n",
    "\n",
    "\"\"\"print('\\nBenchmark model')\n",
    "train_loss, train_accuracy = eval_model(benchmark_model, train_loader, device=DEVICE)\n",
    "test_loss, test_accuracy = eval_model(benchmark_model, test_loader, device=DEVICE)\n",
    "print(f'Train Loss {train_loss:.3f} / Test Loss {test_loss:.3f}')\n",
    "print(f'Train Accuracy {100*train_accuracy:.3f}% / Test Accuracy {100*test_accuracy:.3f}%')\"\"\""
   ]
  },
  {
   "cell_type": "code",
   "execution_count": 52,
   "metadata": {},
   "outputs": [
    {
     "name": "stdout",
     "output_type": "stream",
     "text": [
      "Epoch: 0 | Loss: 0.6003, Acc: 0.95% | Test loss: 92.9573, Test acc: 0.40%\n",
      "Epoch: 2 | Loss: 0.5183, Acc: 0.95% | Test loss: 90.8722, Test acc: 0.41%\n"
     ]
    }
   ],
   "source": [
    "from sklearn.metrics import accuracy_score\n",
    "\n",
    "torch.manual_seed(42)\n",
    "torch.cuda.manual_seed(42)\n",
    "\n",
    "epochs = 3\n",
    "\n",
    "data_x = train_loader.dataset.tensors[0].to(DEVICE)\n",
    "data_y = train_loader.dataset.tensors[1].to(DEVICE)\n",
    "\n",
    "test_x = test_loader.dataset.tensors[0].to(DEVICE)\n",
    "text_y = test_loader.dataset.tensors[1].to(DEVICE)\n",
    "\n",
    "loss_fn = nn.CrossEntropyLoss()\n",
    "\n",
    "for epoch in range(epochs):\n",
    "  model.train()\n",
    "  y_logits = model(data_x)\n",
    "  y_pred = torch.softmax(y_logits, dim=1).argmax(dim=1)\n",
    "\n",
    "  loss = loss_fn(y_logits, data_y.long())\n",
    "  acc = accuracy_score(\n",
    "      y_true = data_y.long().detach().cpu(),\n",
    "      y_pred = y_pred.detach().cpu())\n",
    "  optimizer.zero_grad()\n",
    "  loss.backward()\n",
    "  optimizer.step()\n",
    "\n",
    "  model.eval()\n",
    "  with torch.inference_mode():\n",
    "    test_logits = model(test_x).to(DEVICE)\n",
    "    test_preds = torch.softmax(test_logits, dim=1).argmax(dim=1).to(DEVICE)\n",
    "\n",
    "    test_loss = loss_fn(test_logits, test_y.long().to(DEVICE))\n",
    "    test_acc = accuracy_score(y_true = test_y.long().detach().cpu(),\n",
    "                    y_pred = test_preds.detach().cpu())\n",
    "\n",
    "  if epoch % 2 == 0:\n",
    "    print(f\"Epoch: {epoch} | Loss: {loss:.4f}, Acc: {acc:.2f}% | Test loss: {test_loss:.4f}, Test acc: {test_acc:.2f}%\")"
   ]
  },
  {
   "cell_type": "markdown",
   "metadata": {},
   "source": [
    "## MLP with `Delip Rao`"
   ]
  },
  {
   "cell_type": "markdown",
   "metadata": {},
   "source": [
    "## 1. Create a function for vocabulary-based "
   ]
  },
  {
   "cell_type": "code",
   "execution_count": 53,
   "metadata": {},
   "outputs": [],
   "source": [
    "from collections import Counter\n",
    "from argparse import Namespace\n",
    "import json,os, re,string\n",
    "\n",
    "import numpy as np, pandas as pd\n",
    "import torch,torch.nn as nn\n",
    "import torch.nn.functional as F\n",
    "import torch.optim as optim\n",
    "from torch.utils.data import Dataset, DataLoader\n",
    "from tqdm import tqdm_notebook\n",
    "from tqdm.notebook import trange, tqdm"
   ]
  },
  {
   "cell_type": "code",
   "execution_count": 54,
   "metadata": {},
   "outputs": [],
   "source": [
    "#Read data\n",
    "df = pd.read_pickle('results/inflacion.pkl')[['text', 'label']]\n",
    "df = df[df.label != 'neutro']\n",
    "df['label'] = df['label'].replace({'negativo':0,'positivo':1})\n",
    "df = df.rename(columns={'text':'review','label':'rating'})\n",
    "\n",
    "# Filtering sentences with more than 5 words\n",
    "df['word_count'] = df['review'].apply(lambda x: len(x.split()))\n",
    "df = df[df['word_count'] > 5]\n",
    "# Dropping the word_count column if not needed\n",
    "df = df.drop(columns=['word_count'])\n",
    "#df = df.drop_duplicates()"
   ]
  },
  {
   "cell_type": "code",
   "execution_count": 55,
   "metadata": {},
   "outputs": [
    {
     "data": {
      "text/plain": [
       "(10207, 2)"
      ]
     },
     "execution_count": 55,
     "metadata": {},
     "output_type": "execute_result"
    }
   ],
   "source": [
    "df.shape"
   ]
  },
  {
   "cell_type": "code",
   "execution_count": 56,
   "metadata": {},
   "outputs": [],
   "source": [
    "from sklearn.model_selection import train_test_split\n",
    "raw_train, raw_test = train_test_split(df, test_size = 0.05,\n",
    "                                     random_state=42, shuffle=True,\n",
    "                                     stratify=df.rating)\n",
    "raw_train.to_pickle('data/raw_train.pkl')\n",
    "raw_test.to_pickle('data/raw_test.pkl')"
   ]
  },
  {
   "cell_type": "code",
   "execution_count": 57,
   "metadata": {},
   "outputs": [
    {
     "data": {
      "text/plain": [
       "9696"
      ]
     },
     "execution_count": 57,
     "metadata": {},
     "output_type": "execute_result"
    }
   ],
   "source": [
    "len(raw_train)"
   ]
  },
  {
   "cell_type": "code",
   "execution_count": 58,
   "metadata": {},
   "outputs": [],
   "source": [
    "args = Namespace(\n",
    "  raw_train_dataset_csv = \"data/raw_train.pkl\",\n",
    "  raw_test_dataset_csv = \"data/raw_test.pkl\",\n",
    "  train_proportion = 0.7,\n",
    "  val_proportion = 0.2,\n",
    "  test_proportion=0.1,\n",
    "  seed=1337,\n",
    "  proportion_subset_of_train=0.9,\n",
    "  output_munged_csv = \"results/reviews_with_splits_lite.pkl\"\n",
    "  )"
   ]
  },
  {
   "cell_type": "code",
   "execution_count": 59,
   "metadata": {},
   "outputs": [
    {
     "data": {
      "text/plain": [
       "9696"
      ]
     },
     "execution_count": 59,
     "metadata": {},
     "output_type": "execute_result"
    }
   ],
   "source": [
    "# Read raw data\n",
    "train_reviews = pd.read_pickle(args.raw_train_dataset_csv)\n",
    "len(train_reviews)"
   ]
  },
  {
   "cell_type": "code",
   "execution_count": 60,
   "metadata": {},
   "outputs": [],
   "source": [
    "from collections import defaultdict\n",
    "# making the subset equal across the review classes\n",
    "by_rating = defaultdict(list)\n",
    "for _, row in train_reviews.iterrows():\n",
    "    by_rating[row.rating].append(row.to_dict())\n",
    "    \n",
    "review_subset = []\n",
    "\n",
    "for _, item_list in sorted(by_rating.items()):\n",
    "\n",
    "    n_total = len(item_list)\n",
    "    n_subset = int(args.proportion_subset_of_train * n_total)\n",
    "    review_subset.extend(item_list[:n_subset])\n",
    "\n",
    "review_subset = pd.DataFrame(review_subset)"
   ]
  },
  {
   "cell_type": "code",
   "execution_count": 62,
   "metadata": {},
   "outputs": [],
   "source": [
    "# Splitting the subset by rating to create our new train, val, and test splits\n",
    "by_rating = defaultdict(list)\n",
    "for _, row in review_subset.iterrows():\n",
    "    by_rating[row.rating].append(row.to_dict())\n",
    "    \n",
    "final_list = []\n",
    "np.random.seed(args.seed)\n",
    "\n",
    "for _, item_list in sorted(by_rating.items()):\n",
    "\n",
    "    np.random.shuffle(item_list)\n",
    "    \n",
    "    n_total = len(item_list)\n",
    "    n_train = int(args.train_proportion * n_total)\n",
    "    n_val = int(args.val_proportion * n_total)\n",
    "    n_test = int(args.test_proportion * n_total)\n",
    "    \n",
    "    # Give data point a split attribute\n",
    "    for item in item_list[:n_train]:\n",
    "        item['split'] = 'train'\n",
    "    \n",
    "    for item in item_list[n_train:n_train+n_val]:\n",
    "        item['split'] = 'val'\n",
    "        \n",
    "    for item in item_list[n_train+n_val:n_train+n_val+n_test]:\n",
    "        item['split'] = 'test'\n",
    "\n"
   ]
  },
  {
   "cell_type": "code",
   "execution_count": 63,
   "metadata": {},
   "outputs": [],
   "source": [
    "# Create split data\n",
    "#final_list = []\n",
    "np.random.seed(args.seed)\n",
    "\n",
    "for _, item_list in sorted(by_rating.items()):\n",
    "\n",
    "    np.random.shuffle(item_list)\n",
    "    \n",
    "    n_total = len(item_list)\n",
    "    n_train = int(args.train_proportion * n_total)\n",
    "    n_val = int(args.val_proportion * n_total)\n",
    "    n_test = int(args.test_proportion * n_total)\n",
    "    \n",
    "    # Give data point a split attribute\n",
    "    for item in item_list[:n_train]:\n",
    "        item['split'] = 'train'\n",
    "    \n",
    "    for item in item_list[n_train:n_train+n_val]:\n",
    "        item['split'] = 'val'\n",
    "        \n",
    "    for item in item_list[n_train+n_val:n_train+n_val+n_test]:\n",
    "        item['split'] = 'test'\n",
    "\n",
    "    # Add to final list\n",
    "    final_list.extend(item_list)"
   ]
  },
  {
   "cell_type": "code",
   "execution_count": 66,
   "metadata": {},
   "outputs": [],
   "source": [
    "# Create split data\n",
    "final_list = []\n",
    "np.random.seed(args.seed)\n",
    "\n",
    "for _, item_list in sorted(by_rating.items()):\n",
    "\n",
    "    np.random.shuffle(item_list)\n",
    "    \n",
    "    n_total = len(item_list)\n",
    "    n_train = int(args.train_proportion * n_total)\n",
    "    n_val = int(args.val_proportion * n_total)\n",
    "    n_test = int(args.test_proportion * n_total)\n",
    "    \n",
    "    # Give data point a split attribute\n",
    "    for item in item_list[:n_train]:\n",
    "        item['split'] = 'train'\n",
    "    \n",
    "    for item in item_list[n_train:n_train+n_val]:\n",
    "        item['split'] = 'val'\n",
    "        \n",
    "    for item in item_list[n_train+n_val:n_train+n_val+n_test]:\n",
    "        item['split'] = 'test'\n",
    "\n",
    "    # Add to final list\n",
    "    final_list.extend(item_list)"
   ]
  },
  {
   "cell_type": "code",
   "execution_count": 67,
   "metadata": {},
   "outputs": [],
   "source": [
    "# Write split data to file\n",
    "final_reviews = pd.DataFrame(final_list)"
   ]
  },
  {
   "cell_type": "code",
   "execution_count": 68,
   "metadata": {},
   "outputs": [
    {
     "data": {
      "text/plain": [
       "split\n",
       "train    6107\n",
       "val      1745\n",
       "test      873\n",
       "Name: count, dtype: int64"
      ]
     },
     "execution_count": 68,
     "metadata": {},
     "output_type": "execute_result"
    }
   ],
   "source": [
    "# Write split data to file\n",
    "final_reviews = pd.DataFrame(final_list)\n",
    "final_reviews.split.value_counts()"
   ]
  },
  {
   "cell_type": "code",
   "execution_count": 69,
   "metadata": {},
   "outputs": [],
   "source": [
    "# Preprocess the reviews\n",
    "def preprocess_text(text):\n",
    "    text = text.lower()\n",
    "    #text = re.sub(r\"([.,!?])\", r\" \\1 \", text)\n",
    "    text = re.sub(r\"[^a-zA-Z.,!?]+\", r\" \", text)\n",
    "    return text\n",
    "    \n",
    "final_reviews.review = final_reviews.review.apply(preprocess_text)"
   ]
  },
  {
   "cell_type": "code",
   "execution_count": 70,
   "metadata": {},
   "outputs": [],
   "source": [
    "final_reviews['rating'] = final_reviews.rating.apply({0: 'negative', 1: 'positive'}.get)"
   ]
  },
  {
   "cell_type": "code",
   "execution_count": 184,
   "metadata": {},
   "outputs": [
    {
     "data": {
      "text/html": [
       "<div>\n",
       "<style scoped>\n",
       "    .dataframe tbody tr th:only-of-type {\n",
       "        vertical-align: middle;\n",
       "    }\n",
       "\n",
       "    .dataframe tbody tr th {\n",
       "        vertical-align: top;\n",
       "    }\n",
       "\n",
       "    .dataframe thead th {\n",
       "        text-align: right;\n",
       "    }\n",
       "</style>\n",
       "<table border=\"1\" class=\"dataframe\">\n",
       "  <thead>\n",
       "    <tr style=\"text-align: right;\">\n",
       "      <th></th>\n",
       "      <th>review</th>\n",
       "      <th>rating</th>\n",
       "      <th>split</th>\n",
       "    </tr>\n",
       "  </thead>\n",
       "  <tbody>\n",
       "    <tr>\n",
       "      <th>0</th>\n",
       "      <td>datos desglosados ano exhiben realidad valor s...</td>\n",
       "      <td>negative</td>\n",
       "      <td>train</td>\n",
       "    </tr>\n",
       "    <tr>\n",
       "      <th>1</th>\n",
       "      <td>reforma fiscal siguiente ano refuerce finanzas...</td>\n",
       "      <td>negative</td>\n",
       "      <td>train</td>\n",
       "    </tr>\n",
       "    <tr>\n",
       "      <th>2</th>\n",
       "      <td>menor avance indicadores da contexto pandemia ...</td>\n",
       "      <td>negative</td>\n",
       "      <td>train</td>\n",
       "    </tr>\n",
       "    <tr>\n",
       "      <th>3</th>\n",
       "      <td>empresario mexicano destacado interes construc...</td>\n",
       "      <td>negative</td>\n",
       "      <td>train</td>\n",
       "    </tr>\n",
       "    <tr>\n",
       "      <th>4</th>\n",
       "      <td>mexico hacer hacer manera mas sencilla poder i...</td>\n",
       "      <td>negative</td>\n",
       "      <td>train</td>\n",
       "    </tr>\n",
       "  </tbody>\n",
       "</table>\n",
       "</div>"
      ],
      "text/plain": [
       "                                              review    rating  split\n",
       "0  datos desglosados ano exhiben realidad valor s...  negative  train\n",
       "1  reforma fiscal siguiente ano refuerce finanzas...  negative  train\n",
       "2  menor avance indicadores da contexto pandemia ...  negative  train\n",
       "3  empresario mexicano destacado interes construc...  negative  train\n",
       "4  mexico hacer hacer manera mas sencilla poder i...  negative  train"
      ]
     },
     "execution_count": 184,
     "metadata": {},
     "output_type": "execute_result"
    }
   ],
   "source": [
    "final_reviews.head()"
   ]
  },
  {
   "cell_type": "code",
   "execution_count": 71,
   "metadata": {},
   "outputs": [],
   "source": [
    "final_reviews.to_pickle(args.output_munged_csv)"
   ]
  },
  {
   "cell_type": "markdown",
   "metadata": {},
   "source": [
    "## The vocabulary"
   ]
  },
  {
   "cell_type": "code",
   "execution_count": 72,
   "metadata": {},
   "outputs": [],
   "source": [
    "class Vocabulary(object):\n",
    "    \"\"\"Class to process text and extract vocabulary for mapping\"\"\"\n",
    "\n",
    "    def __init__(self, token_to_idx=None, add_unk=True, unk_token=\"<UNK>\"):\n",
    "        \"\"\"\n",
    "        Args:\n",
    "            token_to_idx (dict): a pre-existing map of tokens to indices\n",
    "            add_unk (bool): a flag that indicates whether to add the UNK token\n",
    "            unk_token (str): the UNK token to add into the Vocabulary\n",
    "        \"\"\"\n",
    "\n",
    "        if token_to_idx is None:\n",
    "            token_to_idx = {}\n",
    "        self._token_to_idx = token_to_idx\n",
    "\n",
    "        self._idx_to_token = {idx: token \n",
    "                              for token, idx in self._token_to_idx.items()}\n",
    "        \n",
    "        self._add_unk = add_unk\n",
    "        self._unk_token = unk_token\n",
    "        \n",
    "        self.unk_index = -1\n",
    "        if add_unk:\n",
    "            self.unk_index = self.add_token(unk_token) \n",
    "        \n",
    "        \n",
    "    def to_serializable(self):\n",
    "        \"\"\" returns a dictionary that can be serialized \"\"\"\n",
    "        return {'token_to_idx': self._token_to_idx, \n",
    "                'add_unk': self._add_unk, \n",
    "                'unk_token': self._unk_token}\n",
    "\n",
    "    @classmethod\n",
    "    def from_serializable(cls, contents):\n",
    "        \"\"\" instantiates the Vocabulary from a serialized dictionary \"\"\"\n",
    "        return cls(**contents)\n",
    "\n",
    "    def add_token(self, token):\n",
    "        \"\"\"Update mapping dicts based on the token.\n",
    "\n",
    "        Args:\n",
    "            token (str): the item to add into the Vocabulary\n",
    "        Returns:\n",
    "            index (int): the integer corresponding to the token\n",
    "        \"\"\"\n",
    "        if token in self._token_to_idx:\n",
    "            index = self._token_to_idx[token]\n",
    "        else:\n",
    "            index = len(self._token_to_idx)\n",
    "            self._token_to_idx[token] = index\n",
    "            self._idx_to_token[index] = token\n",
    "        return index\n",
    "    \n",
    "    def add_many(self, tokens):\n",
    "        \"\"\"Add a list of tokens into the Vocabulary\n",
    "        \n",
    "        Args:\n",
    "            tokens (list): a list of string tokens\n",
    "        Returns:\n",
    "            indices (list): a list of indices corresponding to the tokens\n",
    "        \"\"\"\n",
    "        return [self.add_token(token) for token in tokens]\n",
    "\n",
    "    def lookup_token(self, token):\n",
    "        \"\"\"Retrieve the index associated with the token \n",
    "          or the UNK index if token isn't present.\n",
    "        \n",
    "        Args:\n",
    "            token (str): the token to look up \n",
    "        Returns:\n",
    "            index (int): the index corresponding to the token\n",
    "        Notes:\n",
    "            `unk_index` needs to be >=0 (having been added into the Vocabulary) \n",
    "              for the UNK functionality \n",
    "        \"\"\"\n",
    "        if self.unk_index >= 0:\n",
    "            return self._token_to_idx.get(token, self.unk_index)\n",
    "        else:\n",
    "            return self._token_to_idx[token]\n",
    "\n",
    "    def lookup_index(self, index):\n",
    "        \"\"\"Return the token associated with the index\n",
    "        \n",
    "        Args: \n",
    "            index (int): the index to look up\n",
    "        Returns:\n",
    "            token (str): the token corresponding to the index\n",
    "        Raises:\n",
    "            KeyError: if the index is not in the Vocabulary\n",
    "        \"\"\"\n",
    "        if index not in self._idx_to_token:\n",
    "            raise KeyError(\"the index (%d) is not in the Vocabulary\" % index)\n",
    "        return self._idx_to_token[index]\n",
    "\n",
    "    def __str__(self):\n",
    "        return \"<Vocabulary(size=%d)>\" % len(self)\n",
    "\n",
    "    def __len__(self):\n",
    "        return len(self._token_to_idx)"
   ]
  },
  {
   "cell_type": "markdown",
   "metadata": {},
   "source": [
    "## The vectorizer"
   ]
  },
  {
   "cell_type": "code",
   "execution_count": 73,
   "metadata": {},
   "outputs": [],
   "source": [
    "class ReviewVectorizer(object):\n",
    "    \"\"\" The Vectorizer which coordinates the Vocabularies and puts them to use\"\"\"\n",
    "    def __init__(self, review_vocab, rating_vocab):\n",
    "        \"\"\"\n",
    "        Args:\n",
    "            review_vocab (Vocabulary): maps words to integers\n",
    "            rating_vocab (Vocabulary): maps class labels to integers\n",
    "        \"\"\"\n",
    "        self.review_vocab = review_vocab\n",
    "        self.rating_vocab = rating_vocab\n",
    "\n",
    "    def vectorize(self, review):\n",
    "        \"\"\"Create a collapsed one-hot vector for the review\n",
    "        \n",
    "        Args:\n",
    "            review (str): the review \n",
    "        Returns:\n",
    "            one_hot (np.ndarray): the collapsed one-hot encoding \n",
    "        \"\"\"\n",
    "        one_hot = np.zeros(len(self.review_vocab), dtype=np.float32)\n",
    "        \n",
    "        for token in review.split(\" \"):\n",
    "            if token not in string.punctuation:\n",
    "                one_hot[self.review_vocab.lookup_token(token)] = 1\n",
    "\n",
    "        return one_hot\n",
    "\n",
    "    @classmethod\n",
    "    def from_dataframe(cls, review_df, cutoff=600):\n",
    "        \"\"\"Instantiate the vectorizer from the dataset dataframe\n",
    "        \n",
    "        Args:\n",
    "            review_df (pandas.DataFrame): the review dataset\n",
    "            cutoff (int): the parameter for frequency-based filtering\n",
    "        Returns:\n",
    "            an instance of the ReviewVectorizer\n",
    "        \"\"\"\n",
    "        review_vocab = Vocabulary(add_unk=True)\n",
    "        rating_vocab = Vocabulary(add_unk=False)\n",
    "        \n",
    "        # Add ratings\n",
    "        for rating in sorted(set(review_df.rating)):\n",
    "            rating_vocab.add_token(rating)\n",
    "\n",
    "        # Add top words if count > provided count\n",
    "        word_counts = Counter()\n",
    "        for review in review_df.review:\n",
    "            for word in review.split(\" \"):\n",
    "                if word not in string.punctuation:\n",
    "                    word_counts[word] += 1\n",
    "               \n",
    "        for word, count in word_counts.items():\n",
    "            if count > cutoff:\n",
    "                review_vocab.add_token(word)\n",
    "\n",
    "        return cls(review_vocab, rating_vocab)\n",
    "\n",
    "    @classmethod\n",
    "    def from_serializable(cls, contents):\n",
    "        \"\"\"Instantiate a ReviewVectorizer from a serializable dictionary\n",
    "        \n",
    "        Args:\n",
    "            contents (dict): the serializable dictionary\n",
    "        Returns:\n",
    "            an instance of the ReviewVectorizer class\n",
    "        \"\"\"\n",
    "        review_vocab = Vocabulary.from_serializable(contents['review_vocab'])\n",
    "        rating_vocab =  Vocabulary.from_serializable(contents['rating_vocab'])\n",
    "\n",
    "        return cls(review_vocab=review_vocab, rating_vocab=rating_vocab)\n",
    "\n",
    "    def to_serializable(self):\n",
    "        \"\"\"Create the serializable dictionary for caching\n",
    "        \n",
    "        Returns:\n",
    "            contents (dict): the serializable dictionary\n",
    "        \"\"\"\n",
    "        return {'review_vocab': self.review_vocab.to_serializable(),\n",
    "                'rating_vocab': self.rating_vocab.to_serializable()}\n"
   ]
  },
  {
   "cell_type": "markdown",
   "metadata": {},
   "source": [
    "## The Dataset"
   ]
  },
  {
   "cell_type": "code",
   "execution_count": 74,
   "metadata": {},
   "outputs": [],
   "source": [
    "class ReviewDataset(Dataset):\n",
    "    def __init__(self, review_df, vectorizer):\n",
    "        \"\"\"\n",
    "        Args:\n",
    "            review_df (pandas.DataFrame): the dataset\n",
    "            vectorizer (ReviewVectorizer): vectorizer instantiated from dataset\n",
    "        \"\"\"\n",
    "        self.review_df = review_df\n",
    "        self._vectorizer = vectorizer\n",
    "\n",
    "        self.train_df = self.review_df[self.review_df.split=='train']\n",
    "        self.train_size = self.train_df.shape[0]\n",
    "\n",
    "        self.val_df = self.review_df[self.review_df.split=='val']\n",
    "        self.validation_size = self.val_df.shape[0]\n",
    "\n",
    "        self.test_df = self.review_df[self.review_df.split=='test']\n",
    "        self.test_size = self.test_df.shape[0]\n",
    "\n",
    "        self._lookup_dict = {'train': (self.train_df, self.train_size),\n",
    "                             'val': (self.val_df, self.validation_size),\n",
    "                             'test': (self.test_df, self.test_size)}\n",
    "\n",
    "        self.set_split('train')\n",
    "\n",
    "    @classmethod\n",
    "    def load_dataset_and_make_vectorizer(cls, review_csv):\n",
    "        \"\"\"Load dataset and make a new vectorizer from scratch\n",
    "        \n",
    "        Args:\n",
    "            review_csv (str): location of the dataset\n",
    "        Returns:\n",
    "            an instance of ReviewDataset\n",
    "        \"\"\"\n",
    "        review_df = pd.read_pickle(review_csv)\n",
    "        train_review_df = review_df[review_df.split=='train']\n",
    "        return cls(review_df, ReviewVectorizer.from_dataframe(train_review_df))\n",
    "    \n",
    "    @classmethod\n",
    "    def load_dataset_and_load_vectorizer(cls, review_csv, vectorizer_filepath):\n",
    "        \"\"\"Load dataset and the corresponding vectorizer. \n",
    "        Used in the case in the vectorizer has been cached for re-use\n",
    "        \n",
    "        Args:\n",
    "            review_csv (str): location of the dataset\n",
    "            vectorizer_filepath (str): location of the saved vectorizer\n",
    "        Returns:\n",
    "            an instance of ReviewDataset\n",
    "        \"\"\"\n",
    "        review_df = pd.read_pickle(review_csv)\n",
    "        vectorizer = cls.load_vectorizer_only(vectorizer_filepath)\n",
    "        return cls(review_df, vectorizer)\n",
    "\n",
    "    @staticmethod\n",
    "    def load_vectorizer_only(vectorizer_filepath):\n",
    "        \"\"\"a static method for loading the vectorizer from file\n",
    "        \n",
    "        Args:\n",
    "            vectorizer_filepath (str): the location of the serialized vectorizer\n",
    "        Returns:\n",
    "            an instance of ReviewVectorizer\n",
    "        \"\"\"\n",
    "        with open(vectorizer_filepath) as fp:\n",
    "            return ReviewVectorizer.from_serializable(json.load(fp))\n",
    "\n",
    "    def save_vectorizer(self, vectorizer_filepath):\n",
    "        \"\"\"saves the vectorizer to disk using json\n",
    "        \n",
    "        Args:\n",
    "            vectorizer_filepath (str): the location to save the vectorizer\n",
    "        \"\"\"\n",
    "        with open(vectorizer_filepath, \"w\") as fp:\n",
    "            json.dump(self._vectorizer.to_serializable(), fp)\n",
    "\n",
    "    def get_vectorizer(self):\n",
    "        \"\"\" returns the vectorizer \"\"\"\n",
    "        return self._vectorizer\n",
    "\n",
    "    def set_split(self, split=\"train\"):\n",
    "        \"\"\" selects the splits in the dataset using a column in the dataframe \n",
    "        \n",
    "        Args:\n",
    "            split (str): one of \"train\", \"val\", or \"test\"\n",
    "        \"\"\"\n",
    "        self._target_split = split\n",
    "        self._target_df, self._target_size = self._lookup_dict[split]\n",
    "\n",
    "    def __len__(self):\n",
    "        return self._target_size\n",
    "\n",
    "    def __getitem__(self, index):\n",
    "        \"\"\"the primary entry point method for PyTorch datasets\n",
    "        \n",
    "        Args:\n",
    "            index (int): the index to the data point \n",
    "        Returns:\n",
    "            a dictionary holding the data point's features (x_data) and label (y_target)\n",
    "        \"\"\"\n",
    "        row = self._target_df.iloc[index]\n",
    "\n",
    "        review_vector = \\\n",
    "            self._vectorizer.vectorize(row.review)\n",
    "\n",
    "        rating_index = \\\n",
    "            self._vectorizer.rating_vocab.lookup_token(row.rating)\n",
    "\n",
    "        return {'x_data': review_vector,\n",
    "                'y_target': rating_index}\n",
    "\n",
    "    def get_num_batches(self, batch_size):\n",
    "        \"\"\"Given a batch size, return the number of batches in the dataset\n",
    "        \n",
    "        Args:\n",
    "            batch_size (int)\n",
    "        Returns:\n",
    "            number of batches in the dataset\n",
    "        \"\"\"\n",
    "        return len(self) // batch_size  \n",
    "    \n",
    "def generate_batches(dataset, batch_size, shuffle=True,\n",
    "                     drop_last=True, device=\"mps\"):\n",
    "    \"\"\"\n",
    "    A generator function which wraps the PyTorch DataLoader. It will \n",
    "      ensure each tensor is on the write device location.\n",
    "    \"\"\"\n",
    "    dataloader = DataLoader(dataset=dataset, batch_size=batch_size,\n",
    "                            shuffle=shuffle, drop_last=drop_last)\n",
    "\n",
    "    for data_dict in dataloader:\n",
    "        out_data_dict = {}\n",
    "        for name, tensor in data_dict.items():\n",
    "            out_data_dict[name] = data_dict[name].to(device)\n",
    "        yield out_data_dict"
   ]
  },
  {
   "cell_type": "code",
   "execution_count": 75,
   "metadata": {},
   "outputs": [],
   "source": [
    "class ReviewClassifier(nn.Module):\n",
    "    \"\"\" a simple perceptron based classifier \"\"\"\n",
    "    def __init__(self, num_features):\n",
    "        \"\"\"\n",
    "        Args:\n",
    "            num_features (int): the size of the input feature vector\n",
    "        \"\"\"\n",
    "        super(ReviewClassifier, self).__init__()\n",
    "        self.fc1 = nn.Linear(in_features=num_features, \n",
    "                             out_features=1)\n",
    "\n",
    "    def forward(self, x_in, apply_sigmoid=False):\n",
    "        \"\"\"The forward pass of the classifier\n",
    "        \n",
    "        Args:\n",
    "            x_in (torch.Tensor): an input data tensor. \n",
    "                x_in.shape should be (batch, num_features)\n",
    "            apply_sigmoid (bool): a flag for the sigmoid activation\n",
    "                should be false if used with the Cross Entropy losses\n",
    "        Returns:\n",
    "            the resulting tensor. tensor.shape should be (batch,)\n",
    "        \"\"\"\n",
    "        y_out = self.fc1(x_in).squeeze()\n",
    "        if apply_sigmoid:\n",
    "            y_out = torch.sigmoid(y_out)\n",
    "        return y_out"
   ]
  },
  {
   "cell_type": "code",
   "execution_count": 76,
   "metadata": {},
   "outputs": [],
   "source": [
    "def make_train_state(args):\n",
    "    return {'stop_early': False,\n",
    "            'early_stopping_step': 0,\n",
    "            'early_stopping_best_val': 1e8,\n",
    "            'learning_rate': args.learning_rate,\n",
    "            'epoch_index': 0,\n",
    "            'train_loss': [],\n",
    "            'train_acc': [],\n",
    "            'val_loss': [],\n",
    "            'val_acc': [],\n",
    "            'test_loss': -1,\n",
    "            'test_acc': -1,\n",
    "            'model_filename': args.model_state_file}\n",
    "\n",
    "def update_train_state(args, model, train_state):\n",
    "    \"\"\"Handle the training state updates.\n",
    "\n",
    "    Components:\n",
    "     - Early Stopping: Prevent overfitting.\n",
    "     - Model Checkpoint: Model is saved if the model is better\n",
    "\n",
    "    :param args: main arguments\n",
    "    :param model: model to train\n",
    "    :param train_state: a dictionary representing the training state values\n",
    "    :returns:\n",
    "        a new train_state\n",
    "    \"\"\"\n",
    "\n",
    "    # Save one model at least\n",
    "    if train_state['epoch_index'] == 0:\n",
    "        torch.save(model.state_dict(), train_state['model_filename'])\n",
    "        train_state['stop_early'] = False\n",
    "\n",
    "    # Save model if performance improved\n",
    "    elif train_state['epoch_index'] >= 1:\n",
    "        loss_tm1, loss_t = train_state['val_loss'][-2:]\n",
    "\n",
    "        # If loss worsened\n",
    "        if loss_t >= train_state['early_stopping_best_val']:\n",
    "            # Update step\n",
    "            train_state['early_stopping_step'] += 1\n",
    "        # Loss decreased\n",
    "        else:\n",
    "            # Save the best model\n",
    "            if loss_t < train_state['early_stopping_best_val']:\n",
    "                torch.save(model.state_dict(), train_state['model_filename'])\n",
    "\n",
    "            # Reset early stopping step\n",
    "            train_state['early_stopping_step'] = 0\n",
    "\n",
    "        # Stop early ?\n",
    "        train_state['stop_early'] = \\\n",
    "            train_state['early_stopping_step'] >= args.early_stopping_criteria\n",
    "\n",
    "    return train_state\n",
    "\n",
    "def compute_accuracy(y_pred, y_target):\n",
    "    y_target = y_target.cpu()\n",
    "    y_pred_indices = (torch.sigmoid(y_pred)>0.5).cpu().long()#.max(dim=1)[1]\n",
    "    n_correct = torch.eq(y_pred_indices, y_target).sum().item()\n",
    "    return n_correct / len(y_pred_indices) * 100"
   ]
  },
  {
   "cell_type": "code",
   "execution_count": 77,
   "metadata": {},
   "outputs": [],
   "source": [
    "def set_seed_everywhere(seed, cuda):\n",
    "    np.random.seed(seed)\n",
    "    torch.manual_seed(seed)\n",
    "    if cuda:\n",
    "        torch.cuda.manual_seed_all(seed)\n",
    "\n",
    "def handle_dirs(dirpath):\n",
    "    if not os.path.exists(dirpath):\n",
    "        os.makedirs(dirpath)"
   ]
  },
  {
   "cell_type": "code",
   "execution_count": 78,
   "metadata": {},
   "outputs": [
    {
     "name": "stdout",
     "output_type": "stream",
     "text": [
      "Expanded filepaths: \n",
      "\tdata/vectorizer.json\n",
      "\tdata/model.pth\n",
      "Using MPS: True\n"
     ]
    }
   ],
   "source": [
    "args = Namespace(\n",
    "    # Data and Path information\n",
    "    frequency_cutoff=25,\n",
    "    model_state_file='model.pth',\n",
    "    review_csv='results/reviews_with_splits_lite.pkl',\n",
    "    # review_csv='data/yelp/reviews_with_splits_full.csv',\n",
    "    save_dir='data/',\n",
    "    vectorizer_file='vectorizer.json',\n",
    "    # No Model hyper parameters\n",
    "    # Training hyper parameters\n",
    "    batch_size=50,\n",
    "    early_stopping_criteria=5,\n",
    "    learning_rate=0.005,\n",
    "    num_epochs=120,\n",
    "    seed=1337,\n",
    "    # Runtime options\n",
    "    catch_keyboard_interrupt=True,\n",
    "    mps=True,\n",
    "    expand_filepaths_to_save_dir=True,\n",
    "    reload_from_files=False,\n",
    ")\n",
    "\n",
    "if args.expand_filepaths_to_save_dir:\n",
    "    args.vectorizer_file = os.path.join(args.save_dir,\n",
    "                                        args.vectorizer_file)\n",
    "\n",
    "    args.model_state_file = os.path.join(args.save_dir,\n",
    "                                         args.model_state_file)\n",
    "    \n",
    "    print(\"Expanded filepaths: \")\n",
    "    print(\"\\t{}\".format(args.vectorizer_file))\n",
    "    print(\"\\t{}\".format(args.model_state_file))\n",
    "    \n",
    "# Check CUDA\n",
    "if not torch.cuda.is_available():\n",
    "    args.mps = True\n",
    "\n",
    "print(\"Using MPS: {}\".format(args.mps))\n",
    "\n",
    "args.device = torch.device(\"mps\" if args.mps else \"cpu\")\n",
    "\n",
    "# Set seed for reproducibility\n",
    "set_seed_everywhere(args.seed, args.mps)\n",
    "\n",
    "# handle dirs\n",
    "handle_dirs(args.save_dir)"
   ]
  },
  {
   "cell_type": "markdown",
   "metadata": {},
   "source": [
    "## Initialization"
   ]
  },
  {
   "cell_type": "code",
   "execution_count": 79,
   "metadata": {},
   "outputs": [
    {
     "name": "stdout",
     "output_type": "stream",
     "text": [
      "Loading dataset and creating vectorizer\n"
     ]
    }
   ],
   "source": [
    "if args.reload_from_files:\n",
    "    # training from a checkpoint\n",
    "    print(\"Loading dataset and vectorizer\")\n",
    "    dataset = ReviewDataset.load_dataset_and_load_vectorizer(args.review_csv,\n",
    "                                                            args.vectorizer_file)\n",
    "else:\n",
    "    print(\"Loading dataset and creating vectorizer\")\n",
    "    # create dataset and vectorizer\n",
    "    dataset = ReviewDataset.load_dataset_and_make_vectorizer(args.review_csv)\n",
    "    dataset.save_vectorizer(args.vectorizer_file)    \n",
    "vectorizer = dataset.get_vectorizer()\n",
    "\n",
    "classifier = ReviewClassifier(num_features=len(vectorizer.review_vocab))"
   ]
  },
  {
   "cell_type": "code",
   "execution_count": 80,
   "metadata": {},
   "outputs": [
    {
     "data": {
      "text/plain": [
       "ReviewClassifier(\n",
       "  (fc1): Linear(in_features=103, out_features=1, bias=True)\n",
       ")"
      ]
     },
     "execution_count": 80,
     "metadata": {},
     "output_type": "execute_result"
    }
   ],
   "source": [
    "classifier"
   ]
  },
  {
   "cell_type": "markdown",
   "metadata": {},
   "source": [
    "## Training loop"
   ]
  },
  {
   "cell_type": "code",
   "execution_count": 81,
   "metadata": {},
   "outputs": [
    {
     "data": {
      "application/vnd.jupyter.widget-view+json": {
       "model_id": "7b9b537deb424f35b3bd380ffb4e4b20",
       "version_major": 2,
       "version_minor": 0
      },
      "text/plain": [
       "training routine:   0%|          | 0/120 [00:00<?, ?it/s]"
      ]
     },
     "metadata": {},
     "output_type": "display_data"
    },
    {
     "data": {
      "application/vnd.jupyter.widget-view+json": {
       "model_id": "b00abb880b554b4ba7c91e22b0049382",
       "version_major": 2,
       "version_minor": 0
      },
      "text/plain": [
       "split=train:   0%|          | 0/122 [00:00<?, ?it/s]"
      ]
     },
     "metadata": {},
     "output_type": "display_data"
    },
    {
     "data": {
      "application/vnd.jupyter.widget-view+json": {
       "model_id": "9edda2756d6147ebb19eae63e513b238",
       "version_major": 2,
       "version_minor": 0
      },
      "text/plain": [
       "split=val:   0%|          | 0/34 [00:00<?, ?it/s]"
      ]
     },
     "metadata": {},
     "output_type": "display_data"
    }
   ],
   "source": [
    "classifier = classifier.to(args.device)\n",
    "\n",
    "loss_func = nn.BCEWithLogitsLoss()\n",
    "optimizer = optim.Adam(classifier.parameters(), lr=args.learning_rate)\n",
    "scheduler = optim.lr_scheduler.ReduceLROnPlateau(optimizer=optimizer,\n",
    "                                                 mode='min', factor=0.5,\n",
    "                                                 patience=1)\n",
    "\n",
    "train_state = make_train_state(args)\n",
    "\n",
    "epoch_bar = tqdm(desc='training routine', \n",
    "                          total=args.num_epochs,\n",
    "                          position=0)\n",
    "\n",
    "dataset.set_split('train')\n",
    "train_bar = tqdm(desc='split=train',\n",
    "                          total=dataset.get_num_batches(args.batch_size), \n",
    "                          position=1, \n",
    "                          leave=True)\n",
    "dataset.set_split('val')\n",
    "val_bar = tqdm(desc='split=val',\n",
    "                        total=dataset.get_num_batches(args.batch_size), \n",
    "                        position=1, \n",
    "                        leave=True)\n",
    "\n",
    "try:\n",
    "    for epoch_index in range(args.num_epochs):\n",
    "        train_state['epoch_index'] = epoch_index\n",
    "\n",
    "        # Iterate over training dataset\n",
    "\n",
    "        # setup: batch generator, set loss and acc to 0, set train mode on\n",
    "        dataset.set_split('train')\n",
    "        batch_generator = generate_batches(dataset, \n",
    "                                           batch_size=args.batch_size, \n",
    "                                           device=args.device)\n",
    "        running_loss = 0.0\n",
    "        running_acc = 0.0\n",
    "        classifier.train()\n",
    "\n",
    "        for batch_index, batch_dict in enumerate(batch_generator):\n",
    "            # the training routine is these 5 steps:\n",
    "\n",
    "            # --------------------------------------\n",
    "            # step 1. zero the gradients\n",
    "            optimizer.zero_grad()\n",
    "\n",
    "            # step 2. compute the output\n",
    "            y_pred = classifier(x_in=batch_dict['x_data'].float())\n",
    "\n",
    "            # step 3. compute the loss\n",
    "            loss = loss_func(y_pred, batch_dict['y_target'].float())\n",
    "            loss_t = loss.item()\n",
    "            running_loss += (loss_t - running_loss) / (batch_index + 1)\n",
    "\n",
    "            # step 4. use loss to produce gradients\n",
    "            loss.backward()\n",
    "\n",
    "            # step 5. use optimizer to take gradient step\n",
    "            optimizer.step()\n",
    "            # -----------------------------------------\n",
    "            # compute the accuracy\n",
    "            acc_t = compute_accuracy(y_pred, batch_dict['y_target'])\n",
    "            running_acc += (acc_t - running_acc) / (batch_index + 1)\n",
    "\n",
    "            # update bar\n",
    "            train_bar.set_postfix(loss=running_loss, \n",
    "                                  acc=running_acc, \n",
    "                                  epoch=epoch_index)\n",
    "            train_bar.update()\n",
    "\n",
    "        train_state['train_loss'].append(running_loss)\n",
    "        train_state['train_acc'].append(running_acc)\n",
    "\n",
    "        # Iterate over val dataset\n",
    "\n",
    "        # setup: batch generator, set loss and acc to 0; set eval mode on\n",
    "        dataset.set_split('val')\n",
    "        batch_generator = generate_batches(dataset, \n",
    "                                           batch_size=args.batch_size, \n",
    "                                           device=args.device)\n",
    "        running_loss = 0.\n",
    "        running_acc = 0.\n",
    "        classifier.eval()\n",
    "\n",
    "        for batch_index, batch_dict in enumerate(batch_generator):\n",
    "\n",
    "            # compute the output\n",
    "            y_pred = classifier(x_in=batch_dict['x_data'].float())\n",
    "\n",
    "            # step 3. compute the loss\n",
    "            loss = loss_func(y_pred, batch_dict['y_target'].float())\n",
    "            loss_t = loss.item()\n",
    "            running_loss += (loss_t - running_loss) / (batch_index + 1)\n",
    "\n",
    "            # compute the accuracy\n",
    "            acc_t = compute_accuracy(y_pred, batch_dict['y_target'])\n",
    "            running_acc += (acc_t - running_acc) / (batch_index + 1)\n",
    "            \n",
    "            val_bar.set_postfix(loss=running_loss, \n",
    "                                acc=running_acc, \n",
    "                                epoch=epoch_index)\n",
    "            val_bar.update()\n",
    "\n",
    "        train_state['val_loss'].append(running_loss)\n",
    "        train_state['val_acc'].append(running_acc)\n",
    "\n",
    "        train_state = update_train_state(args=args, model=classifier,\n",
    "                                         train_state=train_state)\n",
    "\n",
    "        scheduler.step(train_state['val_loss'][-1])\n",
    "\n",
    "        train_bar.n = 0\n",
    "        val_bar.n = 0\n",
    "        epoch_bar.update()\n",
    "\n",
    "        if train_state['stop_early']:\n",
    "            break\n",
    "\n",
    "        train_bar.n = 0\n",
    "        val_bar.n = 0\n",
    "        epoch_bar.update()\n",
    "except KeyboardInterrupt:\n",
    "    print(\"Exiting loop\")"
   ]
  },
  {
   "cell_type": "code",
   "execution_count": 82,
   "metadata": {},
   "outputs": [],
   "source": [
    "# compute the loss & accuracy on the test set using the best available model\n",
    "\n",
    "classifier.load_state_dict(torch.load(train_state['model_filename']))\n",
    "classifier = classifier.to(args.device)\n",
    "\n",
    "dataset.set_split('test')\n",
    "batch_generator = generate_batches(dataset, \n",
    "                                   batch_size=args.batch_size, \n",
    "                                   device=args.device)\n",
    "running_loss = 0.\n",
    "running_acc = 0.\n",
    "classifier.eval()\n",
    "\n",
    "for batch_index, batch_dict in enumerate(batch_generator):\n",
    "    # compute the output\n",
    "    y_pred = classifier(x_in=batch_dict['x_data'].float())\n",
    "\n",
    "    # compute the loss\n",
    "    loss = loss_func(y_pred, batch_dict['y_target'].float())\n",
    "    loss_t = loss.item()\n",
    "    running_loss += (loss_t - running_loss) / (batch_index + 1)\n",
    "\n",
    "    # compute the accuracy\n",
    "    acc_t = compute_accuracy(y_pred, batch_dict['y_target'])\n",
    "    running_acc += (acc_t - running_acc) / (batch_index + 1)\n",
    "\n",
    "train_state['test_loss'] = running_loss\n",
    "train_state['test_acc'] = running_acc"
   ]
  },
  {
   "cell_type": "code",
   "execution_count": 83,
   "metadata": {},
   "outputs": [
    {
     "name": "stdout",
     "output_type": "stream",
     "text": [
      "Test loss: 0.685\n",
      "Test Accuracy: 55.18\n"
     ]
    }
   ],
   "source": [
    "print(\"Test loss: {:.3f}\".format(train_state['test_loss']))\n",
    "print(\"Test Accuracy: {:.2f}\".format(train_state['test_acc']))"
   ]
  },
  {
   "cell_type": "code",
   "execution_count": 84,
   "metadata": {},
   "outputs": [],
   "source": [
    "def predict_rating(review, classifier, vectorizer, decision_threshold=0.8):\n",
    "    \"\"\"Predict the rating of a review\n",
    "    \n",
    "    Args:\n",
    "        review (str): the text of the review\n",
    "        classifier (ReviewClassifier): the trained model\n",
    "        vectorizer (ReviewVectorizer): the corresponding vectorizer\n",
    "        decision_threshold (float): The numerical boundary which separates the rating classes\n",
    "    \"\"\"\n",
    "    review = preprocess_text(review)\n",
    "    \n",
    "    vectorized_review = torch.tensor(vectorizer.vectorize(review))\n",
    "    result = classifier(vectorized_review.view(1, -1))\n",
    "    \n",
    "    probability_value = F.sigmoid(result).item()\n",
    "    index = 1\n",
    "    if probability_value < decision_threshold:\n",
    "        index = 0\n",
    "\n",
    "    return vectorizer.rating_vocab.lookup_index(index)"
   ]
  },
  {
   "cell_type": "code",
   "execution_count": 85,
   "metadata": {},
   "outputs": [
    {
     "name": "stdout",
     "output_type": "stream",
     "text": [
      "los indicadores de desempleo no son nada alentadores para la economia -> negative\n"
     ]
    }
   ],
   "source": [
    "test_review = \"los indicadores de desempleo no son nada alentadores para la economia\"\n",
    "\n",
    "classifier = classifier.cpu()\n",
    "prediction = predict_rating(test_review, classifier, vectorizer, decision_threshold=0.5)\n",
    "print(\"{} -> {}\".format(test_review, prediction))"
   ]
  },
  {
   "cell_type": "code",
   "execution_count": 86,
   "metadata": {},
   "outputs": [
    {
     "data": {
      "text/plain": [
       "torch.Size([1, 103])"
      ]
     },
     "execution_count": 86,
     "metadata": {},
     "output_type": "execute_result"
    }
   ],
   "source": [
    "classifier.fc1.weight.shape"
   ]
  },
  {
   "cell_type": "code",
   "execution_count": 87,
   "metadata": {},
   "outputs": [
    {
     "name": "stdout",
     "output_type": "stream",
     "text": [
      "Influential words in Positive Reviews:\n",
      "--------------------------------------\n",
      "pesos\n",
      "marzo\n",
      "abril\n",
      "pasado\n",
      "laboral\n",
      "primer\n",
      "alza\n",
      "gobierno\n",
      "unidos\n",
      "trimestre\n",
      "menor\n",
      "ano\n",
      "mexico\n",
      "datos\n",
      "monetaria\n",
      "anual\n",
      "deuda\n",
      "reserva\n",
      "mes\n",
      "ingresos\n",
      "====\n",
      "\n",
      "\n",
      "\n",
      "Influential words in Negative Reviews:\n",
      "--------------------------------------\n",
      "petroleo\n",
      "desempleo\n",
      "covid\n",
      "productos\n",
      "precios\n",
      "economica\n",
      "produccion\n",
      "incremento\n",
      "pandemia\n",
      "ciento.\n",
      "periodo\n",
      "estan\n",
      "mientras\n",
      "empresas\n",
      "ciento\n",
      "economia\n",
      "dos\n",
      "politica\n",
      "mismo\n",
      "federal\n"
     ]
    }
   ],
   "source": [
    "# Sort weights\n",
    "fc1_weights = classifier.fc1.weight.detach()[0]\n",
    "_, indices = torch.sort(fc1_weights, dim=0, descending=True)\n",
    "indices = indices.numpy().tolist()\n",
    "\n",
    "# Top 20 words\n",
    "print(\"Influential words in Positive Reviews:\")\n",
    "print(\"--------------------------------------\")\n",
    "for i in range(20):\n",
    "    print(vectorizer.review_vocab.lookup_index(indices[i]))\n",
    "    \n",
    "print(\"====\\n\\n\\n\")\n",
    "\n",
    "# Top 20 negative words\n",
    "print(\"Influential words in Negative Reviews:\")\n",
    "print(\"--------------------------------------\")\n",
    "indices.reverse()\n",
    "for i in range(20):\n",
    "    print(vectorizer.review_vocab.lookup_index(indices[i]))"
   ]
  },
  {
   "cell_type": "markdown",
   "metadata": {},
   "source": [
    "## MLP with Delip Rao"
   ]
  },
  {
   "cell_type": "code",
   "execution_count": 88,
   "metadata": {},
   "outputs": [],
   "source": [
    "class Vocabulary(object):\n",
    "    \"\"\"Class to process text and extract vocabulary for mapping\"\"\"\n",
    "\n",
    "    def __init__(self, token_to_idx=None, add_unk=True, unk_token=\"<UNK>\"):\n",
    "        \"\"\"\n",
    "        Args:\n",
    "            token_to_idx (dict): a pre-existing map of tokens to indices\n",
    "            add_unk (bool): a flag that indicates whether to add the UNK token\n",
    "            unk_token (str): the UNK token to add into the Vocabulary\n",
    "        \"\"\"\n",
    "\n",
    "        if token_to_idx is None:\n",
    "            token_to_idx = {}\n",
    "        self._token_to_idx = token_to_idx\n",
    "\n",
    "        self._idx_to_token = {idx: token \n",
    "                              for token, idx in self._token_to_idx.items()}\n",
    "        \n",
    "        self._add_unk = add_unk\n",
    "        self._unk_token = unk_token\n",
    "        \n",
    "        self.unk_index = -1\n",
    "        if add_unk:\n",
    "            self.unk_index = self.add_token(unk_token) \n",
    "        \n",
    "        \n",
    "    def to_serializable(self):\n",
    "        \"\"\" returns a dictionary that can be serialized \"\"\"\n",
    "        return {'token_to_idx': self._token_to_idx, \n",
    "                'add_unk': self._add_unk, \n",
    "                'unk_token': self._unk_token}\n",
    "\n",
    "    @classmethod\n",
    "    def from_serializable(cls, contents):\n",
    "        \"\"\" instantiates the Vocabulary from a serialized dictionary \"\"\"\n",
    "        return cls(**contents)\n",
    "\n",
    "    def add_token(self, token):\n",
    "        \"\"\"Update mapping dicts based on the token.\n",
    "\n",
    "        Args:\n",
    "            token (str): the item to add into the Vocabulary\n",
    "        Returns:\n",
    "            index (int): the integer corresponding to the token\n",
    "        \"\"\"\n",
    "        try:\n",
    "            index = self._token_to_idx[token]\n",
    "        except KeyError:\n",
    "            index = len(self._token_to_idx)\n",
    "            self._token_to_idx[token] = index\n",
    "            self._idx_to_token[index] = token\n",
    "        return index\n",
    "    \n",
    "    def add_many(self, tokens):\n",
    "        \"\"\"Add a list of tokens into the Vocabulary\n",
    "        \n",
    "        Args:\n",
    "            tokens (list): a list of string tokens\n",
    "        Returns:\n",
    "            indices (list): a list of indices corresponding to the tokens\n",
    "        \"\"\"\n",
    "        return [self.add_token(token) for token in tokens]\n",
    "\n",
    "    def lookup_token(self, token):\n",
    "        \"\"\"Retrieve the index associated with the token \n",
    "          or the UNK index if token isn't present.\n",
    "        \n",
    "        Args:\n",
    "            token (str): the token to look up \n",
    "        Returns:\n",
    "            index (int): the index corresponding to the token\n",
    "        Notes:\n",
    "            `unk_index` needs to be >=0 (having been added into the Vocabulary) \n",
    "              for the UNK functionality \n",
    "        \"\"\"\n",
    "        if self.unk_index >= 0:\n",
    "            return self._token_to_idx.get(token, self.unk_index)\n",
    "        else:\n",
    "            return self._token_to_idx[token]\n",
    "\n",
    "    def lookup_index(self, index):\n",
    "        \"\"\"Return the token associated with the index\n",
    "        \n",
    "        Args: \n",
    "            index (int): the index to look up\n",
    "        Returns:\n",
    "            token (str): the token corresponding to the index\n",
    "        Raises:\n",
    "            KeyError: if the index is not in the Vocabulary\n",
    "        \"\"\"\n",
    "        if index not in self._idx_to_token:\n",
    "            raise KeyError(\"the index (%d) is not in the Vocabulary\" % index)\n",
    "        return self._idx_to_token[index]\n",
    "\n",
    "    def __str__(self):\n",
    "        return \"<Vocabulary(size=%d)>\" % len(self)\n",
    "\n",
    "    def __len__(self):\n",
    "        return len(self._token_to_idx)"
   ]
  },
  {
   "cell_type": "code",
   "execution_count": 89,
   "metadata": {},
   "outputs": [],
   "source": [
    "class ReviewVectorizer(object):\n",
    "    \"\"\" The Vectorizer which coordinates the Vocabularies and puts them to use\"\"\"\n",
    "    def __init__(self, review_vocab, rating_vocab):\n",
    "        \"\"\"\n",
    "        Args:\n",
    "            review_vocab (Vocabulary): maps characters to integers\n",
    "            rating_vocab (Vocabulary): maps nationalities to integers\n",
    "        \"\"\"\n",
    "        self.review_vocab = review_vocab\n",
    "        self.rating_vocab = rating_vocab\n",
    "\n",
    "    def vectorize(self, review):\n",
    "        \"\"\"\n",
    "        Args:\n",
    "            review (str): the review\n",
    "\n",
    "        Returns:\n",
    "            one_hot (np.ndarray): a collapsed one-hot encoding \n",
    "        \"\"\"\n",
    "        vocab = self.review_vocab\n",
    "        one_hot = np.zeros(len(vocab), dtype=np.float32)\n",
    "        for token in review:\n",
    "            one_hot[vocab.lookup_token(token)] = 1\n",
    "\n",
    "        return one_hot\n",
    "\n",
    "    @classmethod\n",
    "    def from_dataframe(cls, review_df):\n",
    "        \"\"\"Instantiate the vectorizer from the dataset dataframe\n",
    "        \n",
    "        Args:\n",
    "            review_df (pandas.DataFrame): the reviews dataset\n",
    "        Returns:\n",
    "            an instance of the reviewVectorizer\n",
    "        \"\"\"\n",
    "        review_vocab = Vocabulary(unk_token=\"@\")\n",
    "        rating_vocab = Vocabulary(add_unk=False)\n",
    "\n",
    "        for index, row in review_df.iterrows():\n",
    "            for letter in row.review:\n",
    "                review_vocab.add_token(letter)\n",
    "            rating_vocab.add_token(row.rating)\n",
    "\n",
    "        return cls(review_vocab, rating_vocab)\n",
    "\n",
    "    @classmethod\n",
    "    def from_serializable(cls, contents):\n",
    "        review_vocab = Vocabulary.from_serializable(contents['review_vocab'])\n",
    "        rating_vocab =  Vocabulary.from_serializable(contents['rating_vocab'])\n",
    "        return cls(review_vocab=review_vocab, rating_vocab=rating_vocab)\n",
    "\n",
    "    def to_serializable(self):\n",
    "        return {'review_vocab': self.review_vocab.to_serializable(),\n",
    "                'rating_vocab': self.rating_vocab.to_serializable()}\n"
   ]
  },
  {
   "cell_type": "code",
   "execution_count": 90,
   "metadata": {},
   "outputs": [],
   "source": [
    "class ReviewDataset(Dataset):\n",
    "    def __init__(self, review_df, vectorizer):\n",
    "        \"\"\"\n",
    "        Args:\n",
    "            review_df (pandas.DataFrame): the dataset\n",
    "            vectorizer (ReviewVectorizer): vectorizer instatiated from dataset\n",
    "        \"\"\"\n",
    "        self.review_df = review_df\n",
    "        self._vectorizer = vectorizer\n",
    "\n",
    "        self.train_df = self.review_df[self.review_df.split=='train']\n",
    "        self.train_size = len(self.train_df)\n",
    "\n",
    "        self.val_df = self.review_df[self.review_df.split=='val']\n",
    "        self.validation_size = len(self.val_df)\n",
    "\n",
    "        self.test_df = self.review_df[self.review_df.split=='test']\n",
    "        self.test_size = len(self.test_df)\n",
    "\n",
    "        self._lookup_dict = {'train': (self.train_df, self.train_size),\n",
    "                             'val': (self.val_df, self.validation_size),\n",
    "                             'test': (self.test_df, self.test_size)}\n",
    "\n",
    "        self.set_split('train')\n",
    "        \n",
    "        # Class weights\n",
    "        class_counts = review_df.rating.value_counts().to_dict()\n",
    "        def sort_key(item):\n",
    "            return self._vectorizer.rating_vocab.lookup_token(item[0])\n",
    "        sorted_counts = sorted(class_counts.items(), key=sort_key)\n",
    "        frequencies = [count for _, count in sorted_counts]\n",
    "        self.class_weights = 1.0 / torch.tensor(frequencies, dtype=torch.float32)\n",
    "\n",
    "    @classmethod\n",
    "    def load_dataset_and_make_vectorizer(cls, review_csv):\n",
    "        \"\"\"Load dataset and make a new vectorizer from scratch\n",
    "        \n",
    "        Args:\n",
    "            review_csv (str): location of the dataset\n",
    "        Returns:\n",
    "            an instance of ReviewDataset\n",
    "        \"\"\"\n",
    "        review_df = pd.read_pickle(review_csv)\n",
    "        train_review_df = review_df[review_df.split=='train']\n",
    "        return cls(review_df, ReviewVectorizer.from_dataframe(train_review_df))\n",
    "\n",
    "    @classmethod\n",
    "    def load_dataset_and_load_vectorizer(cls, review_csv, vectorizer_filepath):\n",
    "        \"\"\"Load dataset and the corresponding vectorizer. \n",
    "        Used in the case in the vectorizer has been cached for re-use\n",
    "        \n",
    "        Args:\n",
    "            review_csv (str): location of the dataset\n",
    "            vectorizer_filepath (str): location of the saved vectorizer\n",
    "        Returns:\n",
    "            an instance of ReviewDataset\n",
    "        \"\"\"\n",
    "        review_df = pd.read_pickle(review_csv)\n",
    "        vectorizer = cls.load_vectorizer_only(vectorizer_filepath)\n",
    "        return cls(review_df, vectorizer)\n",
    "\n",
    "    @staticmethod\n",
    "    def load_vectorizer_only(vectorizer_filepath):\n",
    "        \"\"\"a static method for loading the vectorizer from file\n",
    "        \n",
    "        Args:\n",
    "            vectorizer_filepath (str): the location of the serialized vectorizer\n",
    "        Returns:\n",
    "            an instance of ReviewVectorizer\n",
    "        \"\"\"\n",
    "        with open(vectorizer_filepath) as fp:\n",
    "            return ReviewVectorizer.from_serializable(json.load(fp))\n",
    "\n",
    "    def save_vectorizer(self, vectorizer_filepath):\n",
    "        \"\"\"saves the vectorizer to disk using json\n",
    "        \n",
    "        Args:\n",
    "            vectorizer_filepath (str): the location to save the vectorizer\n",
    "        \"\"\"\n",
    "        with open(vectorizer_filepath, \"w\") as fp:\n",
    "            json.dump(self._vectorizer.to_serializable(), fp)\n",
    "\n",
    "    def get_vectorizer(self):\n",
    "        \"\"\" returns the vectorizer \"\"\"\n",
    "        return self._vectorizer\n",
    "\n",
    "    def set_split(self, split=\"train\"):\n",
    "        \"\"\" selects the splits in the dataset using a column in the dataframe \"\"\"\n",
    "        self._target_split = split\n",
    "        self._target_df, self._target_size = self._lookup_dict[split]\n",
    "\n",
    "    def __len__(self):\n",
    "        return self._target_size\n",
    "\n",
    "    def __getitem__(self, index):\n",
    "        \"\"\"the primary entry point method for PyTorch datasets\n",
    "        \n",
    "        Args:\n",
    "            index (int): the index to the data point \n",
    "        Returns:\n",
    "            a dictionary holding the data point's:\n",
    "                features (x_review)\n",
    "                label (y_rating)\n",
    "        \"\"\"\n",
    "        row = self._target_df.iloc[index]\n",
    "\n",
    "        review_vector = \\\n",
    "            self._vectorizer.vectorize(row.review)\n",
    "\n",
    "        rating_index = \\\n",
    "            self._vectorizer.rating_vocab.lookup_token(row.rating)\n",
    "\n",
    "        return {'x_review': review_vector,\n",
    "                'y_rating': rating_index}\n",
    "\n",
    "    def get_num_batches(self, batch_size):\n",
    "        \"\"\"Given a batch size, return the number of batches in the dataset\n",
    "        \n",
    "        Args:\n",
    "            batch_size (int)\n",
    "        Returns:\n",
    "            number of batches in the dataset\n",
    "        \"\"\"\n",
    "        return len(self) // batch_size\n",
    "\n",
    "    \n",
    "def generate_batches(dataset, batch_size, shuffle=True,\n",
    "                     drop_last=True, device=\"mps\"): \n",
    "    \"\"\"\n",
    "    A generator function which wraps the PyTorch DataLoader. It will \n",
    "      ensure each tensor is on the write device location.\n",
    "    \"\"\"\n",
    "    dataloader = DataLoader(dataset=dataset, batch_size=batch_size,\n",
    "                            shuffle=shuffle, drop_last=drop_last)\n",
    "\n",
    "    for data_dict in dataloader:\n",
    "        out_data_dict = {}\n",
    "        for name, tensor in data_dict.items():\n",
    "            out_data_dict[name] = data_dict[name].to(device)\n",
    "        yield out_data_dict"
   ]
  },
  {
   "cell_type": "markdown",
   "metadata": {},
   "source": [
    "## MLP model"
   ]
  },
  {
   "cell_type": "code",
   "execution_count": 205,
   "metadata": {},
   "outputs": [],
   "source": [
    "class ReviewClassifier(nn.Module):\n",
    "    \"\"\" A 2-layer Multilayer Perceptron for classifying reviewes \"\"\"\n",
    "    def __init__(self, input_dim, hidden_dim, output_dim):\n",
    "        \"\"\"\n",
    "        Args:\n",
    "            input_dim (int): the size of the input vectors\n",
    "            hidden_dim (int): the output size of the first Linear layer\n",
    "            output_dim (int): the output size of the second Linear layer\n",
    "        \"\"\"\n",
    "        super(ReviewClassifier, self).__init__()\n",
    "        self.fc1 = nn.Linear(input_dim, hidden_dim)\n",
    "        self.relu_1 = nn.ReLU()\n",
    "        self.fc2 = nn.Linear(hidden_dim, hidden_dim)\n",
    "        self.relu_2 = nn.ReLU()\n",
    "        self.fc3 = nn.Linear(hidden_dim, output_dim)\n",
    "\n",
    "    def forward(self, x_in, apply_softmax=False):\n",
    "        \"\"\"The forward pass of the classifier\n",
    "        \n",
    "        Args:\n",
    "            x_in (torch.Tensor): an input data tensor. \n",
    "                x_in.shape should be (batch, input_dim)\n",
    "            apply_softmax (bool): a flag for the softmax activation\n",
    "                should be false if used with the Cross Entropy losses\n",
    "        Returns:\n",
    "            the resulting tensor. tensor.shape should be (batch, output_dim)\n",
    "        \"\"\"\n",
    "        #intermediate_vector = self.relu_2(self.fc2(self.relu_1(self.fc1(x_in))))\n",
    "        prediction_vector = F.dropout(self.fc3(\n",
    "            self.relu_2(\n",
    "                F.dropout(self.fc2(\n",
    "                    F.dropout(\n",
    "                        self.relu_1(\n",
    "                            self.fc1(x_in)), \n",
    "                            p=0.5)), \n",
    "                            p=0.5))), \n",
    "                            p=0.5)\n",
    "\n",
    "        if apply_softmax:\n",
    "            prediction_vector = F.softmax(prediction_vector, dim=1)\n",
    "\n",
    "        return prediction_vector"
   ]
  },
  {
   "cell_type": "markdown",
   "metadata": {},
   "source": [
    "## Training\n"
   ]
  },
  {
   "cell_type": "code",
   "execution_count": 206,
   "metadata": {},
   "outputs": [],
   "source": [
    "def make_train_state(args):\n",
    "    return {'stop_early': False,\n",
    "            'early_stopping_step': 0,\n",
    "            'early_stopping_best_val': 1e8,\n",
    "            'learning_rate': args.learning_rate,\n",
    "            'epoch_index': 0,\n",
    "            'train_loss': [],\n",
    "            'train_acc': [],\n",
    "            'val_loss': [],\n",
    "            'val_acc': [],\n",
    "            'test_loss': -1,\n",
    "            'test_acc': -1,\n",
    "            'model_filename': args.model_state_file}\n",
    "\n",
    "def update_train_state(args, model, train_state):\n",
    "    \"\"\"Handle the training state updates.\n",
    "\n",
    "    Components:\n",
    "     - Early Stopping: Prevent overfitting.\n",
    "     - Model Checkpoint: Model is saved if the model is better\n",
    "\n",
    "    :param args: main arguments\n",
    "    :param model: model to train\n",
    "    :param train_state: a dictionary representing the training state values\n",
    "    :returns:\n",
    "        a new train_state\n",
    "    \"\"\"\n",
    "\n",
    "    # Save one model at least\n",
    "    if train_state['epoch_index'] == 0:\n",
    "        torch.save(model.state_dict(), train_state['model_filename'])\n",
    "        train_state['stop_early'] = False\n",
    "\n",
    "    # Save model if performance improved\n",
    "    elif train_state['epoch_index'] >= 1:\n",
    "        loss_tm1, loss_t = train_state['val_loss'][-2:]\n",
    "\n",
    "        # If loss worsened\n",
    "        if loss_t >= train_state['early_stopping_best_val']:\n",
    "            # Update step\n",
    "            train_state['early_stopping_step'] += 1\n",
    "        # Loss decreased\n",
    "        else:\n",
    "            # Save the best model\n",
    "            if loss_t < train_state['early_stopping_best_val']:\n",
    "                torch.save(model.state_dict(), train_state['model_filename'])\n",
    "\n",
    "            # Reset early stopping step\n",
    "            train_state['early_stopping_step'] = 0\n",
    "\n",
    "        # Stop early ?\n",
    "        train_state['stop_early'] = \\\n",
    "            train_state['early_stopping_step'] >= args.early_stopping_criteria\n",
    "\n",
    "    return train_state\n",
    "\n",
    "def compute_accuracy(y_pred, y_target):\n",
    "    _, y_pred_indices = y_pred.max(dim=1)\n",
    "    n_correct = torch.eq(y_pred_indices, y_target).sum().item()\n",
    "    return n_correct / len(y_pred_indices) * 100"
   ]
  },
  {
   "cell_type": "code",
   "execution_count": 207,
   "metadata": {},
   "outputs": [],
   "source": [
    "def set_seed_everywhere(seed, cuda):\n",
    "    np.random.seed(seed)\n",
    "    torch.manual_seed(seed)\n",
    "    if cuda:\n",
    "        torch.cuda.manual_seed_all(seed)\n",
    "\n",
    "def handle_dirs(dirpath):\n",
    "    if not os.path.exists(dirpath):\n",
    "        os.makedirs(dirpath)"
   ]
  },
  {
   "cell_type": "code",
   "execution_count": 208,
   "metadata": {},
   "outputs": [
    {
     "name": "stdout",
     "output_type": "stream",
     "text": [
      "Expanded filepaths: \n",
      "\tresults/vectorizer.json\n",
      "\tresults/model.pth\n",
      "Using CUDA: True\n"
     ]
    }
   ],
   "source": [
    "args = Namespace(\n",
    "    # Data and path information\n",
    "    review_csv='results/reviews_with_splits_lite.pkl',\n",
    "    vectorizer_file=\"vectorizer.json\",\n",
    "    model_state_file=\"model.pth\",\n",
    "    save_dir=\"results\",\n",
    "    # Model hyper parameters\n",
    "    hidden_dim=256,\n",
    "    # Training  hyper parameters\n",
    "    seed=1337,\n",
    "    num_epochs=120,\n",
    "    early_stopping_criteria=5,\n",
    "    learning_rate=0.00001,\n",
    "    batch_size=28,\n",
    "    # Runtime options\n",
    "    cuda=False,\n",
    "    reload_from_files=False,\n",
    "    expand_filepaths_to_save_dir=True,\n",
    ")\n",
    "\n",
    "if args.expand_filepaths_to_save_dir:\n",
    "    args.vectorizer_file = os.path.join(args.save_dir,\n",
    "                                        args.vectorizer_file)\n",
    "\n",
    "    args.model_state_file = os.path.join(args.save_dir,\n",
    "                                         args.model_state_file)\n",
    "    \n",
    "    print(\"Expanded filepaths: \")\n",
    "    print(\"\\t{}\".format(args.vectorizer_file))\n",
    "    print(\"\\t{}\".format(args.model_state_file))\n",
    "    \n",
    "# Check CUDA\n",
    "if not torch.cuda.is_available():\n",
    "    args.cuda = True\n",
    "\n",
    "args.device = torch.device(\"mps\" if args.cuda else \"cpu\")\n",
    "    \n",
    "print(\"Using CUDA: {}\".format(args.cuda))\n",
    "\n",
    "\n",
    "# Set seed for reproducibility\n",
    "set_seed_everywhere(args.seed, args.cuda)\n",
    "\n",
    "# handle dirs\n",
    "handle_dirs(args.save_dir)"
   ]
  },
  {
   "cell_type": "code",
   "execution_count": 209,
   "metadata": {},
   "outputs": [
    {
     "name": "stdout",
     "output_type": "stream",
     "text": [
      "Creating fresh!\n"
     ]
    }
   ],
   "source": [
    "if args.reload_from_files:\n",
    "    # training from a checkpoint\n",
    "    print(\"Reloading!\")\n",
    "    ReviewDataset.load_dataset_and_load_vectorizer(args.review_csv,\n",
    "                                                              args.vectorizer_file)\n",
    "else:\n",
    "    # create dataset and vectorizer\n",
    "    print(\"Creating fresh!\")\n",
    "    dataset = ReviewDataset.load_dataset_and_make_vectorizer(args.review_csv)\n",
    "    dataset.save_vectorizer(args.vectorizer_file)\n",
    "    \n",
    "vectorizer = dataset.get_vectorizer()\n",
    "classifier = ReviewClassifier(input_dim=len(vectorizer.review_vocab), \n",
    "                               hidden_dim=args.hidden_dim, \n",
    "                               output_dim=len(vectorizer.rating_vocab))"
   ]
  },
  {
   "cell_type": "markdown",
   "metadata": {},
   "source": [
    "## Training loop"
   ]
  },
  {
   "cell_type": "code",
   "execution_count": 210,
   "metadata": {},
   "outputs": [
    {
     "name": "stderr",
     "output_type": "stream",
     "text": [
      "/var/folders/f7/cfmwg9550852tgnwq3tw36vr0000gn/T/ipykernel_4642/1479966538.py:13: TqdmDeprecationWarning: This function will be removed in tqdm==5.0.0\n",
      "Please use `tqdm.notebook.tqdm` instead of `tqdm.tqdm_notebook`\n",
      "  epoch_bar = tqdm_notebook(desc='training routine',\n"
     ]
    },
    {
     "data": {
      "application/vnd.jupyter.widget-view+json": {
       "model_id": "b236448f3236449fac94dd1e54b3b1fd",
       "version_major": 2,
       "version_minor": 0
      },
      "text/plain": [
       "training routine:   0%|          | 0/120 [00:00<?, ?it/s]"
      ]
     },
     "metadata": {},
     "output_type": "display_data"
    },
    {
     "name": "stderr",
     "output_type": "stream",
     "text": [
      "/var/folders/f7/cfmwg9550852tgnwq3tw36vr0000gn/T/ipykernel_4642/1479966538.py:18: TqdmDeprecationWarning: This function will be removed in tqdm==5.0.0\n",
      "Please use `tqdm.notebook.tqdm` instead of `tqdm.tqdm_notebook`\n",
      "  train_bar = tqdm_notebook(desc='split=train',\n"
     ]
    },
    {
     "data": {
      "application/vnd.jupyter.widget-view+json": {
       "model_id": "48998f4308df4707acde8f5dbfe7416b",
       "version_major": 2,
       "version_minor": 0
      },
      "text/plain": [
       "split=train:   0%|          | 0/218 [00:00<?, ?it/s]"
      ]
     },
     "metadata": {},
     "output_type": "display_data"
    },
    {
     "name": "stderr",
     "output_type": "stream",
     "text": [
      "/var/folders/f7/cfmwg9550852tgnwq3tw36vr0000gn/T/ipykernel_4642/1479966538.py:23: TqdmDeprecationWarning: This function will be removed in tqdm==5.0.0\n",
      "Please use `tqdm.notebook.tqdm` instead of `tqdm.tqdm_notebook`\n",
      "  val_bar = tqdm_notebook(desc='split=val',\n"
     ]
    },
    {
     "data": {
      "application/vnd.jupyter.widget-view+json": {
       "model_id": "d7b9741fff6a4cec987ef487165513ae",
       "version_major": 2,
       "version_minor": 0
      },
      "text/plain": [
       "split=val:   0%|          | 0/62 [00:00<?, ?it/s]"
      ]
     },
     "metadata": {},
     "output_type": "display_data"
    }
   ],
   "source": [
    "classifier = classifier.to(args.device)\n",
    "dataset.class_weights = dataset.class_weights.to(args.device)\n",
    "\n",
    "    \n",
    "loss_func = nn.CrossEntropyLoss(dataset.class_weights)\n",
    "optimizer = optim.Adam(classifier.parameters(), lr=args.learning_rate)\n",
    "scheduler = optim.lr_scheduler.ReduceLROnPlateau(optimizer=optimizer,\n",
    "                                                 mode='min', factor=0.5,\n",
    "                                                 patience=1)\n",
    "\n",
    "train_state = make_train_state(args)\n",
    "\n",
    "epoch_bar = tqdm_notebook(desc='training routine', \n",
    "                          total=args.num_epochs,\n",
    "                          position=0)\n",
    "\n",
    "dataset.set_split('train')\n",
    "train_bar = tqdm_notebook(desc='split=train',\n",
    "                          total=dataset.get_num_batches(args.batch_size), \n",
    "                          position=1, \n",
    "                          leave=True)\n",
    "dataset.set_split('val')\n",
    "val_bar = tqdm_notebook(desc='split=val',\n",
    "                        total=dataset.get_num_batches(args.batch_size), \n",
    "                        position=1, \n",
    "                        leave=True)\n",
    "\n",
    "try:\n",
    "    for epoch_index in range(args.num_epochs):\n",
    "        train_state['epoch_index'] = epoch_index\n",
    "\n",
    "        # Iterate over training dataset\n",
    "\n",
    "        # setup: batch generator, set loss and acc to 0, set train mode on\n",
    "\n",
    "        dataset.set_split('train')\n",
    "        batch_generator = generate_batches(dataset, \n",
    "                                           batch_size=args.batch_size, \n",
    "                                           device=args.device)\n",
    "        running_loss = 0.0\n",
    "        running_acc = 0.0\n",
    "        classifier.train()\n",
    "\n",
    "        for batch_index, batch_dict in enumerate(batch_generator):\n",
    "            # the training routine is these 5 steps:\n",
    "\n",
    "            # --------------------------------------\n",
    "            # step 1. zero the gradients\n",
    "            optimizer.zero_grad()\n",
    "\n",
    "            # step 2. compute the output\n",
    "            y_pred = classifier(batch_dict['x_review'])\n",
    "\n",
    "            # step 3. compute the loss\n",
    "            loss = loss_func(y_pred, batch_dict['y_rating'])\n",
    "            loss_t = loss.item()\n",
    "            running_loss += (loss_t - running_loss) / (batch_index + 1)\n",
    "\n",
    "            # step 4. use loss to produce gradients\n",
    "            loss.backward()\n",
    "\n",
    "            # step 5. use optimizer to take gradient step\n",
    "            optimizer.step()\n",
    "            # -----------------------------------------\n",
    "            # compute the accuracy\n",
    "            acc_t = compute_accuracy(y_pred, batch_dict['y_rating'])\n",
    "            running_acc += (acc_t - running_acc) / (batch_index + 1)\n",
    "\n",
    "            # update bar\n",
    "            train_bar.set_postfix(loss=running_loss, acc=running_acc, \n",
    "                            epoch=epoch_index)\n",
    "            train_bar.update()\n",
    "\n",
    "        train_state['train_loss'].append(running_loss)\n",
    "        train_state['train_acc'].append(running_acc)\n",
    "\n",
    "        # Iterate over val dataset\n",
    "\n",
    "        # setup: batch generator, set loss and acc to 0; set eval mode on\n",
    "        dataset.set_split('val')\n",
    "        batch_generator = generate_batches(dataset, \n",
    "                                           batch_size=args.batch_size, \n",
    "                                           device=args.device)\n",
    "        running_loss = 0.\n",
    "        running_acc = 0.\n",
    "        classifier.eval()\n",
    "\n",
    "        for batch_index, batch_dict in enumerate(batch_generator):\n",
    "\n",
    "            # compute the output\n",
    "            y_pred =  classifier(batch_dict['x_review'])\n",
    "\n",
    "            # step 3. compute the loss\n",
    "            loss = loss_func(y_pred, batch_dict['y_rating'])\n",
    "            loss_t = loss.to(\"cpu\").item()\n",
    "            running_loss += (loss_t - running_loss) / (batch_index + 1)\n",
    "\n",
    "            # compute the accuracy\n",
    "            acc_t = compute_accuracy(y_pred, batch_dict['y_rating'])\n",
    "            running_acc += (acc_t - running_acc) / (batch_index + 1)\n",
    "            val_bar.set_postfix(loss=running_loss, acc=running_acc, \n",
    "                            epoch=epoch_index)\n",
    "            val_bar.update()\n",
    "\n",
    "        train_state['val_loss'].append(running_loss)\n",
    "        train_state['val_acc'].append(running_acc)\n",
    "\n",
    "        train_state = update_train_state(args=args, model=classifier,\n",
    "                                         train_state=train_state)\n",
    "\n",
    "        scheduler.step(train_state['val_loss'][-1])\n",
    "\n",
    "        if train_state['stop_early']:\n",
    "            break\n",
    "\n",
    "        train_bar.n = 0\n",
    "        val_bar.n = 0\n",
    "        epoch_bar.update()\n",
    "except KeyboardInterrupt:\n",
    "    print(\"Exiting loop\")"
   ]
  },
  {
   "cell_type": "code",
   "execution_count": 211,
   "metadata": {},
   "outputs": [
    {
     "name": "stdout",
     "output_type": "stream",
     "text": [
      "Test loss: 0.6935271466931988;\n",
      "Test Accuracy: 53.57142857142858\n"
     ]
    }
   ],
   "source": [
    "# compute the loss & accuracy on the test set using the best available model\n",
    "\n",
    "classifier.load_state_dict(torch.load(train_state['model_filename']))\n",
    "\n",
    "classifier = classifier.to(args.device)\n",
    "dataset.class_weights = dataset.class_weights.to(args.device)\n",
    "loss_func = nn.CrossEntropyLoss(dataset.class_weights)\n",
    "\n",
    "dataset.set_split('test')\n",
    "batch_generator = generate_batches(dataset, \n",
    "                                   batch_size=args.batch_size, \n",
    "                                   device=args.device)\n",
    "running_loss = 0.\n",
    "running_acc = 0.\n",
    "classifier.eval()\n",
    "\n",
    "for batch_index, batch_dict in enumerate(batch_generator):\n",
    "    # compute the output\n",
    "    y_pred =  classifier(batch_dict['x_review'])\n",
    "    \n",
    "    # compute the loss\n",
    "    loss = loss_func(y_pred, batch_dict['y_rating'])\n",
    "    loss_t = loss.item()\n",
    "    running_loss += (loss_t - running_loss) / (batch_index + 1)\n",
    "\n",
    "    # compute the accuracy\n",
    "    acc_t = compute_accuracy(y_pred, batch_dict['y_rating'])\n",
    "    running_acc += (acc_t - running_acc) / (batch_index + 1)\n",
    "\n",
    "train_state['test_loss'] = running_loss\n",
    "train_state['test_acc'] = running_acc\n",
    "\n",
    "\n",
    "print(\"Test loss: {};\".format(train_state['test_loss']))\n",
    "print(\"Test Accuracy: {}\".format(train_state['test_acc']))"
   ]
  },
  {
   "cell_type": "code",
   "execution_count": 212,
   "metadata": {},
   "outputs": [
    {
     "data": {
      "image/png": "[encoded data removed]",
      "text/plain": [
       "<Figure size 640x480 with 1 Axes>"
      ]
     },
     "metadata": {},
     "output_type": "display_data"
    }
   ],
   "source": [
    "import matplotlib.pyplot as plt\n",
    "plt.plot(train_state['train_loss'])\n",
    "plt.plot(train_state['val_loss'])\n",
    "plt.plot(train_state['test_loss']);"
   ]
  },
  {
   "cell_type": "markdown",
   "metadata": {},
   "source": [
    "## Inference"
   ]
  },
  {
   "cell_type": "code",
   "execution_count": 213,
   "metadata": {},
   "outputs": [],
   "source": [
    "def predict_rating(review, classifier, vectorizer):\n",
    "    \"\"\"Predict the rating from a new review\n",
    "    \n",
    "    Args:\n",
    "        review (str): the review to classifier\n",
    "        classifier (SurnameClassifer): an instance of the classifier\n",
    "        vectorizer (SurnameVectorizer): the corresponding vectorizer\n",
    "    Returns:\n",
    "        a dictionary with the most likely rating and its probability\n",
    "    \"\"\"\n",
    "    vectorized_review = vectorizer.vectorize(review)\n",
    "    vectorized_review = torch.tensor(vectorized_review).view(1, -1)\n",
    "    result = classifier(vectorized_review, apply_softmax=True)\n",
    "\n",
    "    probability_values, indices = result.max(dim=1)\n",
    "    index = indices.item()\n",
    "\n",
    "    predicted_rating = vectorizer.rating_vocab.lookup_index(index)\n",
    "    probability_value = probability_values.item()\n",
    "\n",
    "    return {'rating': predicted_rating, 'probability': probability_value}"
   ]
  },
  {
   "cell_type": "code",
   "execution_count": 214,
   "metadata": {},
   "outputs": [
    {
     "name": "stdout",
     "output_type": "stream",
     "text": [
      "el aumento de precios tiene un impacto negativo en el crecimiento -> negative (p=0.50)\n"
     ]
    }
   ],
   "source": [
    "new_review = 'el aumento de precios tiene un impacto negativo en el crecimiento'\n",
    "classifier = classifier.cpu()\n",
    "prediction = predict_rating(new_review, classifier, vectorizer)\n",
    "print(\"{} -> {} (p={:0.2f})\".format(new_review,\n",
    "                                    prediction['rating'],\n",
    "                                    prediction['probability']))"
   ]
  },
  {
   "cell_type": "code",
   "execution_count": 217,
   "metadata": {},
   "outputs": [
    {
     "name": "stdout",
     "output_type": "stream",
     "text": [
      "Top 2 predictions:\n",
      "===================\n",
      "economia -> negative (p=0.53)\n",
      "economia -> positive (p=0.47)\n"
     ]
    }
   ],
   "source": [
    "def predict_topk_rating(name, classifier, vectorizer, k=5):\n",
    "    vectorized_name = vectorizer.vectorize(name)\n",
    "    vectorized_name = torch.tensor(vectorized_name).view(1, -1)\n",
    "    prediction_vector = classifier(vectorized_name, apply_softmax=True)\n",
    "    probability_values, indices = torch.topk(prediction_vector, k=k)\n",
    "    \n",
    "    # returned size is 1,k\n",
    "    probability_values = probability_values.detach().numpy()[0]\n",
    "    indices = indices.detach().numpy()[0]\n",
    "    \n",
    "    results = []\n",
    "    for prob_value, index in zip(probability_values, indices):\n",
    "        rating = vectorizer.rating_vocab.lookup_index(index)\n",
    "        results.append({'rating': rating, \n",
    "                        'probability': prob_value})\n",
    "    \n",
    "    return results\n",
    "\n",
    "\n",
    "new_review = input(\"Enter a review to classify: \")\n",
    "classifier = classifier.cpu()\n",
    "\n",
    "k = int(input(\"How many of the top predictions to see? \"))\n",
    "if k > len(vectorizer.rating_vocab):\n",
    "    print(\"Sorry! That's more than the # of ratings we have.. defaulting you to max size :)\")\n",
    "    k = len(vectorizer.rating_vocab)\n",
    "    \n",
    "predictions = predict_topk_rating(new_review, classifier, vectorizer, k=k)\n",
    "\n",
    "print(\"Top {} predictions:\".format(k))\n",
    "print(\"===================\")\n",
    "for prediction in predictions:\n",
    "    print(\"{} -> {} (p={:0.2f})\".format(new_review,\n",
    "                                        prediction['rating'],\n",
    "                                        prediction['probability']))"
   ]
  },
  {
   "cell_type": "markdown",
   "metadata": {},
   "source": [
    "## CNN"
   ]
  },
  {
   "cell_type": "code",
   "execution_count": 218,
   "metadata": {},
   "outputs": [],
   "source": [
    "import os\n",
    "if not os.path.exists('data/surnames'):\n",
    "  os.makedirs('data/surnames')\n",
    "\n",
    "args = Namespace(\n",
    "    raw_dataset_csv=\"data/surnames/surnames.csv\",\n",
    "    train_proportion=0.7,\n",
    "    val_proportion=0.15,\n",
    "    test_proportion=0.15,\n",
    "    output_munged_csv=\"data/surnames/surnames_with_splits.csv\",\n",
    "    seed=1337\n",
    ")"
   ]
  },
  {
   "cell_type": "code",
   "execution_count": 219,
   "metadata": {},
   "outputs": [],
   "source": [
    "#Read data\n",
    "surnames = df\n",
    "surnames = surnames.rename(columns={'review':'surname', 'rating':'nationality'})\n",
    "surnames.to_csv('data/surnames/surnames.csv', index=False)"
   ]
  },
  {
   "cell_type": "code",
   "execution_count": 220,
   "metadata": {},
   "outputs": [],
   "source": [
    "from collections import defaultdict\n",
    "# Splitting train by nationality\n",
    "# Create dict\n",
    "by_nationality = defaultdict(list)\n",
    "for _, row in surnames.iterrows():\n",
    "    by_nationality[row.nationality].append(row.to_dict())"
   ]
  },
  {
   "cell_type": "code",
   "execution_count": 221,
   "metadata": {},
   "outputs": [],
   "source": [
    "# Create split data\n",
    "final_list = []\n",
    "np.random.seed(args.seed)\n",
    "for _, item_list in sorted(by_nationality.items()):\n",
    "    np.random.shuffle(item_list)\n",
    "    n = len(item_list)\n",
    "    n_train = int(args.train_proportion*n)\n",
    "    n_val = int(args.val_proportion*n)\n",
    "    n_test = int(args.test_proportion*n)\n",
    "    \n",
    "    # Give data point a split attribute\n",
    "    for item in item_list[:n_train]:\n",
    "        item['split'] = 'train'\n",
    "    for item in item_list[n_train:n_train+n_val]:\n",
    "        item['split'] = 'val'\n",
    "    for item in item_list[n_train+n_val:]:\n",
    "        item['split'] = 'test'  \n",
    "    \n",
    "    # Add to final list\n",
    "    final_list.extend(item_list)"
   ]
  },
  {
   "cell_type": "code",
   "execution_count": 222,
   "metadata": {},
   "outputs": [],
   "source": [
    "# Read raw data\n",
    "surnames = pd.read_csv(args.raw_dataset_csv, header=0, index_col=False)"
   ]
  },
  {
   "cell_type": "code",
   "execution_count": 223,
   "metadata": {},
   "outputs": [
    {
     "data": {
      "text/html": [
       "<div>\n",
       "<style scoped>\n",
       "    .dataframe tbody tr th:only-of-type {\n",
       "        vertical-align: middle;\n",
       "    }\n",
       "\n",
       "    .dataframe tbody tr th {\n",
       "        vertical-align: top;\n",
       "    }\n",
       "\n",
       "    .dataframe thead th {\n",
       "        text-align: right;\n",
       "    }\n",
       "</style>\n",
       "<table border=\"1\" class=\"dataframe\">\n",
       "  <thead>\n",
       "    <tr style=\"text-align: right;\">\n",
       "      <th></th>\n",
       "      <th>surname</th>\n",
       "      <th>nationality</th>\n",
       "    </tr>\n",
       "  </thead>\n",
       "  <tbody>\n",
       "    <tr>\n",
       "      <th>0</th>\n",
       "      <td>apunto vez quitada operaciones remanente recur...</td>\n",
       "      <td>0</td>\n",
       "    </tr>\n",
       "    <tr>\n",
       "      <th>1</th>\n",
       "      <td>el sistema simplemente crecimiento piramide po...</td>\n",
       "      <td>0</td>\n",
       "    </tr>\n",
       "    <tr>\n",
       "      <th>2</th>\n",
       "      <td>el sistema simplemente crecimiento piramide po...</td>\n",
       "      <td>0</td>\n",
       "    </tr>\n",
       "    <tr>\n",
       "      <th>3</th>\n",
       "      <td>apunto vez quitada operaciones remanente recur...</td>\n",
       "      <td>0</td>\n",
       "    </tr>\n",
       "    <tr>\n",
       "      <th>4</th>\n",
       "      <td>administra millones pesos ahorro familias entr...</td>\n",
       "      <td>0</td>\n",
       "    </tr>\n",
       "  </tbody>\n",
       "</table>\n",
       "</div>"
      ],
      "text/plain": [
       "                                             surname  nationality\n",
       "0  apunto vez quitada operaciones remanente recur...            0\n",
       "1  el sistema simplemente crecimiento piramide po...            0\n",
       "2  el sistema simplemente crecimiento piramide po...            0\n",
       "3  apunto vez quitada operaciones remanente recur...            0\n",
       "4  administra millones pesos ahorro familias entr...            0"
      ]
     },
     "execution_count": 223,
     "metadata": {},
     "output_type": "execute_result"
    }
   ],
   "source": [
    "surnames.head()"
   ]
  },
  {
   "cell_type": "code",
   "execution_count": 224,
   "metadata": {},
   "outputs": [],
   "source": [
    "# Splitting train by nationality\n",
    "# Create dict\n",
    "by_nationality = defaultdict(list)\n",
    "for _, row in surnames.iterrows():\n",
    "    by_nationality[row.nationality].append(row.to_dict())"
   ]
  },
  {
   "cell_type": "code",
   "execution_count": 225,
   "metadata": {},
   "outputs": [],
   "source": [
    "# Create split data\n",
    "final_list = []\n",
    "np.random.seed(args.seed)\n",
    "for _, item_list in sorted(by_nationality.items()):\n",
    "    np.random.shuffle(item_list)\n",
    "    n = len(item_list)\n",
    "    n_train = int(args.train_proportion*n)\n",
    "    n_val = int(args.val_proportion*n)\n",
    "    n_test = int(args.test_proportion*n)\n",
    "    \n",
    "    # Give data point a split attribute\n",
    "    for item in item_list[:n_train]:\n",
    "        item['split'] = 'train'\n",
    "    for item in item_list[n_train:n_train+n_val]:\n",
    "        item['split'] = 'val'\n",
    "    for item in item_list[n_train+n_val:]:\n",
    "        item['split'] = 'test'  \n",
    "    \n",
    "    # Add to final list\n",
    "    final_list.extend(item_list)"
   ]
  },
  {
   "cell_type": "code",
   "execution_count": 226,
   "metadata": {},
   "outputs": [],
   "source": [
    "# Write split data to file\n",
    "final_surnames = pd.DataFrame(final_list)\n",
    "# Write munged data to CSV\n",
    "final_surnames.to_csv(args.output_munged_csv, index=False)"
   ]
  },
  {
   "cell_type": "markdown",
   "metadata": {},
   "source": [
    "## Vectorize data"
   ]
  },
  {
   "cell_type": "code",
   "execution_count": 227,
   "metadata": {},
   "outputs": [],
   "source": [
    "class Vocabulary(object):\n",
    "    \"\"\"Class to process text and extract vocabulary for mapping\"\"\"\n",
    "\n",
    "    def __init__(self, token_to_idx=None, add_unk=True, unk_token=\"<UNK>\"):\n",
    "        \"\"\"\n",
    "        Args:\n",
    "            token_to_idx (dict): a pre-existing map of tokens to indices\n",
    "            add_unk (bool): a flag that indicates whether to add the UNK token\n",
    "            unk_token (str): the UNK token to add into the Vocabulary\n",
    "        \"\"\"\n",
    "\n",
    "        if token_to_idx is None:\n",
    "            token_to_idx = {}\n",
    "        self._token_to_idx = token_to_idx\n",
    "\n",
    "        self._idx_to_token = {idx: token \n",
    "                              for token, idx in self._token_to_idx.items()}\n",
    "        \n",
    "        self._add_unk = add_unk\n",
    "        self._unk_token = unk_token\n",
    "        \n",
    "        self.unk_index = -1\n",
    "        if add_unk:\n",
    "            self.unk_index = self.add_token(unk_token) \n",
    "        \n",
    "        \n",
    "    def to_serializable(self):\n",
    "        \"\"\" returns a dictionary that can be serialized \"\"\"\n",
    "        return {'token_to_idx': self._token_to_idx, \n",
    "                'add_unk': self._add_unk, \n",
    "                'unk_token': self._unk_token}\n",
    "\n",
    "    @classmethod\n",
    "    def from_serializable(cls, contents):\n",
    "        \"\"\" instantiates the Vocabulary from a serialized dictionary \"\"\"\n",
    "        return cls(**contents)\n",
    "\n",
    "    def add_token(self, token):\n",
    "        \"\"\"Update mapping dicts based on the token.\n",
    "\n",
    "        Args:\n",
    "            token (str): the item to add into the Vocabulary\n",
    "        Returns:\n",
    "            index (int): the integer corresponding to the token\n",
    "        \"\"\"\n",
    "        try:\n",
    "            index = self._token_to_idx[token]\n",
    "        except KeyError:\n",
    "            index = len(self._token_to_idx)\n",
    "            self._token_to_idx[token] = index\n",
    "            self._idx_to_token[index] = token\n",
    "        return index\n",
    "    \n",
    "    def add_many(self, tokens):\n",
    "        \"\"\"Add a list of tokens into the Vocabulary\n",
    "        \n",
    "        Args:\n",
    "            tokens (list): a list of string tokens\n",
    "        Returns:\n",
    "            indices (list): a list of indices corresponding to the tokens\n",
    "        \"\"\"\n",
    "        return [self.add_token(token) for token in tokens]\n",
    "\n",
    "    def lookup_token(self, token):\n",
    "        \"\"\"Retrieve the index associated with the token \n",
    "          or the UNK index if token isn't present.\n",
    "        \n",
    "        Args:\n",
    "            token (str): the token to look up \n",
    "        Returns:\n",
    "            index (int): the index corresponding to the token\n",
    "        Notes:\n",
    "            `unk_index` needs to be >=0 (having been added into the Vocabulary) \n",
    "              for the UNK functionality \n",
    "        \"\"\"\n",
    "        if self.unk_index >= 0:\n",
    "            return self._token_to_idx.get(token, self.unk_index)\n",
    "        else:\n",
    "            return self._token_to_idx[token]\n",
    "\n",
    "    def lookup_index(self, index):\n",
    "        \"\"\"Return the token associated with the index\n",
    "        \n",
    "        Args: \n",
    "            index (int): the index to look up\n",
    "        Returns:\n",
    "            token (str): the token corresponding to the index\n",
    "        Raises:\n",
    "            KeyError: if the index is not in the Vocabulary\n",
    "        \"\"\"\n",
    "        if index not in self._idx_to_token:\n",
    "            raise KeyError(\"the index (%d) is not in the Vocabulary\" % index)\n",
    "        return self._idx_to_token[index]\n",
    "\n",
    "    def __str__(self):\n",
    "        return \"<Vocabulary(size=%d)>\" % len(self)\n",
    "\n",
    "    def __len__(self):\n",
    "        return len(self._token_to_idx)"
   ]
  },
  {
   "cell_type": "code",
   "execution_count": 228,
   "metadata": {},
   "outputs": [],
   "source": [
    "class SurnameVectorizer(object):\n",
    "    \"\"\" The Vectorizer which coordinates the Vocabularies and puts them to use\"\"\"\n",
    "    def __init__(self, surname_vocab, nationality_vocab, max_surname_length):\n",
    "        \"\"\"\n",
    "        Args:\n",
    "            surname_vocab (Vocabulary): maps characters to integers\n",
    "            nationality_vocab (Vocabulary): maps nationalities to integers\n",
    "            max_surname_length (int): the length of the longest surname\n",
    "        \"\"\"\n",
    "        self.surname_vocab = surname_vocab\n",
    "        self.nationality_vocab = nationality_vocab\n",
    "        self._max_surname_length = max_surname_length\n",
    "\n",
    "    def vectorize(self, surname):\n",
    "        \"\"\"\n",
    "        Args:\n",
    "            surname (str): the surname\n",
    "        Returns:\n",
    "            one_hot_matrix (np.ndarray): a matrix of one-hot vectors\n",
    "        \"\"\"\n",
    "\n",
    "        one_hot_matrix_size = (len(self.surname_vocab), self._max_surname_length)\n",
    "        one_hot_matrix = np.zeros(one_hot_matrix_size, dtype=np.float32)\n",
    "                               \n",
    "        for position_index, character in enumerate(surname):\n",
    "            character_index = self.surname_vocab.lookup_token(character)\n",
    "            one_hot_matrix[character_index][position_index] = 1\n",
    "        \n",
    "        return one_hot_matrix\n",
    "\n",
    "    @classmethod\n",
    "    def from_dataframe(cls, surname_df):\n",
    "        \"\"\"Instantiate the vectorizer from the dataset dataframe\n",
    "        \n",
    "        Args:\n",
    "            surname_df (pandas.DataFrame): the surnames dataset\n",
    "        Returns:\n",
    "            an instance of the SurnameVectorizer\n",
    "        \"\"\"\n",
    "        surname_vocab = Vocabulary(unk_token=\"@\")\n",
    "        nationality_vocab = Vocabulary(add_unk=False)\n",
    "        max_surname_length = 0\n",
    "\n",
    "        for index, row in surname_df.iterrows():\n",
    "            max_surname_length = max(max_surname_length, len(row.surname))\n",
    "            for letter in row.surname:\n",
    "                surname_vocab.add_token(letter)\n",
    "            nationality_vocab.add_token(row.nationality)\n",
    "\n",
    "        return cls(surname_vocab, nationality_vocab, max_surname_length)\n",
    "\n",
    "    @classmethod\n",
    "    def from_serializable(cls, contents):\n",
    "        surname_vocab = Vocabulary.from_serializable(contents['surname_vocab'])\n",
    "        nationality_vocab =  Vocabulary.from_serializable(contents['nationality_vocab'])\n",
    "        return cls(surname_vocab=surname_vocab, nationality_vocab=nationality_vocab, \n",
    "                   max_surname_length=contents['max_surname_length'])\n",
    "\n",
    "    def to_serializable(self):\n",
    "        return {'surname_vocab': self.surname_vocab.to_serializable(),\n",
    "                'nationality_vocab': self.nationality_vocab.to_serializable(), \n",
    "                'max_surname_length': self._max_surname_length}\n"
   ]
  },
  {
   "cell_type": "code",
   "execution_count": 229,
   "metadata": {},
   "outputs": [],
   "source": [
    "class SurnameDataset(Dataset):\n",
    "    def __init__(self, surname_df, vectorizer):\n",
    "        \"\"\"\n",
    "        Args:\n",
    "            name_df (pandas.DataFrame): the dataset\n",
    "            vectorizer (SurnameVectorizer): vectorizer instatiated from dataset\n",
    "        \"\"\"\n",
    "        self.surname_df = surname_df\n",
    "        self._vectorizer = vectorizer\n",
    "        self.train_df = self.surname_df[self.surname_df.split=='train']\n",
    "        self.train_size = len(self.train_df)\n",
    "\n",
    "        self.val_df = self.surname_df[self.surname_df.split=='val']\n",
    "        self.validation_size = len(self.val_df)\n",
    "\n",
    "        self.test_df = self.surname_df[self.surname_df.split=='test']\n",
    "        self.test_size = len(self.test_df)\n",
    "\n",
    "        self._lookup_dict = {'train': (self.train_df, self.train_size),\n",
    "                             'val': (self.val_df, self.validation_size),\n",
    "                             'test': (self.test_df, self.test_size)}\n",
    "\n",
    "        self.set_split('train')\n",
    "        \n",
    "        # Class weights\n",
    "        class_counts = surname_df.nationality.value_counts().to_dict()\n",
    "        def sort_key(item):\n",
    "            return self._vectorizer.nationality_vocab.lookup_token(item[0])\n",
    "        sorted_counts = sorted(class_counts.items(), key=sort_key)\n",
    "        frequencies = [count for _, count in sorted_counts]\n",
    "        self.class_weights = 1.0 / torch.tensor(frequencies, dtype=torch.float32)\n",
    "\n",
    "\n",
    "    @classmethod\n",
    "    def load_dataset_and_make_vectorizer(cls, surname_csv):\n",
    "        \"\"\"Load dataset and make a new vectorizer from scratch\n",
    "        \n",
    "        Args:\n",
    "            surname_csv (str): location of the dataset\n",
    "        Returns:\n",
    "            an instance of SurnameDataset\n",
    "        \"\"\"\n",
    "        surname_df = pd.read_csv(surname_csv)\n",
    "        train_surname_df = surname_df[surname_df.split=='train']\n",
    "        return cls(surname_df, SurnameVectorizer.from_dataframe(train_surname_df))\n",
    "\n",
    "    @classmethod\n",
    "    def load_dataset_and_load_vectorizer(cls, surname_csv, vectorizer_filepath):\n",
    "        \"\"\"Load dataset and the corresponding vectorizer. \n",
    "        Used in the case in the vectorizer has been cached for re-use\n",
    "        \n",
    "        Args:\n",
    "            surname_csv (str): location of the dataset\n",
    "            vectorizer_filepath (str): location of the saved vectorizer\n",
    "        Returns:\n",
    "            an instance of SurnameDataset\n",
    "        \"\"\"\n",
    "        surname_df = pd.read_csv(surname_csv)\n",
    "        vectorizer = cls.load_vectorizer_only(vectorizer_filepath)\n",
    "        return cls(surname_df, vectorizer)\n",
    "\n",
    "    @staticmethod\n",
    "    def load_vectorizer_only(vectorizer_filepath):\n",
    "        \"\"\"a static method for loading the vectorizer from file\n",
    "        \n",
    "        Args:\n",
    "            vectorizer_filepath (str): the location of the serialized vectorizer\n",
    "        Returns:\n",
    "            an instance of SurnameDataset\n",
    "        \"\"\"\n",
    "        with open(vectorizer_filepath) as fp:\n",
    "            return SurnameVectorizer.from_serializable(json.load(fp))\n",
    "\n",
    "    def save_vectorizer(self, vectorizer_filepath):\n",
    "        \"\"\"saves the vectorizer to disk using json\n",
    "        \n",
    "        Args:\n",
    "            vectorizer_filepath (str): the location to save the vectorizer\n",
    "        \"\"\"\n",
    "        with open(vectorizer_filepath, \"w\") as fp:\n",
    "            json.dump(self._vectorizer.to_serializable(), fp)\n",
    "\n",
    "    def get_vectorizer(self):\n",
    "        \"\"\" returns the vectorizer \"\"\"\n",
    "        return self._vectorizer\n",
    "\n",
    "    def set_split(self, split=\"train\"):\n",
    "        \"\"\" selects the splits in the dataset using a column in the dataframe \"\"\"\n",
    "        self._target_split = split\n",
    "        self._target_df, self._target_size = self._lookup_dict[split]\n",
    "\n",
    "    def __len__(self):\n",
    "        return self._target_size\n",
    "\n",
    "    def __getitem__(self, index):\n",
    "        \"\"\"the primary entry point method for PyTorch datasets\n",
    "        \n",
    "        Args:\n",
    "            index (int): the index to the data point \n",
    "        Returns:\n",
    "            a dictionary holding the data point's features (x_data) and label (y_target)\n",
    "        \"\"\"\n",
    "        row = self._target_df.iloc[index]\n",
    "\n",
    "        surname_matrix = \\\n",
    "            self._vectorizer.vectorize(row.surname)\n",
    "\n",
    "        nationality_index = \\\n",
    "            self._vectorizer.nationality_vocab.lookup_token(row.nationality)\n",
    "\n",
    "        return {'x_surname': surname_matrix,\n",
    "                'y_nationality': nationality_index}\n",
    "\n",
    "    def get_num_batches(self, batch_size):\n",
    "        \"\"\"Given a batch size, return the number of batches in the dataset\n",
    "        \n",
    "        Args:\n",
    "            batch_size (int)\n",
    "        Returns:\n",
    "            number of batches in the dataset\n",
    "        \"\"\"\n",
    "        return len(self) // batch_size\n",
    "\n",
    "    \n",
    "def generate_batches(dataset, batch_size, shuffle=True,\n",
    "                     drop_last=True, device=\"cpu\"):\n",
    "    \"\"\"\n",
    "    A generator function which wraps the PyTorch DataLoader. It will \n",
    "      ensure each tensor is on the write device location.\n",
    "    \"\"\"\n",
    "    dataloader = DataLoader(dataset=dataset, batch_size=batch_size,\n",
    "                            shuffle=shuffle, drop_last=drop_last)\n",
    "\n",
    "    for data_dict in dataloader:\n",
    "        out_data_dict = {}\n",
    "        for name, tensor in data_dict.items():\n",
    "            out_data_dict[name] = data_dict[name].to(device)\n",
    "        yield out_data_dict"
   ]
  },
  {
   "cell_type": "markdown",
   "metadata": {},
   "source": [
    "## Classifier"
   ]
  },
  {
   "cell_type": "code",
   "execution_count": 230,
   "metadata": {},
   "outputs": [],
   "source": [
    "class SurnameClassifier(nn.Module):\n",
    "    def __init__(self, initial_num_channels, num_classes, num_channels):\n",
    "        \"\"\"\n",
    "        Args:\n",
    "            initial_num_channels (int): size of the incoming feature vector\n",
    "            num_classes (int): size of the output prediction vector\n",
    "            num_channels (int): constant channel size to use throughout network\n",
    "        \"\"\"\n",
    "        super(SurnameClassifier, self).__init__()\n",
    "        \n",
    "        self.convnet = nn.Sequential(\n",
    "            nn.Conv1d(in_channels=initial_num_channels, \n",
    "                      out_channels=num_channels, kernel_size=3),\n",
    "            nn.ELU(),\n",
    "            nn.Conv1d(in_channels=num_channels, out_channels=num_channels, \n",
    "                      kernel_size=3, stride=2),\n",
    "            nn.ELU(),\n",
    "            nn.Conv1d(in_channels=num_channels, out_channels=num_channels, \n",
    "                      kernel_size=3, stride=2),\n",
    "            nn.ELU(),\n",
    "            nn.Conv1d(in_channels=num_channels, out_channels=num_channels, \n",
    "                      kernel_size=3, stride=2),\n",
    "            nn.ELU(),\n",
    "            nn.Conv1d(in_channels=num_channels, out_channels=num_channels, \n",
    "                      kernel_size=3, stride=2),\n",
    "            nn.ELU(),\n",
    "            nn.Conv1d(in_channels=num_channels, out_channels=num_channels, \n",
    "                      kernel_size=3, stride=2),\n",
    "            nn.ELU(),\n",
    "            nn.Conv1d(in_channels=num_channels, out_channels=num_channels, \n",
    "                      kernel_size=3, stride=2),\n",
    "            nn.ELU(),\n",
    "            nn.Conv1d(in_channels=num_channels, out_channels=num_channels, \n",
    "                      kernel_size=3, stride=3),\n",
    "            nn.ELU(),\n",
    "            nn.Conv1d(in_channels=num_channels, out_channels=num_channels, \n",
    "                      kernel_size=4, stride=3),\n",
    "            nn.ELU(),\n",
    "            nn.Conv1d(in_channels=num_channels, out_channels=num_channels, \n",
    "                      kernel_size=2),\n",
    "            nn.ELU()\n",
    "        )\n",
    "        self.fc = nn.Linear(num_channels, num_classes)\n",
    "\n",
    "    def forward(self, x_surname, apply_softmax=False):\n",
    "        \"\"\"The forward pass of the classifier\n",
    "        \n",
    "        Args:\n",
    "            x_surname (torch.Tensor): an input data tensor. \n",
    "                x_surname.shape should be (batch, initial_num_channels, max_surname_length)\n",
    "            apply_softmax (bool): a flag for the softmax activation\n",
    "                should be false if used with the Cross Entropy losses\n",
    "        Returns:\n",
    "            the resulting tensor. tensor.shape should be (batch, num_classes)\n",
    "        \"\"\"\n",
    "        features = self.convnet(x_surname)#.squeeze(dim=2)\n",
    "        # Flatten the features from the convnet\n",
    "        features = features.view(features.size(0), -1)  # Reshape to [batch_size, num_channels * output_size]\n",
    "       \n",
    "        prediction_vector = self.fc(features)\n",
    "\n",
    "        if apply_softmax:\n",
    "            prediction_vector = F.softmax(prediction_vector, dim=1)\n",
    "\n",
    "        return prediction_vector"
   ]
  },
  {
   "cell_type": "markdown",
   "metadata": {},
   "source": [
    "## Training"
   ]
  },
  {
   "cell_type": "code",
   "execution_count": 231,
   "metadata": {},
   "outputs": [],
   "source": [
    "def make_train_state(args):\n",
    "    return {'stop_early': False,\n",
    "            'early_stopping_step': 0,\n",
    "            'early_stopping_best_val': 1e8,\n",
    "            'learning_rate': args.learning_rate,\n",
    "            'epoch_index': 0,\n",
    "            'train_loss': [],\n",
    "            'train_acc': [],\n",
    "            'val_loss': [],\n",
    "            'val_acc': [],\n",
    "            'test_loss': -1,\n",
    "            'test_acc': -1,\n",
    "            'model_filename': args.model_state_file}"
   ]
  },
  {
   "cell_type": "code",
   "execution_count": 232,
   "metadata": {},
   "outputs": [],
   "source": [
    "def update_train_state(args, model, train_state):\n",
    "    \"\"\"Handle the training state updates.\n",
    "\n",
    "    Components:\n",
    "     - Early Stopping: Prevent overfitting.\n",
    "     - Model Checkpoint: Model is saved if the model is better\n",
    "\n",
    "    :param args: main arguments\n",
    "    :param model: model to train\n",
    "    :param train_state: a dictionary representing the training state values\n",
    "    :returns:\n",
    "        a new train_state\n",
    "    \"\"\"\n",
    "\n",
    "    # Save one model at least\n",
    "    if train_state['epoch_index'] == 0:\n",
    "        torch.save(model.state_dict(), train_state['model_filename'])\n",
    "        train_state['stop_early'] = False\n",
    "\n",
    "    # Save model if performance improved\n",
    "    elif train_state['epoch_index'] >= 1:\n",
    "        loss_tm1, loss_t = train_state['val_loss'][-2:]\n",
    "\n",
    "        # If loss worsened\n",
    "        if loss_t >= train_state['early_stopping_best_val']:\n",
    "            # Update step\n",
    "            train_state['early_stopping_step'] += 1\n",
    "        # Loss decreased\n",
    "        else:\n",
    "            # Save the best model\n",
    "            if loss_t < train_state['early_stopping_best_val']:\n",
    "                torch.save(model.state_dict(), train_state['model_filename'])\n",
    "\n",
    "            # Reset early stopping step\n",
    "            train_state['early_stopping_step'] = 0\n",
    "\n",
    "        # Stop early ?\n",
    "        train_state['stop_early'] = \\\n",
    "            train_state['early_stopping_step'] >= args.early_stopping_criteria\n",
    "\n",
    "    return train_state"
   ]
  },
  {
   "cell_type": "code",
   "execution_count": 233,
   "metadata": {},
   "outputs": [],
   "source": [
    "def compute_accuracy(y_pred, y_target):\n",
    "    y_pred_indices = y_pred.max(dim=1)[1]\n",
    "    n_correct = torch.eq(y_pred_indices, y_target).sum().item()\n",
    "    return n_correct / len(y_pred_indices) * 100"
   ]
  },
  {
   "cell_type": "code",
   "execution_count": 234,
   "metadata": {},
   "outputs": [
    {
     "name": "stdout",
     "output_type": "stream",
     "text": [
      "Expanded filepaths: \n",
      "\tdata/surnames/vectorizer.json\n",
      "\tdata/surnames/model.pth\n",
      "Using MPS: True\n"
     ]
    }
   ],
   "source": [
    "args = Namespace(\n",
    "    # Data and Path information\n",
    "    surname_csv=\"data/surnames/surnames_with_splits.csv\",\n",
    "    vectorizer_file=\"vectorizer.json\",\n",
    "    model_state_file=\"model.pth\",\n",
    "    save_dir=\"data/surnames\",\n",
    "    # Model hyper parameters\n",
    "    hidden_dim=30,\n",
    "    num_channels=64,\n",
    "    # Training hyper parameters\n",
    "    seed=1337,\n",
    "    learning_rate=0.00001,\n",
    "    batch_size=64,\n",
    "    num_epochs=30,\n",
    "    early_stopping_criteria=5,\n",
    "    dropout_p=0.1,\n",
    "    # Runtime options\n",
    "    cuda=True,\n",
    "    reload_from_files=False,\n",
    "    expand_filepaths_to_save_dir=True,\n",
    "    catch_keyboard_interrupt=True\n",
    ")\n",
    "\n",
    "\n",
    "if args.expand_filepaths_to_save_dir:\n",
    "    args.vectorizer_file = os.path.join(args.save_dir,\n",
    "                                        args.vectorizer_file)\n",
    "\n",
    "    args.model_state_file = os.path.join(args.save_dir,\n",
    "                                         args.model_state_file)\n",
    "    \n",
    "    print(\"Expanded filepaths: \")\n",
    "    print(\"\\t{}\".format(args.vectorizer_file))\n",
    "    print(\"\\t{}\".format(args.model_state_file))\n",
    "    \n",
    "# Check CUDA\n",
    "if not torch.cuda.is_available():\n",
    "    args.cuda = True\n",
    "\n",
    "args.device = torch.device(\"mps\" if args.cuda else \"cpu\")\n",
    "print(\"Using MPS: {}\".format(args.cuda))\n",
    "\n",
    "def set_seed_everywhere(seed, cuda):\n",
    "    np.random.seed(seed)\n",
    "    torch.manual_seed(seed)\n",
    "    if cuda:\n",
    "        torch.cuda.manual_seed_all(seed)\n",
    "        \n",
    "def handle_dirs(dirpath):\n",
    "    if not os.path.exists(dirpath):\n",
    "        os.makedirs(dirpath)\n",
    "        \n",
    "# Set seed for reproducibility\n",
    "set_seed_everywhere(args.seed, args.cuda)\n",
    "\n",
    "# handle dirs\n",
    "handle_dirs(args.save_dir)"
   ]
  },
  {
   "cell_type": "code",
   "execution_count": 235,
   "metadata": {},
   "outputs": [],
   "source": [
    "if args.reload_from_files:\n",
    "    # training from a checkpoint\n",
    "    dataset = SurnameDataset.load_dataset_and_load_vectorizer(args.surname_csv,\n",
    "                                                              args.vectorizer_file)\n",
    "else:\n",
    "    # create dataset and vectorizer\n",
    "    dataset = SurnameDataset.load_dataset_and_make_vectorizer(args.surname_csv)\n",
    "    dataset.save_vectorizer(args.vectorizer_file)\n",
    "    \n",
    "vectorizer = dataset.get_vectorizer()\n",
    "\n",
    "classifier = SurnameClassifier(initial_num_channels=len(vectorizer.surname_vocab), \n",
    "                               num_classes=len(vectorizer.nationality_vocab),\n",
    "                               num_channels=args.num_channels)\n",
    "\n",
    "classifer = classifier.to(args.device)\n",
    "dataset.class_weights = dataset.class_weights.to(args.device)\n",
    "\n",
    "loss_func = nn.CrossEntropyLoss(weight=dataset.class_weights)\n",
    "optimizer = optim.Adam(classifier.parameters(), lr=args.learning_rate)\n",
    "scheduler = optim.lr_scheduler.ReduceLROnPlateau(optimizer=optimizer,\n",
    "                                           mode='min', factor=0.5,\n",
    "                                           patience=1)\n",
    "\n",
    "train_state = make_train_state(args)"
   ]
  },
  {
   "cell_type": "code",
   "execution_count": 236,
   "metadata": {},
   "outputs": [
    {
     "data": {
      "text/plain": [
       "SurnameClassifier(\n",
       "  (convnet): Sequential(\n",
       "    (0): Conv1d(29, 64, kernel_size=(3,), stride=(1,))\n",
       "    (1): ELU(alpha=1.0)\n",
       "    (2): Conv1d(64, 64, kernel_size=(3,), stride=(2,))\n",
       "    (3): ELU(alpha=1.0)\n",
       "    (4): Conv1d(64, 64, kernel_size=(3,), stride=(2,))\n",
       "    (5): ELU(alpha=1.0)\n",
       "    (6): Conv1d(64, 64, kernel_size=(3,), stride=(2,))\n",
       "    (7): ELU(alpha=1.0)\n",
       "    (8): Conv1d(64, 64, kernel_size=(3,), stride=(2,))\n",
       "    (9): ELU(alpha=1.0)\n",
       "    (10): Conv1d(64, 64, kernel_size=(3,), stride=(2,))\n",
       "    (11): ELU(alpha=1.0)\n",
       "    (12): Conv1d(64, 64, kernel_size=(3,), stride=(2,))\n",
       "    (13): ELU(alpha=1.0)\n",
       "    (14): Conv1d(64, 64, kernel_size=(3,), stride=(3,))\n",
       "    (15): ELU(alpha=1.0)\n",
       "    (16): Conv1d(64, 64, kernel_size=(4,), stride=(3,))\n",
       "    (17): ELU(alpha=1.0)\n",
       "    (18): Conv1d(64, 64, kernel_size=(2,), stride=(1,))\n",
       "    (19): ELU(alpha=1.0)\n",
       "  )\n",
       "  (fc): Linear(in_features=64, out_features=2, bias=True)\n",
       ")"
      ]
     },
     "execution_count": 236,
     "metadata": {},
     "output_type": "execute_result"
    }
   ],
   "source": [
    "classifier"
   ]
  },
  {
   "cell_type": "code",
   "execution_count": 237,
   "metadata": {},
   "outputs": [
    {
     "data": {
      "application/vnd.jupyter.widget-view+json": {
       "model_id": "1b729a5c953b4e81b3de0372731beeba",
       "version_major": 2,
       "version_minor": 0
      },
      "text/plain": [
       "training routine:   0%|          | 0/30 [00:00<?, ?it/s]"
      ]
     },
     "metadata": {},
     "output_type": "display_data"
    },
    {
     "data": {
      "application/vnd.jupyter.widget-view+json": {
       "model_id": "d86b35e0b3aa4928a9b890874f604d67",
       "version_major": 2,
       "version_minor": 0
      },
      "text/plain": [
       "split=train:   0%|          | 0/111 [00:00<?, ?it/s]"
      ]
     },
     "metadata": {},
     "output_type": "display_data"
    },
    {
     "data": {
      "application/vnd.jupyter.widget-view+json": {
       "model_id": "b6c51acc8a6a4d25bc42dc1cc67c5bf3",
       "version_major": 2,
       "version_minor": 0
      },
      "text/plain": [
       "split=val:   0%|          | 0/23 [00:00<?, ?it/s]"
      ]
     },
     "metadata": {},
     "output_type": "display_data"
    }
   ],
   "source": [
    "epoch_bar = tqdm(desc='training routine', \n",
    "                          total=args.num_epochs,\n",
    "                          position=0)\n",
    "\n",
    "dataset.set_split('train')\n",
    "train_bar = tqdm(desc='split=train',\n",
    "                          total=dataset.get_num_batches(args.batch_size), \n",
    "                          position=1, \n",
    "                          leave=True)\n",
    "dataset.set_split('val')\n",
    "val_bar = tqdm(desc='split=val',\n",
    "                        total=dataset.get_num_batches(args.batch_size), \n",
    "                        position=1, \n",
    "                        leave=True)\n",
    "\n",
    "try:\n",
    "    for epoch_index in range(args.num_epochs):\n",
    "        train_state['epoch_index'] = epoch_index\n",
    "\n",
    "        # Iterate over training dataset\n",
    "\n",
    "        # setup: batch generator, set loss and acc to 0, set train mode on\n",
    "\n",
    "        dataset.set_split('train')\n",
    "        batch_generator = generate_batches(dataset, \n",
    "                                           batch_size=args.batch_size, \n",
    "                                           device=args.device)\n",
    "        running_loss = 0.0\n",
    "        running_acc = 0.0\n",
    "        classifier.train()\n",
    "\n",
    "        for batch_index, batch_dict in enumerate(batch_generator):\n",
    "            # the training routine is these 5 steps:\n",
    "\n",
    "            # --------------------------------------\n",
    "            # step 1. zero the gradients\n",
    "            optimizer.zero_grad()\n",
    "\n",
    "            # step 2. compute the output\n",
    "            y_pred = classifier(batch_dict['x_surname'])\n",
    "\n",
    "            # step 3. compute the loss\n",
    "            loss = loss_func(y_pred, batch_dict['y_nationality'])\n",
    "            loss_t = loss.item()\n",
    "            running_loss += (loss_t - running_loss) / (batch_index + 1)\n",
    "\n",
    "            # step 4. use loss to produce gradients\n",
    "            loss.backward()\n",
    "\n",
    "            # step 5. use optimizer to take gradient step\n",
    "            optimizer.step()\n",
    "            # -----------------------------------------\n",
    "            # compute the accuracy\n",
    "            acc_t = compute_accuracy(y_pred, batch_dict['y_nationality'])\n",
    "            running_acc += (acc_t - running_acc) / (batch_index + 1)\n",
    "\n",
    "            # update bar\n",
    "            train_bar.set_postfix(loss=running_loss, acc=running_acc, \n",
    "                            epoch=epoch_index)\n",
    "            train_bar.update()\n",
    "\n",
    "        train_state['train_loss'].append(running_loss)\n",
    "        train_state['train_acc'].append(running_acc)\n",
    "\n",
    "        # Iterate over val dataset\n",
    "\n",
    "        # setup: batch generator, set loss and acc to 0; set eval mode on\n",
    "        dataset.set_split('val')\n",
    "        batch_generator = generate_batches(dataset, \n",
    "                                           batch_size=args.batch_size, \n",
    "                                           device=args.device)\n",
    "        running_loss = 0.\n",
    "        running_acc = 0.\n",
    "        classifier.eval()\n",
    "\n",
    "        for batch_index, batch_dict in enumerate(batch_generator):\n",
    "\n",
    "            # compute the output\n",
    "            y_pred =  classifier(batch_dict['x_surname'])\n",
    "\n",
    "            # step 3. compute the loss\n",
    "            loss = loss_func(y_pred, batch_dict['y_nationality'])\n",
    "            loss_t = loss.item()\n",
    "            running_loss += (loss_t - running_loss) / (batch_index + 1)\n",
    "\n",
    "            # compute the accuracy\n",
    "            acc_t = compute_accuracy(y_pred, batch_dict['y_nationality'])\n",
    "            running_acc += (acc_t - running_acc) / (batch_index + 1)\n",
    "            val_bar.set_postfix(loss=running_loss, acc=running_acc, \n",
    "                            epoch=epoch_index)\n",
    "            val_bar.update()\n",
    "\n",
    "        train_state['val_loss'].append(running_loss)\n",
    "        train_state['val_acc'].append(running_acc)\n",
    "\n",
    "        train_state = update_train_state(args=args, model=classifier,\n",
    "                                         train_state=train_state)\n",
    "\n",
    "        scheduler.step(train_state['val_loss'][-1])\n",
    "\n",
    "        if train_state['stop_early']:\n",
    "            break\n",
    "\n",
    "        train_bar.n = 0\n",
    "        val_bar.n = 0\n",
    "        epoch_bar.update()\n",
    "except KeyboardInterrupt:\n",
    "    print(\"Exiting loop\")"
   ]
  },
  {
   "cell_type": "code",
   "execution_count": 238,
   "metadata": {},
   "outputs": [
    {
     "name": "stdout",
     "output_type": "stream",
     "text": [
      "Test loss: 0.693135917186737;\n",
      "Test Accuracy: 50.74728260869565\n"
     ]
    }
   ],
   "source": [
    "classifier.load_state_dict(torch.load(train_state['model_filename']))\n",
    "\n",
    "classifier = classifier.to(args.device)\n",
    "dataset.class_weights = dataset.class_weights.to(args.device)\n",
    "loss_func = nn.CrossEntropyLoss(dataset.class_weights)\n",
    "\n",
    "dataset.set_split('test')\n",
    "batch_generator = generate_batches(dataset, \n",
    "                                   batch_size=args.batch_size, \n",
    "                                   device=args.device)\n",
    "running_loss = 0.\n",
    "running_acc = 0.\n",
    "classifier.eval()\n",
    "\n",
    "for batch_index, batch_dict in enumerate(batch_generator):\n",
    "    # compute the output\n",
    "    y_pred =  classifier(batch_dict['x_surname'])\n",
    "    \n",
    "    # compute the loss\n",
    "    loss = loss_func(y_pred, batch_dict['y_nationality'])\n",
    "    loss_t = loss.item()\n",
    "    running_loss += (loss_t - running_loss) / (batch_index + 1)\n",
    "\n",
    "    # compute the accuracy\n",
    "    acc_t = compute_accuracy(y_pred, batch_dict['y_nationality'])\n",
    "    running_acc += (acc_t - running_acc) / (batch_index + 1)\n",
    "\n",
    "train_state['test_loss'] = running_loss\n",
    "train_state['test_acc'] = running_acc\n",
    "print(\"Test loss: {};\".format(train_state['test_loss']))\n",
    "print(\"Test Accuracy: {}\".format(train_state['test_acc']))"
   ]
  },
  {
   "cell_type": "code",
   "execution_count": 239,
   "metadata": {},
   "outputs": [
    {
     "data": {
      "image/png": "[encoded data removed]",
      "text/plain": [
       "<Figure size 640x480 with 1 Axes>"
      ]
     },
     "metadata": {},
     "output_type": "display_data"
    }
   ],
   "source": [
    "import matplotlib.pyplot as plt\n",
    "plt.plot(train_state['train_loss'])\n",
    "plt.plot(train_state['val_loss'])\n",
    "plt.plot(train_state['test_loss']);"
   ]
  },
  {
   "cell_type": "code",
   "execution_count": null,
   "metadata": {},
   "outputs": [
    {
     "name": "stdout",
     "output_type": "stream",
     "text": [
      "economia -> 0 (p=0.50)\n"
     ]
    }
   ],
   "source": [
    "def predict_nationality(surname, classifier, vectorizer):\n",
    "    \"\"\"Predict the nationality from a new surname\n",
    "    \n",
    "    Args:\n",
    "        surname (str): the surname to classifier\n",
    "        classifier (SurnameClassifer): an instance of the classifier\n",
    "        vectorizer (SurnameVectorizer): the corresponding vectorizer\n",
    "    Returns:\n",
    "        a dictionary with the most likely nationality and its probability\n",
    "    \"\"\"\n",
    "    vectorized_surname = vectorizer.vectorize(surname)\n",
    "    vectorized_surname = torch.tensor(vectorized_surname).unsqueeze(0)\n",
    "    result = classifier(vectorized_surname, apply_softmax=True)\n",
    "\n",
    "    probability_values, indices = result.max(dim=1)\n",
    "    index = indices.item()\n",
    "\n",
    "    predicted_nationality = vectorizer.nationality_vocab.lookup_index(index)\n",
    "    probability_value = probability_values.item()\n",
    "\n",
    "    return {'nationality': predicted_nationality, 'probability': probability_value}\n",
    "new_surname = input(\"Enter a surname to classify: \")\n",
    "classifier = classifier.cpu()\n",
    "prediction = predict_nationality(new_surname, classifier, vectorizer)\n",
    "print(\"{} -> {} (p={:0.2f})\".format(new_surname,\n",
    "                                    prediction['nationality'],\n",
    "                                    prediction['probability']))"
   ]
  },
  {
   "cell_type": "code",
   "execution_count": null,
   "metadata": {},
   "outputs": [],
   "source": []
  }
 ],
 "metadata": {
  "kernelspec": {
   "display_name": "base",
   "language": "python",
   "name": "python3"
  },
  "language_info": {
   "codemirror_mode": {
    "name": "ipython",
    "version": 3
   },
   "file_extension": ".py",
   "mimetype": "text/x-python",
   "name": "python",
   "nbconvert_exporter": "python",
   "pygments_lexer": "ipython3",
   "version": "3.11.5"
  }
 },
 "nbformat": 4,
 "nbformat_minor": 2
}
